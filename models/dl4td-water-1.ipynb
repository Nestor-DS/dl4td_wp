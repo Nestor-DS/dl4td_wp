{
 "cells": [
  {
   "cell_type": "code",
   "execution_count": 1,
   "id": "b1581f2e",
   "metadata": {
    "execution": {
     "iopub.execute_input": "2024-03-29T03:53:10.226122Z",
     "iopub.status.busy": "2024-03-29T03:53:10.225670Z",
     "iopub.status.idle": "2024-03-29T03:53:29.037259Z",
     "shell.execute_reply": "2024-03-29T03:53:29.035799Z"
    },
    "papermill": {
     "duration": 18.830021,
     "end_time": "2024-03-29T03:53:29.040221",
     "exception": false,
     "start_time": "2024-03-29T03:53:10.210200",
     "status": "completed"
    },
    "tags": []
   },
   "outputs": [
    {
     "name": "stdout",
     "output_type": "stream",
     "text": [
      "Collecting dmba\r\n",
      "  Downloading dmba-0.2.4-py3-none-any.whl.metadata (1.9 kB)\r\n",
      "Requirement already satisfied: graphviz in /opt/conda/lib/python3.10/site-packages (from dmba) (0.20.2)\r\n",
      "Requirement already satisfied: matplotlib in /opt/conda/lib/python3.10/site-packages (from dmba) (3.7.5)\r\n",
      "Requirement already satisfied: numpy in /opt/conda/lib/python3.10/site-packages (from dmba) (1.26.4)\r\n",
      "Requirement already satisfied: pandas in /opt/conda/lib/python3.10/site-packages (from dmba) (2.2.1)\r\n",
      "Requirement already satisfied: scikit-learn in /opt/conda/lib/python3.10/site-packages (from dmba) (1.2.2)\r\n",
      "Requirement already satisfied: scipy in /opt/conda/lib/python3.10/site-packages (from dmba) (1.11.4)\r\n",
      "Requirement already satisfied: contourpy>=1.0.1 in /opt/conda/lib/python3.10/site-packages (from matplotlib->dmba) (1.2.0)\r\n",
      "Requirement already satisfied: cycler>=0.10 in /opt/conda/lib/python3.10/site-packages (from matplotlib->dmba) (0.12.1)\r\n",
      "Requirement already satisfied: fonttools>=4.22.0 in /opt/conda/lib/python3.10/site-packages (from matplotlib->dmba) (4.47.0)\r\n",
      "Requirement already satisfied: kiwisolver>=1.0.1 in /opt/conda/lib/python3.10/site-packages (from matplotlib->dmba) (1.4.5)\r\n",
      "Requirement already satisfied: packaging>=20.0 in /opt/conda/lib/python3.10/site-packages (from matplotlib->dmba) (21.3)\r\n",
      "Requirement already satisfied: pillow>=6.2.0 in /opt/conda/lib/python3.10/site-packages (from matplotlib->dmba) (9.5.0)\r\n",
      "Requirement already satisfied: pyparsing>=2.3.1 in /opt/conda/lib/python3.10/site-packages (from matplotlib->dmba) (3.1.1)\r\n",
      "Requirement already satisfied: python-dateutil>=2.7 in /opt/conda/lib/python3.10/site-packages (from matplotlib->dmba) (2.9.0.post0)\r\n",
      "Requirement already satisfied: pytz>=2020.1 in /opt/conda/lib/python3.10/site-packages (from pandas->dmba) (2023.3.post1)\r\n",
      "Requirement already satisfied: tzdata>=2022.7 in /opt/conda/lib/python3.10/site-packages (from pandas->dmba) (2023.4)\r\n",
      "Requirement already satisfied: joblib>=1.1.1 in /opt/conda/lib/python3.10/site-packages (from scikit-learn->dmba) (1.3.2)\r\n",
      "Requirement already satisfied: threadpoolctl>=2.0.0 in /opt/conda/lib/python3.10/site-packages (from scikit-learn->dmba) (3.2.0)\r\n",
      "Requirement already satisfied: six>=1.5 in /opt/conda/lib/python3.10/site-packages (from python-dateutil>=2.7->matplotlib->dmba) (1.16.0)\r\n",
      "Downloading dmba-0.2.4-py3-none-any.whl (11.8 MB)\r\n",
      "\u001b[2K   \u001b[90m━━━━━━━━━━━━━━━━━━━━━━━━━━━━━━━━━━━━━━━━\u001b[0m \u001b[32m11.8/11.8 MB\u001b[0m \u001b[31m55.4 MB/s\u001b[0m eta \u001b[36m0:00:00\u001b[0m\r\n",
      "\u001b[?25hInstalling collected packages: dmba\r\n",
      "Successfully installed dmba-0.2.4\r\n"
     ]
    }
   ],
   "source": [
    "#@title Instalación\n",
    "!pip install dmba"
   ]
  },
  {
   "cell_type": "code",
   "execution_count": 2,
   "id": "ec337ab0",
   "metadata": {
    "_cell_guid": "b1076dfc-b9ad-4769-8c92-a6c4dae69d19",
    "_uuid": "8f2839f25d086af736a60e9eeb907d3b93b6e0e5",
    "papermill": {
     "duration": 19.624793,
     "end_time": "2024-03-29T03:53:48.678752",
     "exception": false,
     "start_time": "2024-03-29T03:53:29.053959",
     "status": "completed"
    },
    "tags": []
   },
   "outputs": [],
   "source": [
    "import pandas as pd\n",
    "import numpy as np\n",
    "import matplotlib.pylab as plt\n",
    "import seaborn as sns \n",
    "import tensorflow as tf\n",
    "from sklearn.metrics import mean_absolute_error, mean_squared_error, roc_auc_score, classification_report, accuracy_score, log_loss\n",
    "from sklearn.model_selection import train_test_split, GridSearchCV, ShuffleSplit, RandomizedSearchCV\n",
    "from sklearn.preprocessing import MinMaxScaler\n",
    "from sklearn.ensemble import RandomForestClassifier\n",
    "from sklearn.neighbors import KNeighborsClassifier\n",
    "from sklearn.tree import DecisionTreeClassifier\n",
    "from sklearn.experimental import enable_iterative_imputer\n",
    "from sklearn.impute import IterativeImputer\n",
    "from sklearn.ensemble import IsolationForest\n",
    "from imblearn.over_sampling import RandomOverSampler\n",
    "from sklearn.neural_network import MLPClassifier\n",
    "from sklearn.utils import resample\n",
    "from dmba import plotDecisionTree\n",
    "from sklearn import preprocessing"
   ]
  },
  {
   "cell_type": "code",
   "execution_count": 3,
   "id": "36cb3b7b",
   "metadata": {
    "papermill": {
     "duration": 0.023909,
     "end_time": "2024-03-29T03:53:48.716412",
     "exception": false,
     "start_time": "2024-03-29T03:53:48.692503",
     "status": "completed"
    },
    "tags": []
   },
   "outputs": [],
   "source": [
    "import warnings\n",
    "\n",
    "warnings.filterwarnings(\"ignore\")"
   ]
  },
  {
   "cell_type": "code",
   "execution_count": 4,
   "id": "341fbd81",
   "metadata": {
    "papermill": {
     "duration": 0.069597,
     "end_time": "2024-03-29T03:53:48.799925",
     "exception": false,
     "start_time": "2024-03-29T03:53:48.730328",
     "status": "completed"
    },
    "tags": []
   },
   "outputs": [
    {
     "ename": "FileNotFoundError",
     "evalue": "[Errno 2] No such file or directory: '/kaggle/input/drinking-water-probability/drinking_water_potability.csv'",
     "output_type": "error",
     "traceback": [
      "\u001b[1;31m---------------------------------------------------------------------------\u001b[0m",
      "\u001b[1;31mFileNotFoundError\u001b[0m                         Traceback (most recent call last)",
      "Cell \u001b[1;32mIn[4], line 1\u001b[0m\n\u001b[1;32m----> 1\u001b[0m df \u001b[38;5;241m=\u001b[39m \u001b[43mpd\u001b[49m\u001b[38;5;241;43m.\u001b[39;49m\u001b[43mread_csv\u001b[49m\u001b[43m(\u001b[49m\u001b[38;5;124;43m'\u001b[39;49m\u001b[38;5;124;43m/kaggle/input/drinking-water-probability/drinking_water_potability.csv\u001b[39;49m\u001b[38;5;124;43m'\u001b[39;49m\u001b[43m)\u001b[49m\n\u001b[0;32m      2\u001b[0m df\u001b[38;5;241m.\u001b[39mhead(\u001b[38;5;241m5\u001b[39m)\n",
      "File \u001b[1;32mc:\\Users\\nesto\\anaconda3\\envs\\deep_learning\\lib\\site-packages\\pandas\\io\\parsers\\readers.py:948\u001b[0m, in \u001b[0;36mread_csv\u001b[1;34m(filepath_or_buffer, sep, delimiter, header, names, index_col, usecols, dtype, engine, converters, true_values, false_values, skipinitialspace, skiprows, skipfooter, nrows, na_values, keep_default_na, na_filter, verbose, skip_blank_lines, parse_dates, infer_datetime_format, keep_date_col, date_parser, date_format, dayfirst, cache_dates, iterator, chunksize, compression, thousands, decimal, lineterminator, quotechar, quoting, doublequote, escapechar, comment, encoding, encoding_errors, dialect, on_bad_lines, delim_whitespace, low_memory, memory_map, float_precision, storage_options, dtype_backend)\u001b[0m\n\u001b[0;32m    935\u001b[0m kwds_defaults \u001b[38;5;241m=\u001b[39m _refine_defaults_read(\n\u001b[0;32m    936\u001b[0m     dialect,\n\u001b[0;32m    937\u001b[0m     delimiter,\n\u001b[1;32m   (...)\u001b[0m\n\u001b[0;32m    944\u001b[0m     dtype_backend\u001b[38;5;241m=\u001b[39mdtype_backend,\n\u001b[0;32m    945\u001b[0m )\n\u001b[0;32m    946\u001b[0m kwds\u001b[38;5;241m.\u001b[39mupdate(kwds_defaults)\n\u001b[1;32m--> 948\u001b[0m \u001b[38;5;28;01mreturn\u001b[39;00m \u001b[43m_read\u001b[49m\u001b[43m(\u001b[49m\u001b[43mfilepath_or_buffer\u001b[49m\u001b[43m,\u001b[49m\u001b[43m \u001b[49m\u001b[43mkwds\u001b[49m\u001b[43m)\u001b[49m\n",
      "File \u001b[1;32mc:\\Users\\nesto\\anaconda3\\envs\\deep_learning\\lib\\site-packages\\pandas\\io\\parsers\\readers.py:611\u001b[0m, in \u001b[0;36m_read\u001b[1;34m(filepath_or_buffer, kwds)\u001b[0m\n\u001b[0;32m    608\u001b[0m _validate_names(kwds\u001b[38;5;241m.\u001b[39mget(\u001b[38;5;124m\"\u001b[39m\u001b[38;5;124mnames\u001b[39m\u001b[38;5;124m\"\u001b[39m, \u001b[38;5;28;01mNone\u001b[39;00m))\n\u001b[0;32m    610\u001b[0m \u001b[38;5;66;03m# Create the parser.\u001b[39;00m\n\u001b[1;32m--> 611\u001b[0m parser \u001b[38;5;241m=\u001b[39m TextFileReader(filepath_or_buffer, \u001b[38;5;241m*\u001b[39m\u001b[38;5;241m*\u001b[39mkwds)\n\u001b[0;32m    613\u001b[0m \u001b[38;5;28;01mif\u001b[39;00m chunksize \u001b[38;5;129;01mor\u001b[39;00m iterator:\n\u001b[0;32m    614\u001b[0m     \u001b[38;5;28;01mreturn\u001b[39;00m parser\n",
      "File \u001b[1;32mc:\\Users\\nesto\\anaconda3\\envs\\deep_learning\\lib\\site-packages\\pandas\\io\\parsers\\readers.py:1448\u001b[0m, in \u001b[0;36mTextFileReader.__init__\u001b[1;34m(self, f, engine, **kwds)\u001b[0m\n\u001b[0;32m   1445\u001b[0m     \u001b[38;5;28mself\u001b[39m\u001b[38;5;241m.\u001b[39moptions[\u001b[38;5;124m\"\u001b[39m\u001b[38;5;124mhas_index_names\u001b[39m\u001b[38;5;124m\"\u001b[39m] \u001b[38;5;241m=\u001b[39m kwds[\u001b[38;5;124m\"\u001b[39m\u001b[38;5;124mhas_index_names\u001b[39m\u001b[38;5;124m\"\u001b[39m]\n\u001b[0;32m   1447\u001b[0m \u001b[38;5;28mself\u001b[39m\u001b[38;5;241m.\u001b[39mhandles: IOHandles \u001b[38;5;241m|\u001b[39m \u001b[38;5;28;01mNone\u001b[39;00m \u001b[38;5;241m=\u001b[39m \u001b[38;5;28;01mNone\u001b[39;00m\n\u001b[1;32m-> 1448\u001b[0m \u001b[38;5;28mself\u001b[39m\u001b[38;5;241m.\u001b[39m_engine \u001b[38;5;241m=\u001b[39m \u001b[38;5;28;43mself\u001b[39;49m\u001b[38;5;241;43m.\u001b[39;49m\u001b[43m_make_engine\u001b[49m\u001b[43m(\u001b[49m\u001b[43mf\u001b[49m\u001b[43m,\u001b[49m\u001b[43m \u001b[49m\u001b[38;5;28;43mself\u001b[39;49m\u001b[38;5;241;43m.\u001b[39;49m\u001b[43mengine\u001b[49m\u001b[43m)\u001b[49m\n",
      "File \u001b[1;32mc:\\Users\\nesto\\anaconda3\\envs\\deep_learning\\lib\\site-packages\\pandas\\io\\parsers\\readers.py:1705\u001b[0m, in \u001b[0;36mTextFileReader._make_engine\u001b[1;34m(self, f, engine)\u001b[0m\n\u001b[0;32m   1703\u001b[0m     \u001b[38;5;28;01mif\u001b[39;00m \u001b[38;5;124m\"\u001b[39m\u001b[38;5;124mb\u001b[39m\u001b[38;5;124m\"\u001b[39m \u001b[38;5;129;01mnot\u001b[39;00m \u001b[38;5;129;01min\u001b[39;00m mode:\n\u001b[0;32m   1704\u001b[0m         mode \u001b[38;5;241m+\u001b[39m\u001b[38;5;241m=\u001b[39m \u001b[38;5;124m\"\u001b[39m\u001b[38;5;124mb\u001b[39m\u001b[38;5;124m\"\u001b[39m\n\u001b[1;32m-> 1705\u001b[0m \u001b[38;5;28mself\u001b[39m\u001b[38;5;241m.\u001b[39mhandles \u001b[38;5;241m=\u001b[39m \u001b[43mget_handle\u001b[49m\u001b[43m(\u001b[49m\n\u001b[0;32m   1706\u001b[0m \u001b[43m    \u001b[49m\u001b[43mf\u001b[49m\u001b[43m,\u001b[49m\n\u001b[0;32m   1707\u001b[0m \u001b[43m    \u001b[49m\u001b[43mmode\u001b[49m\u001b[43m,\u001b[49m\n\u001b[0;32m   1708\u001b[0m \u001b[43m    \u001b[49m\u001b[43mencoding\u001b[49m\u001b[38;5;241;43m=\u001b[39;49m\u001b[38;5;28;43mself\u001b[39;49m\u001b[38;5;241;43m.\u001b[39;49m\u001b[43moptions\u001b[49m\u001b[38;5;241;43m.\u001b[39;49m\u001b[43mget\u001b[49m\u001b[43m(\u001b[49m\u001b[38;5;124;43m\"\u001b[39;49m\u001b[38;5;124;43mencoding\u001b[39;49m\u001b[38;5;124;43m\"\u001b[39;49m\u001b[43m,\u001b[49m\u001b[43m \u001b[49m\u001b[38;5;28;43;01mNone\u001b[39;49;00m\u001b[43m)\u001b[49m\u001b[43m,\u001b[49m\n\u001b[0;32m   1709\u001b[0m \u001b[43m    \u001b[49m\u001b[43mcompression\u001b[49m\u001b[38;5;241;43m=\u001b[39;49m\u001b[38;5;28;43mself\u001b[39;49m\u001b[38;5;241;43m.\u001b[39;49m\u001b[43moptions\u001b[49m\u001b[38;5;241;43m.\u001b[39;49m\u001b[43mget\u001b[49m\u001b[43m(\u001b[49m\u001b[38;5;124;43m\"\u001b[39;49m\u001b[38;5;124;43mcompression\u001b[39;49m\u001b[38;5;124;43m\"\u001b[39;49m\u001b[43m,\u001b[49m\u001b[43m \u001b[49m\u001b[38;5;28;43;01mNone\u001b[39;49;00m\u001b[43m)\u001b[49m\u001b[43m,\u001b[49m\n\u001b[0;32m   1710\u001b[0m \u001b[43m    \u001b[49m\u001b[43mmemory_map\u001b[49m\u001b[38;5;241;43m=\u001b[39;49m\u001b[38;5;28;43mself\u001b[39;49m\u001b[38;5;241;43m.\u001b[39;49m\u001b[43moptions\u001b[49m\u001b[38;5;241;43m.\u001b[39;49m\u001b[43mget\u001b[49m\u001b[43m(\u001b[49m\u001b[38;5;124;43m\"\u001b[39;49m\u001b[38;5;124;43mmemory_map\u001b[39;49m\u001b[38;5;124;43m\"\u001b[39;49m\u001b[43m,\u001b[49m\u001b[43m \u001b[49m\u001b[38;5;28;43;01mFalse\u001b[39;49;00m\u001b[43m)\u001b[49m\u001b[43m,\u001b[49m\n\u001b[0;32m   1711\u001b[0m \u001b[43m    \u001b[49m\u001b[43mis_text\u001b[49m\u001b[38;5;241;43m=\u001b[39;49m\u001b[43mis_text\u001b[49m\u001b[43m,\u001b[49m\n\u001b[0;32m   1712\u001b[0m \u001b[43m    \u001b[49m\u001b[43merrors\u001b[49m\u001b[38;5;241;43m=\u001b[39;49m\u001b[38;5;28;43mself\u001b[39;49m\u001b[38;5;241;43m.\u001b[39;49m\u001b[43moptions\u001b[49m\u001b[38;5;241;43m.\u001b[39;49m\u001b[43mget\u001b[49m\u001b[43m(\u001b[49m\u001b[38;5;124;43m\"\u001b[39;49m\u001b[38;5;124;43mencoding_errors\u001b[39;49m\u001b[38;5;124;43m\"\u001b[39;49m\u001b[43m,\u001b[49m\u001b[43m \u001b[49m\u001b[38;5;124;43m\"\u001b[39;49m\u001b[38;5;124;43mstrict\u001b[39;49m\u001b[38;5;124;43m\"\u001b[39;49m\u001b[43m)\u001b[49m\u001b[43m,\u001b[49m\n\u001b[0;32m   1713\u001b[0m \u001b[43m    \u001b[49m\u001b[43mstorage_options\u001b[49m\u001b[38;5;241;43m=\u001b[39;49m\u001b[38;5;28;43mself\u001b[39;49m\u001b[38;5;241;43m.\u001b[39;49m\u001b[43moptions\u001b[49m\u001b[38;5;241;43m.\u001b[39;49m\u001b[43mget\u001b[49m\u001b[43m(\u001b[49m\u001b[38;5;124;43m\"\u001b[39;49m\u001b[38;5;124;43mstorage_options\u001b[39;49m\u001b[38;5;124;43m\"\u001b[39;49m\u001b[43m,\u001b[49m\u001b[43m \u001b[49m\u001b[38;5;28;43;01mNone\u001b[39;49;00m\u001b[43m)\u001b[49m\u001b[43m,\u001b[49m\n\u001b[0;32m   1714\u001b[0m \u001b[43m\u001b[49m\u001b[43m)\u001b[49m\n\u001b[0;32m   1715\u001b[0m \u001b[38;5;28;01massert\u001b[39;00m \u001b[38;5;28mself\u001b[39m\u001b[38;5;241m.\u001b[39mhandles \u001b[38;5;129;01mis\u001b[39;00m \u001b[38;5;129;01mnot\u001b[39;00m \u001b[38;5;28;01mNone\u001b[39;00m\n\u001b[0;32m   1716\u001b[0m f \u001b[38;5;241m=\u001b[39m \u001b[38;5;28mself\u001b[39m\u001b[38;5;241m.\u001b[39mhandles\u001b[38;5;241m.\u001b[39mhandle\n",
      "File \u001b[1;32mc:\\Users\\nesto\\anaconda3\\envs\\deep_learning\\lib\\site-packages\\pandas\\io\\common.py:863\u001b[0m, in \u001b[0;36mget_handle\u001b[1;34m(path_or_buf, mode, encoding, compression, memory_map, is_text, errors, storage_options)\u001b[0m\n\u001b[0;32m    858\u001b[0m \u001b[38;5;28;01melif\u001b[39;00m \u001b[38;5;28misinstance\u001b[39m(handle, \u001b[38;5;28mstr\u001b[39m):\n\u001b[0;32m    859\u001b[0m     \u001b[38;5;66;03m# Check whether the filename is to be opened in binary mode.\u001b[39;00m\n\u001b[0;32m    860\u001b[0m     \u001b[38;5;66;03m# Binary mode does not support 'encoding' and 'newline'.\u001b[39;00m\n\u001b[0;32m    861\u001b[0m     \u001b[38;5;28;01mif\u001b[39;00m ioargs\u001b[38;5;241m.\u001b[39mencoding \u001b[38;5;129;01mand\u001b[39;00m \u001b[38;5;124m\"\u001b[39m\u001b[38;5;124mb\u001b[39m\u001b[38;5;124m\"\u001b[39m \u001b[38;5;129;01mnot\u001b[39;00m \u001b[38;5;129;01min\u001b[39;00m ioargs\u001b[38;5;241m.\u001b[39mmode:\n\u001b[0;32m    862\u001b[0m         \u001b[38;5;66;03m# Encoding\u001b[39;00m\n\u001b[1;32m--> 863\u001b[0m         handle \u001b[38;5;241m=\u001b[39m \u001b[38;5;28;43mopen\u001b[39;49m\u001b[43m(\u001b[49m\n\u001b[0;32m    864\u001b[0m \u001b[43m            \u001b[49m\u001b[43mhandle\u001b[49m\u001b[43m,\u001b[49m\n\u001b[0;32m    865\u001b[0m \u001b[43m            \u001b[49m\u001b[43mioargs\u001b[49m\u001b[38;5;241;43m.\u001b[39;49m\u001b[43mmode\u001b[49m\u001b[43m,\u001b[49m\n\u001b[0;32m    866\u001b[0m \u001b[43m            \u001b[49m\u001b[43mencoding\u001b[49m\u001b[38;5;241;43m=\u001b[39;49m\u001b[43mioargs\u001b[49m\u001b[38;5;241;43m.\u001b[39;49m\u001b[43mencoding\u001b[49m\u001b[43m,\u001b[49m\n\u001b[0;32m    867\u001b[0m \u001b[43m            \u001b[49m\u001b[43merrors\u001b[49m\u001b[38;5;241;43m=\u001b[39;49m\u001b[43merrors\u001b[49m\u001b[43m,\u001b[49m\n\u001b[0;32m    868\u001b[0m \u001b[43m            \u001b[49m\u001b[43mnewline\u001b[49m\u001b[38;5;241;43m=\u001b[39;49m\u001b[38;5;124;43m\"\u001b[39;49m\u001b[38;5;124;43m\"\u001b[39;49m\u001b[43m,\u001b[49m\n\u001b[0;32m    869\u001b[0m \u001b[43m        \u001b[49m\u001b[43m)\u001b[49m\n\u001b[0;32m    870\u001b[0m     \u001b[38;5;28;01melse\u001b[39;00m:\n\u001b[0;32m    871\u001b[0m         \u001b[38;5;66;03m# Binary mode\u001b[39;00m\n\u001b[0;32m    872\u001b[0m         handle \u001b[38;5;241m=\u001b[39m \u001b[38;5;28mopen\u001b[39m(handle, ioargs\u001b[38;5;241m.\u001b[39mmode)\n",
      "\u001b[1;31mFileNotFoundError\u001b[0m: [Errno 2] No such file or directory: '/kaggle/input/drinking-water-probability/drinking_water_potability.csv'"
     ]
    }
   ],
   "source": [
    "df = pd.read_csv('/kaggle/input/drinking-water-probability/drinking_water_potability.csv')\n",
    "df.head(5)"
   ]
  },
  {
   "cell_type": "code",
   "execution_count": null,
   "id": "832ae6d0",
   "metadata": {
    "papermill": {
     "duration": 0.199619,
     "end_time": "2024-03-29T03:53:49.014528",
     "exception": false,
     "start_time": "2024-03-29T03:53:48.814909",
     "status": "completed"
    },
    "tags": []
   },
   "outputs": [],
   "source": [
    "# Imputación de datos\n",
    "imputer = IterativeImputer()\n",
    "imputed_data = imputer.fit_transform(df)\n",
    "df_imputed = pd.DataFrame(imputed_data, columns=df.columns)\n"
   ]
  },
  {
   "cell_type": "code",
   "execution_count": null,
   "id": "e177c53f",
   "metadata": {
    "papermill": {
     "duration": 0.058132,
     "end_time": "2024-03-29T03:53:49.101416",
     "exception": false,
     "start_time": "2024-03-29T03:53:49.043284",
     "status": "completed"
    },
    "tags": []
   },
   "outputs": [],
   "source": [
    "df_imputed.isnull().sum()"
   ]
  },
  {
   "cell_type": "code",
   "execution_count": null,
   "id": "fd29ddd7",
   "metadata": {
    "papermill": {
     "duration": 0.437653,
     "end_time": "2024-03-29T03:53:49.564708",
     "exception": false,
     "start_time": "2024-03-29T03:53:49.127055",
     "status": "completed"
    },
    "tags": []
   },
   "outputs": [],
   "source": [
    "# Detección de valores atípicos\n",
    "clf = IsolationForest(random_state=0)\n",
    "outliers = clf.fit_predict(df_imputed)\n",
    "df_cleaned = df_imputed[outliers == 1]"
   ]
  },
  {
   "cell_type": "code",
   "execution_count": null,
   "id": "578c7758",
   "metadata": {
    "papermill": {
     "duration": 0.040545,
     "end_time": "2024-03-29T03:53:49.619927",
     "exception": false,
     "start_time": "2024-03-29T03:53:49.579382",
     "status": "completed"
    },
    "tags": []
   },
   "outputs": [],
   "source": [
    "# Balanceo de clases mediante sobremuestreo aleatorio\n",
    "ros = RandomOverSampler(random_state=0)\n",
    "X_resampled, y_resampled = ros.fit_resample(df_cleaned.drop('Potability', axis=1), df_cleaned['Potability'])\n",
    "df_balanced = pd.concat([pd.DataFrame(X_resampled, columns=df_cleaned.drop('Potability', axis=1).columns), pd.DataFrame(y_resampled, columns=['Potability'])], axis=1)\n"
   ]
  },
  {
   "cell_type": "code",
   "execution_count": 9,
   "id": "93a3fbf8",
   "metadata": {
    "execution": {
     "iopub.execute_input": "2024-03-29T03:53:49.650850Z",
     "iopub.status.busy": "2024-03-29T03:53:49.650232Z",
     "iopub.status.idle": "2024-03-29T03:53:49.660176Z",
     "shell.execute_reply": "2024-03-29T03:53:49.659332Z"
    },
    "papermill": {
     "duration": 0.027963,
     "end_time": "2024-03-29T03:53:49.662446",
     "exception": false,
     "start_time": "2024-03-29T03:53:49.634483",
     "status": "completed"
    },
    "tags": []
   },
   "outputs": [],
   "source": [
    "# Escalado de características\n",
    "scaler = MinMaxScaler()\n",
    "df_scaled = pd.DataFrame(scaler.fit_transform(df_balanced), columns=df_balanced.columns)\n"
   ]
  },
  {
   "cell_type": "code",
   "execution_count": 10,
   "id": "6f4d1cbb",
   "metadata": {
    "execution": {
     "iopub.execute_input": "2024-03-29T03:53:49.692927Z",
     "iopub.status.busy": "2024-03-29T03:53:49.692375Z",
     "iopub.status.idle": "2024-03-29T03:53:49.702335Z",
     "shell.execute_reply": "2024-03-29T03:53:49.701256Z"
    },
    "papermill": {
     "duration": 0.028386,
     "end_time": "2024-03-29T03:53:49.704876",
     "exception": false,
     "start_time": "2024-03-29T03:53:49.676490",
     "status": "completed"
    },
    "tags": []
   },
   "outputs": [],
   "source": [
    "possible_predictors = ['ph', 'Hardness', 'Solids', 'Chloramines', 'Sulfate', 'Conductivity',\n",
    "                       'Organic_carbon', 'Trihalomethanes', 'Turbidity']\n",
    "target = 'Potability'\n",
    "\n",
    "# Seleccionar las características deseadas y convertir las variables categóricas en variables dummy\n",
    "Xs = pd.get_dummies(X_resampled[possible_predictors], drop_first=True)"
   ]
  },
  {
   "cell_type": "code",
   "execution_count": 11,
   "id": "9304afb3",
   "metadata": {
    "execution": {
     "iopub.execute_input": "2024-03-29T03:53:49.735759Z",
     "iopub.status.busy": "2024-03-29T03:53:49.734535Z",
     "iopub.status.idle": "2024-03-29T03:53:49.745502Z",
     "shell.execute_reply": "2024-03-29T03:53:49.744180Z"
    },
    "papermill": {
     "duration": 0.02932,
     "end_time": "2024-03-29T03:53:49.748497",
     "exception": false,
     "start_time": "2024-03-29T03:53:49.719177",
     "status": "completed"
    },
    "tags": []
   },
   "outputs": [],
   "source": [
    "# standardize data\n",
    "scaler = preprocessing.StandardScaler()\n",
    "scaler.fit(Xs)\n",
    "Xs = pd.DataFrame(scaler.transform(Xs), columns=Xs.columns)"
   ]
  },
  {
   "cell_type": "code",
   "execution_count": 12,
   "id": "f1ddda25",
   "metadata": {
    "execution": {
     "iopub.execute_input": "2024-03-29T03:53:49.779667Z",
     "iopub.status.busy": "2024-03-29T03:53:49.778366Z",
     "iopub.status.idle": "2024-03-29T03:53:49.788675Z",
     "shell.execute_reply": "2024-03-29T03:53:49.787456Z"
    },
    "papermill": {
     "duration": 0.028919,
     "end_time": "2024-03-29T03:53:49.791540",
     "exception": false,
     "start_time": "2024-03-29T03:53:49.762621",
     "status": "completed"
    },
    "tags": []
   },
   "outputs": [
    {
     "name": "stdout",
     "output_type": "stream",
     "text": [
      "(2618, 9) (1122, 9) (2618,) (1122,)\n"
     ]
    }
   ],
   "source": [
    "X_train, X_test, y_train, y_test = train_test_split(Xs, y_resampled, test_size=0.3, random_state=1)\n",
    "\n",
    "print(X_train.shape,X_test.shape,y_train.shape, y_test.shape)"
   ]
  },
  {
   "cell_type": "code",
   "execution_count": 13,
   "id": "f0adef16",
   "metadata": {
    "execution": {
     "iopub.execute_input": "2024-03-29T03:53:49.823174Z",
     "iopub.status.busy": "2024-03-29T03:53:49.822731Z",
     "iopub.status.idle": "2024-03-29T03:54:01.719594Z",
     "shell.execute_reply": "2024-03-29T03:54:01.718007Z"
    },
    "papermill": {
     "duration": 11.918476,
     "end_time": "2024-03-29T03:54:01.724668",
     "exception": false,
     "start_time": "2024-03-29T03:53:49.806192",
     "status": "completed"
    },
    "tags": []
   },
   "outputs": [
    {
     "name": "stdout",
     "output_type": "stream",
     "text": [
      "(2618, 9) (1122, 9) (2618,) (1122,)\n"
     ]
    }
   ],
   "source": [
    "rf = RandomForestClassifier(n_estimators=1000, random_state=2)\n",
    "rf.fit(X_train, y_train)\n",
    "\n",
    "importances = rf.feature_importances_\n",
    "std = np.std([tree.feature_importances_ for tree in rf.estimators_], axis=0)\n",
    "\n",
    "df_balanced = pd.DataFrame({'feature': X_train.columns, 'importance': importances, 'std': std})\n",
    "df_balanced = df_balanced.sort_values('importance')\n",
    "\n",
    "select_features = df_balanced[df_balanced.importance >= 0.05].feature\n",
    "\n",
    "ax = df_balanced.plot(kind='barh', xerr='std', x='feature', legend=False)\n",
    "ax.set_ylabel('')\n",
    "plt.tight_layout()\n",
    "plt.show()\n",
    "\n",
    "print(X_train.shape, X_test.shape, y_train.shape, y_test.shape)"
   ]
  },
  {
   "cell_type": "markdown",
   "id": "e8c28cc0",
   "metadata": {
    "papermill": {
     "duration": 0.015841,
     "end_time": "2024-03-29T03:54:01.772116",
     "exception": false,
     "start_time": "2024-03-29T03:54:01.756275",
     "status": "completed"
    },
    "tags": []
   },
   "source": [
    "# Tuned DT"
   ]
  },
  {
   "cell_type": "code",
   "execution_count": 14,
   "id": "3d1c3d9c",
   "metadata": {
    "execution": {
     "iopub.execute_input": "2024-03-29T03:54:01.803394Z",
     "iopub.status.busy": "2024-03-29T03:54:01.802415Z",
     "iopub.status.idle": "2024-03-29T03:54:02.127130Z",
     "shell.execute_reply": "2024-03-29T03:54:02.125755Z"
    },
    "papermill": {
     "duration": 0.34341,
     "end_time": "2024-03-29T03:54:02.130095",
     "exception": false,
     "start_time": "2024-03-29T03:54:01.786685",
     "status": "completed"
    },
    "tags": []
   },
   "outputs": [
    {
     "data": {
      "image/png": "[encoded data removed]",
      "text/plain": [
       "<IPython.core.display.Image object>"
      ]
     },
     "execution_count": 14,
     "metadata": {},
     "output_type": "execute_result"
    }
   ],
   "source": [
    "classTree = DecisionTreeClassifier(criterion= 'entropy', max_depth= 120,\n",
    "                                   min_impurity_decrease= 0.005, min_samples_split= 50, splitter= 'best')\n",
    "classTree.fit(X_train, y_train)\n",
    "\n",
    "plotDecisionTree(classTree, feature_names=X_train.columns, class_names=classTree.classes_)"
   ]
  },
  {
   "cell_type": "code",
   "execution_count": 15,
   "id": "929ca6cf",
   "metadata": {
    "execution": {
     "iopub.execute_input": "2024-03-29T03:54:02.165637Z",
     "iopub.status.busy": "2024-03-29T03:54:02.164416Z",
     "iopub.status.idle": "2024-03-29T03:54:02.184712Z",
     "shell.execute_reply": "2024-03-29T03:54:02.183732Z"
    },
    "papermill": {
     "duration": 0.041334,
     "end_time": "2024-03-29T03:54:02.187521",
     "exception": false,
     "start_time": "2024-03-29T03:54:02.146187",
     "status": "completed"
    },
    "tags": []
   },
   "outputs": [
    {
     "name": "stdout",
     "output_type": "stream",
     "text": [
      "              precision    recall  f1-score   support\n",
      "\n",
      "         0.0       0.61      0.15      0.24       566\n",
      "         1.0       0.51      0.90      0.65       556\n",
      "\n",
      "    accuracy                           0.52      1122\n",
      "   macro avg       0.56      0.53      0.45      1122\n",
      "weighted avg       0.56      0.52      0.44      1122\n",
      "\n"
     ]
    }
   ],
   "source": [
    "y_predict_dt = classTree.predict(X_test)\n",
    "dt_report = classification_report(y_test, y_predict_dt)\n",
    "print(dt_report)"
   ]
  },
  {
   "cell_type": "markdown",
   "id": "667d1a32",
   "metadata": {
    "papermill": {
     "duration": 0.015666,
     "end_time": "2024-03-29T03:54:02.219300",
     "exception": false,
     "start_time": "2024-03-29T03:54:02.203634",
     "status": "completed"
    },
    "tags": []
   },
   "source": [
    "# Tune MLP"
   ]
  },
  {
   "cell_type": "markdown",
   "id": "84a9d6ee",
   "metadata": {
    "papermill": {
     "duration": 0.015721,
     "end_time": "2024-03-29T03:54:02.251045",
     "exception": false,
     "start_time": "2024-03-29T03:54:02.235324",
     "status": "completed"
    },
    "tags": []
   },
   "source": [
    "## Tune MLP 1"
   ]
  },
  {
   "cell_type": "code",
   "execution_count": 16,
   "id": "baef26e3",
   "metadata": {
    "execution": {
     "iopub.execute_input": "2024-03-29T03:54:02.284810Z",
     "iopub.status.busy": "2024-03-29T03:54:02.284296Z",
     "iopub.status.idle": "2024-03-29T03:54:18.104235Z",
     "shell.execute_reply": "2024-03-29T03:54:18.102584Z"
    },
    "papermill": {
     "duration": 15.841621,
     "end_time": "2024-03-29T03:54:18.108498",
     "exception": false,
     "start_time": "2024-03-29T03:54:02.266877",
     "status": "completed"
    },
    "tags": []
   },
   "outputs": [
    {
     "name": "stdout",
     "output_type": "stream",
     "text": [
      "Fitting 1 folds for each of 36 candidates, totalling 36 fits\n",
      "[CV] END activation=identity, hidden_layer_sizes=5, learning_rate=constant, solver=lbfgs; total time=   0.0s\n",
      "[CV] END activation=identity, hidden_layer_sizes=5, learning_rate=constant, solver=sgd; total time=   0.3s\n",
      "[CV] END activation=identity, hidden_layer_sizes=5, learning_rate=constant, solver=adam; total time=   0.2s\n",
      "[CV] END activation=identity, hidden_layer_sizes=5, learning_rate=invscaling, solver=lbfgs; total time=   0.0s\n",
      "[CV] END activation=identity, hidden_layer_sizes=5, learning_rate=invscaling, solver=sgd; total time=   0.1s\n",
      "[CV] END activation=identity, hidden_layer_sizes=5, learning_rate=invscaling, solver=adam; total time=   0.3s\n",
      "[CV] END activation=identity, hidden_layer_sizes=5, learning_rate=adaptive, solver=lbfgs; total time=   0.0s\n",
      "[CV] END activation=identity, hidden_layer_sizes=5, learning_rate=adaptive, solver=sgd; total time=   0.5s\n",
      "[CV] END activation=identity, hidden_layer_sizes=5, learning_rate=adaptive, solver=adam; total time=   0.2s\n",
      "[CV] END activation=logistic, hidden_layer_sizes=5, learning_rate=constant, solver=lbfgs; total time=   0.5s\n",
      "[CV] END activation=logistic, hidden_layer_sizes=5, learning_rate=constant, solver=sgd; total time=   0.2s\n",
      "[CV] END activation=logistic, hidden_layer_sizes=5, learning_rate=constant, solver=adam; total time=   0.2s\n",
      "[CV] END activation=logistic, hidden_layer_sizes=5, learning_rate=invscaling, solver=lbfgs; total time=   0.4s\n",
      "[CV] END activation=logistic, hidden_layer_sizes=5, learning_rate=invscaling, solver=sgd; total time=   0.1s\n",
      "[CV] END activation=logistic, hidden_layer_sizes=5, learning_rate=invscaling, solver=adam; total time=   0.1s\n",
      "[CV] END activation=logistic, hidden_layer_sizes=5, learning_rate=adaptive, solver=lbfgs; total time=   0.4s\n",
      "[CV] END activation=logistic, hidden_layer_sizes=5, learning_rate=adaptive, solver=sgd; total time=   0.4s\n",
      "[CV] END activation=logistic, hidden_layer_sizes=5, learning_rate=adaptive, solver=adam; total time=   0.2s\n",
      "[CV] END activation=tanh, hidden_layer_sizes=5, learning_rate=constant, solver=lbfgs; total time=   0.6s\n",
      "[CV] END activation=tanh, hidden_layer_sizes=5, learning_rate=constant, solver=sgd; total time=   0.5s\n",
      "[CV] END activation=tanh, hidden_layer_sizes=5, learning_rate=constant, solver=adam; total time=   1.0s\n",
      "[CV] END activation=tanh, hidden_layer_sizes=5, learning_rate=invscaling, solver=lbfgs; total time=   0.6s\n",
      "[CV] END activation=tanh, hidden_layer_sizes=5, learning_rate=invscaling, solver=sgd; total time=   0.2s\n",
      "[CV] END activation=tanh, hidden_layer_sizes=5, learning_rate=invscaling, solver=adam; total time=   1.0s\n",
      "[CV] END activation=tanh, hidden_layer_sizes=5, learning_rate=adaptive, solver=lbfgs; total time=   0.6s\n",
      "[CV] END activation=tanh, hidden_layer_sizes=5, learning_rate=adaptive, solver=sgd; total time=   0.9s\n",
      "[CV] END activation=tanh, hidden_layer_sizes=5, learning_rate=adaptive, solver=adam; total time=   0.3s\n",
      "[CV] END activation=relu, hidden_layer_sizes=5, learning_rate=constant, solver=lbfgs; total time=   0.4s\n",
      "[CV] END activation=relu, hidden_layer_sizes=5, learning_rate=constant, solver=sgd; total time=   0.6s\n",
      "[CV] END activation=relu, hidden_layer_sizes=5, learning_rate=constant, solver=adam; total time=   0.9s\n",
      "[CV] END activation=relu, hidden_layer_sizes=5, learning_rate=invscaling, solver=lbfgs; total time=   0.4s\n",
      "[CV] END activation=relu, hidden_layer_sizes=5, learning_rate=invscaling, solver=sgd; total time=   0.1s\n",
      "[CV] END activation=relu, hidden_layer_sizes=5, learning_rate=invscaling, solver=adam; total time=   0.9s\n",
      "[CV] END activation=relu, hidden_layer_sizes=5, learning_rate=adaptive, solver=lbfgs; total time=   0.3s\n",
      "[CV] END activation=relu, hidden_layer_sizes=5, learning_rate=adaptive, solver=sgd; total time=   0.8s\n",
      "[CV] END activation=relu, hidden_layer_sizes=5, learning_rate=adaptive, solver=adam; total time=   0.9s\n",
      "Score:  0.6832740213523132\n",
      "Parameters:  {'activation': 'relu', 'hidden_layer_sizes': 5, 'learning_rate': 'adaptive', 'solver': 'lbfgs'}\n"
     ]
    }
   ],
   "source": [
    "cv = ShuffleSplit(n_splits=1, test_size=0.2, random_state=1)\n",
    "\n",
    "param_grid = {\n",
    "    'hidden_layer_sizes':[5],\n",
    "    'activation': ['identity','logistic','tanh','relu'],\n",
    "    'solver': ['lbfgs','sgd','adam'],\n",
    "    'learning_rate':['constant','invscaling','adaptive']}\n",
    "\n",
    "gridSearch = GridSearchCV(MLPClassifier(), param_grid, cv=cv,\n",
    "                          scoring=['recall','f1'],refit='f1',verbose=2)\n",
    "y_predict_Tmlp = gridSearch.fit(X_train, y_train)\n",
    "\n",
    "y_predict_Tmlp = gridSearch.predict(X_test)\n",
    "\n",
    "Tmlp_report = classification_report(y_test, y_predict_Tmlp)\n",
    "\n",
    "print('Score: ', gridSearch.best_score_)\n",
    "print('Parameters: ', gridSearch.best_params_)"
   ]
  },
  {
   "cell_type": "code",
   "execution_count": 17,
   "id": "d7448abf",
   "metadata": {
    "execution": {
     "iopub.execute_input": "2024-03-29T03:54:18.192786Z",
     "iopub.status.busy": "2024-03-29T03:54:18.191880Z",
     "iopub.status.idle": "2024-03-29T03:54:18.201827Z",
     "shell.execute_reply": "2024-03-29T03:54:18.200563Z"
    },
    "papermill": {
     "duration": 0.055131,
     "end_time": "2024-03-29T03:54:18.204895",
     "exception": false,
     "start_time": "2024-03-29T03:54:18.149764",
     "status": "completed"
    },
    "tags": []
   },
   "outputs": [
    {
     "name": "stdout",
     "output_type": "stream",
     "text": [
      "              precision    recall  f1-score   support\n",
      "\n",
      "         0.0       0.59      0.62      0.60       566\n",
      "         1.0       0.59      0.56      0.58       556\n",
      "\n",
      "    accuracy                           0.59      1122\n",
      "   macro avg       0.59      0.59      0.59      1122\n",
      "weighted avg       0.59      0.59      0.59      1122\n",
      "\n"
     ]
    }
   ],
   "source": [
    "print(Tmlp_report)"
   ]
  },
  {
   "cell_type": "markdown",
   "id": "02bdde96",
   "metadata": {
    "papermill": {
     "duration": 0.019728,
     "end_time": "2024-03-29T03:54:18.243079",
     "exception": false,
     "start_time": "2024-03-29T03:54:18.223351",
     "status": "completed"
    },
    "tags": []
   },
   "source": [
    "## Tune MLP 2"
   ]
  },
  {
   "cell_type": "code",
   "execution_count": 18,
   "id": "9be82d73",
   "metadata": {
    "execution": {
     "iopub.execute_input": "2024-03-29T03:54:18.282450Z",
     "iopub.status.busy": "2024-03-29T03:54:18.282012Z",
     "iopub.status.idle": "2024-03-29T03:54:24.867024Z",
     "shell.execute_reply": "2024-03-29T03:54:24.861870Z"
    },
    "papermill": {
     "duration": 6.610596,
     "end_time": "2024-03-29T03:54:24.872391",
     "exception": false,
     "start_time": "2024-03-29T03:54:18.261795",
     "status": "completed"
    },
    "tags": []
   },
   "outputs": [
    {
     "name": "stdout",
     "output_type": "stream",
     "text": [
      "Fitting 1 folds for each of 5 candidates, totalling 5 fits\n",
      "[CV] END activation=relu, hidden_layer_sizes=5, learning_rate=invscaling, solver=adam; total time=   0.9s\n",
      "[CV] END activation=relu, hidden_layer_sizes=10, learning_rate=invscaling, solver=adam; total time=   0.9s\n",
      "[CV] END activation=relu, hidden_layer_sizes=15, learning_rate=invscaling, solver=adam; total time=   1.0s\n",
      "[CV] END activation=relu, hidden_layer_sizes=(5, 5), learning_rate=invscaling, solver=adam; total time=   1.2s\n",
      "[CV] END activation=relu, hidden_layer_sizes=(5, 10), learning_rate=invscaling, solver=adam; total time=   1.3s\n",
      "Score:  0.6254416961130742\n",
      "Parameters:  {'activation': 'relu', 'hidden_layer_sizes': 15, 'learning_rate': 'invscaling', 'solver': 'adam'}\n"
     ]
    }
   ],
   "source": [
    "# Definir el espacio de búsqueda de hiperparámetros\n",
    "param_grid = {\n",
    "    'hidden_layer_sizes': [5, 10, 15, (5, 5), (5, 10)],\n",
    "    'activation': ['relu'],\n",
    "    'solver': ['adam'],\n",
    "    'learning_rate': ['invscaling']\n",
    "}\n",
    "\n",
    "# Inicializar GridSearchCV\n",
    "grid_search = GridSearchCV(\n",
    "    estimator=MLPClassifier(),\n",
    "    param_grid=param_grid,\n",
    "    cv=cv,\n",
    "    scoring='recall',\n",
    "    verbose=2\n",
    ")\n",
    "\n",
    "grid_search.fit(X_train, y_train)\n",
    "\n",
    "y_pred_Tmlp2 = grid_search.predict_proba(X_test)[:, 1]\n",
    "y_predict_Tmlp2 = grid_search.predict(X_test)\n",
    "\n",
    "Tmlp2_report = classification_report(y_test, y_predict_Tmlp2)\n",
    "\n",
    "# Imprimir los resultados\n",
    "print('Score: ', grid_search.best_score_)\n",
    "print('Parameters: ', grid_search.best_params_)\n"
   ]
  },
  {
   "cell_type": "code",
   "execution_count": 19,
   "id": "28051e0a",
   "metadata": {
    "execution": {
     "iopub.execute_input": "2024-03-29T03:54:24.961415Z",
     "iopub.status.busy": "2024-03-29T03:54:24.960941Z",
     "iopub.status.idle": "2024-03-29T03:54:24.967117Z",
     "shell.execute_reply": "2024-03-29T03:54:24.965734Z"
    },
    "papermill": {
     "duration": 0.054682,
     "end_time": "2024-03-29T03:54:24.971530",
     "exception": false,
     "start_time": "2024-03-29T03:54:24.916848",
     "status": "completed"
    },
    "tags": []
   },
   "outputs": [
    {
     "name": "stdout",
     "output_type": "stream",
     "text": [
      "              precision    recall  f1-score   support\n",
      "\n",
      "         0.0       0.62      0.61      0.62       566\n",
      "         1.0       0.61      0.63      0.62       556\n",
      "\n",
      "    accuracy                           0.62      1122\n",
      "   macro avg       0.62      0.62      0.62      1122\n",
      "weighted avg       0.62      0.62      0.62      1122\n",
      "\n"
     ]
    }
   ],
   "source": [
    "print(Tmlp2_report)"
   ]
  },
  {
   "cell_type": "markdown",
   "id": "86d52db2",
   "metadata": {
    "papermill": {
     "duration": 0.019002,
     "end_time": "2024-03-29T03:54:25.009933",
     "exception": false,
     "start_time": "2024-03-29T03:54:24.990931",
     "status": "completed"
    },
    "tags": []
   },
   "source": [
    "## Tune MLP 3"
   ]
  },
  {
   "cell_type": "code",
   "execution_count": 20,
   "id": "42404d10",
   "metadata": {
    "execution": {
     "iopub.execute_input": "2024-03-29T03:54:25.051381Z",
     "iopub.status.busy": "2024-03-29T03:54:25.050489Z",
     "iopub.status.idle": "2024-03-29T03:56:56.621416Z",
     "shell.execute_reply": "2024-03-29T03:56:56.617299Z"
    },
    "papermill": {
     "duration": 151.596666,
     "end_time": "2024-03-29T03:56:56.625900",
     "exception": false,
     "start_time": "2024-03-29T03:54:25.029234",
     "status": "completed"
    },
    "tags": []
   },
   "outputs": [
    {
     "name": "stdout",
     "output_type": "stream",
     "text": [
      "Fitting 1 folds for each of 600 candidates, totalling 600 fits\n",
      "[CV] END activation=identity, alpha=0, hidden_layer_sizes=5, learning_rate=invscaling, learning_rate_init=0, max_iter=200, shuffle=True, solver=adam; total time=   0.0s\n",
      "[CV] END activation=identity, alpha=0, hidden_layer_sizes=5, learning_rate=invscaling, learning_rate_init=0, max_iter=200, shuffle=False, solver=adam; total time=   0.0s\n",
      "[CV] END activation=identity, alpha=0, hidden_layer_sizes=5, learning_rate=invscaling, learning_rate_init=0, max_iter=500, shuffle=True, solver=adam; total time=   0.0s\n",
      "[CV] END activation=identity, alpha=0, hidden_layer_sizes=5, learning_rate=invscaling, learning_rate_init=0, max_iter=500, shuffle=False, solver=adam; total time=   0.0s\n",
      "[CV] END activation=identity, alpha=0, hidden_layer_sizes=5, learning_rate=invscaling, learning_rate_init=0.0001, max_iter=200, shuffle=True, solver=adam; total time=   0.8s\n",
      "[CV] END activation=identity, alpha=0, hidden_layer_sizes=5, learning_rate=invscaling, learning_rate_init=0.0001, max_iter=200, shuffle=False, solver=adam; total time=   0.7s\n",
      "[CV] END activation=identity, alpha=0, hidden_layer_sizes=5, learning_rate=invscaling, learning_rate_init=0.0001, max_iter=500, shuffle=True, solver=adam; total time=   1.4s\n",
      "[CV] END activation=identity, alpha=0, hidden_layer_sizes=5, learning_rate=invscaling, learning_rate_init=0.0001, max_iter=500, shuffle=False, solver=adam; total time=   0.5s\n",
      "[CV] END activation=identity, alpha=0, hidden_layer_sizes=5, learning_rate=invscaling, learning_rate_init=0.0005, max_iter=200, shuffle=True, solver=adam; total time=   0.3s\n",
      "[CV] END activation=identity, alpha=0, hidden_layer_sizes=5, learning_rate=invscaling, learning_rate_init=0.0005, max_iter=200, shuffle=False, solver=adam; total time=   0.3s\n",
      "[CV] END activation=identity, alpha=0, hidden_layer_sizes=5, learning_rate=invscaling, learning_rate_init=0.0005, max_iter=500, shuffle=True, solver=adam; total time=   0.3s\n",
      "[CV] END activation=identity, alpha=0, hidden_layer_sizes=5, learning_rate=invscaling, learning_rate_init=0.0005, max_iter=500, shuffle=False, solver=adam; total time=   0.3s\n",
      "[CV] END activation=identity, alpha=0, hidden_layer_sizes=5, learning_rate=invscaling, learning_rate_init=0.001, max_iter=200, shuffle=True, solver=adam; total time=   0.2s\n",
      "[CV] END activation=identity, alpha=0, hidden_layer_sizes=5, learning_rate=invscaling, learning_rate_init=0.001, max_iter=200, shuffle=False, solver=adam; total time=   0.3s\n",
      "[CV] END activation=identity, alpha=0, hidden_layer_sizes=5, learning_rate=invscaling, learning_rate_init=0.001, max_iter=500, shuffle=True, solver=adam; total time=   0.3s\n",
      "[CV] END activation=identity, alpha=0, hidden_layer_sizes=5, learning_rate=invscaling, learning_rate_init=0.001, max_iter=500, shuffle=False, solver=adam; total time=   0.2s\n",
      "[CV] END activation=identity, alpha=0, hidden_layer_sizes=5, learning_rate=invscaling, learning_rate_init=0.005, max_iter=200, shuffle=True, solver=adam; total time=   0.1s\n",
      "[CV] END activation=identity, alpha=0, hidden_layer_sizes=5, learning_rate=invscaling, learning_rate_init=0.005, max_iter=200, shuffle=False, solver=adam; total time=   0.1s\n",
      "[CV] END activation=identity, alpha=0, hidden_layer_sizes=5, learning_rate=invscaling, learning_rate_init=0.005, max_iter=500, shuffle=True, solver=adam; total time=   0.1s\n",
      "[CV] END activation=identity, alpha=0, hidden_layer_sizes=5, learning_rate=invscaling, learning_rate_init=0.005, max_iter=500, shuffle=False, solver=adam; total time=   0.1s\n",
      "[CV] END activation=identity, alpha=0, hidden_layer_sizes=5, learning_rate=invscaling, learning_rate_init=0.01, max_iter=200, shuffle=True, solver=adam; total time=   0.1s\n",
      "[CV] END activation=identity, alpha=0, hidden_layer_sizes=5, learning_rate=invscaling, learning_rate_init=0.01, max_iter=200, shuffle=False, solver=adam; total time=   0.1s\n",
      "[CV] END activation=identity, alpha=0, hidden_layer_sizes=5, learning_rate=invscaling, learning_rate_init=0.01, max_iter=500, shuffle=True, solver=adam; total time=   0.1s\n",
      "[CV] END activation=identity, alpha=0, hidden_layer_sizes=5, learning_rate=invscaling, learning_rate_init=0.01, max_iter=500, shuffle=False, solver=adam; total time=   0.1s\n",
      "[CV] END activation=identity, alpha=0, hidden_layer_sizes=10, learning_rate=invscaling, learning_rate_init=0, max_iter=200, shuffle=True, solver=adam; total time=   0.0s\n",
      "[CV] END activation=identity, alpha=0, hidden_layer_sizes=10, learning_rate=invscaling, learning_rate_init=0, max_iter=200, shuffle=False, solver=adam; total time=   0.0s\n",
      "[CV] END activation=identity, alpha=0, hidden_layer_sizes=10, learning_rate=invscaling, learning_rate_init=0, max_iter=500, shuffle=True, solver=adam; total time=   0.0s\n",
      "[CV] END activation=identity, alpha=0, hidden_layer_sizes=10, learning_rate=invscaling, learning_rate_init=0, max_iter=500, shuffle=False, solver=adam; total time=   0.0s\n",
      "[CV] END activation=identity, alpha=0, hidden_layer_sizes=10, learning_rate=invscaling, learning_rate_init=0.0001, max_iter=200, shuffle=True, solver=adam; total time=   0.7s\n",
      "[CV] END activation=identity, alpha=0, hidden_layer_sizes=10, learning_rate=invscaling, learning_rate_init=0.0001, max_iter=200, shuffle=False, solver=adam; total time=   0.6s\n",
      "[CV] END activation=identity, alpha=0, hidden_layer_sizes=10, learning_rate=invscaling, learning_rate_init=0.0001, max_iter=500, shuffle=True, solver=adam; total time=   0.9s\n",
      "[CV] END activation=identity, alpha=0, hidden_layer_sizes=10, learning_rate=invscaling, learning_rate_init=0.0001, max_iter=500, shuffle=False, solver=adam; total time=   0.8s\n",
      "[CV] END activation=identity, alpha=0, hidden_layer_sizes=10, learning_rate=invscaling, learning_rate_init=0.0005, max_iter=200, shuffle=True, solver=adam; total time=   0.3s\n",
      "[CV] END activation=identity, alpha=0, hidden_layer_sizes=10, learning_rate=invscaling, learning_rate_init=0.0005, max_iter=200, shuffle=False, solver=adam; total time=   0.2s\n",
      "[CV] END activation=identity, alpha=0, hidden_layer_sizes=10, learning_rate=invscaling, learning_rate_init=0.0005, max_iter=500, shuffle=True, solver=adam; total time=   0.2s\n",
      "[CV] END activation=identity, alpha=0, hidden_layer_sizes=10, learning_rate=invscaling, learning_rate_init=0.0005, max_iter=500, shuffle=False, solver=adam; total time=   0.2s\n",
      "[CV] END activation=identity, alpha=0, hidden_layer_sizes=10, learning_rate=invscaling, learning_rate_init=0.001, max_iter=200, shuffle=True, solver=adam; total time=   0.2s\n",
      "[CV] END activation=identity, alpha=0, hidden_layer_sizes=10, learning_rate=invscaling, learning_rate_init=0.001, max_iter=200, shuffle=False, solver=adam; total time=   0.1s\n",
      "[CV] END activation=identity, alpha=0, hidden_layer_sizes=10, learning_rate=invscaling, learning_rate_init=0.001, max_iter=500, shuffle=True, solver=adam; total time=   0.2s\n",
      "[CV] END activation=identity, alpha=0, hidden_layer_sizes=10, learning_rate=invscaling, learning_rate_init=0.001, max_iter=500, shuffle=False, solver=adam; total time=   0.1s\n",
      "[CV] END activation=identity, alpha=0, hidden_layer_sizes=10, learning_rate=invscaling, learning_rate_init=0.005, max_iter=200, shuffle=True, solver=adam; total time=   0.1s\n",
      "[CV] END activation=identity, alpha=0, hidden_layer_sizes=10, learning_rate=invscaling, learning_rate_init=0.005, max_iter=200, shuffle=False, solver=adam; total time=   0.1s\n",
      "[CV] END activation=identity, alpha=0, hidden_layer_sizes=10, learning_rate=invscaling, learning_rate_init=0.005, max_iter=500, shuffle=True, solver=adam; total time=   0.1s\n",
      "[CV] END activation=identity, alpha=0, hidden_layer_sizes=10, learning_rate=invscaling, learning_rate_init=0.005, max_iter=500, shuffle=False, solver=adam; total time=   0.1s\n",
      "[CV] END activation=identity, alpha=0, hidden_layer_sizes=10, learning_rate=invscaling, learning_rate_init=0.01, max_iter=200, shuffle=True, solver=adam; total time=   0.1s\n",
      "[CV] END activation=identity, alpha=0, hidden_layer_sizes=10, learning_rate=invscaling, learning_rate_init=0.01, max_iter=200, shuffle=False, solver=adam; total time=   0.1s\n",
      "[CV] END activation=identity, alpha=0, hidden_layer_sizes=10, learning_rate=invscaling, learning_rate_init=0.01, max_iter=500, shuffle=True, solver=adam; total time=   0.1s\n",
      "[CV] END activation=identity, alpha=0, hidden_layer_sizes=10, learning_rate=invscaling, learning_rate_init=0.01, max_iter=500, shuffle=False, solver=adam; total time=   0.1s\n",
      "[CV] END activation=identity, alpha=0, hidden_layer_sizes=15, learning_rate=invscaling, learning_rate_init=0, max_iter=200, shuffle=True, solver=adam; total time=   0.0s\n",
      "[CV] END activation=identity, alpha=0, hidden_layer_sizes=15, learning_rate=invscaling, learning_rate_init=0, max_iter=200, shuffle=False, solver=adam; total time=   0.0s\n",
      "[CV] END activation=identity, alpha=0, hidden_layer_sizes=15, learning_rate=invscaling, learning_rate_init=0, max_iter=500, shuffle=True, solver=adam; total time=   0.0s\n",
      "[CV] END activation=identity, alpha=0, hidden_layer_sizes=15, learning_rate=invscaling, learning_rate_init=0, max_iter=500, shuffle=False, solver=adam; total time=   0.0s\n",
      "[CV] END activation=identity, alpha=0, hidden_layer_sizes=15, learning_rate=invscaling, learning_rate_init=0.0001, max_iter=200, shuffle=True, solver=adam; total time=   0.6s\n",
      "[CV] END activation=identity, alpha=0, hidden_layer_sizes=15, learning_rate=invscaling, learning_rate_init=0.0001, max_iter=200, shuffle=False, solver=adam; total time=   0.6s\n",
      "[CV] END activation=identity, alpha=0, hidden_layer_sizes=15, learning_rate=invscaling, learning_rate_init=0.0001, max_iter=500, shuffle=True, solver=adam; total time=   0.5s\n",
      "[CV] END activation=identity, alpha=0, hidden_layer_sizes=15, learning_rate=invscaling, learning_rate_init=0.0001, max_iter=500, shuffle=False, solver=adam; total time=   0.3s\n",
      "[CV] END activation=identity, alpha=0, hidden_layer_sizes=15, learning_rate=invscaling, learning_rate_init=0.0005, max_iter=200, shuffle=True, solver=adam; total time=   0.3s\n",
      "[CV] END activation=identity, alpha=0, hidden_layer_sizes=15, learning_rate=invscaling, learning_rate_init=0.0005, max_iter=200, shuffle=False, solver=adam; total time=   0.1s\n",
      "[CV] END activation=identity, alpha=0, hidden_layer_sizes=15, learning_rate=invscaling, learning_rate_init=0.0005, max_iter=500, shuffle=True, solver=adam; total time=   0.2s\n",
      "[CV] END activation=identity, alpha=0, hidden_layer_sizes=15, learning_rate=invscaling, learning_rate_init=0.0005, max_iter=500, shuffle=False, solver=adam; total time=   0.2s\n",
      "[CV] END activation=identity, alpha=0, hidden_layer_sizes=15, learning_rate=invscaling, learning_rate_init=0.001, max_iter=200, shuffle=True, solver=adam; total time=   0.2s\n",
      "[CV] END activation=identity, alpha=0, hidden_layer_sizes=15, learning_rate=invscaling, learning_rate_init=0.001, max_iter=200, shuffle=False, solver=adam; total time=   0.1s\n",
      "[CV] END activation=identity, alpha=0, hidden_layer_sizes=15, learning_rate=invscaling, learning_rate_init=0.001, max_iter=500, shuffle=True, solver=adam; total time=   0.1s\n",
      "[CV] END activation=identity, alpha=0, hidden_layer_sizes=15, learning_rate=invscaling, learning_rate_init=0.001, max_iter=500, shuffle=False, solver=adam; total time=   0.1s\n",
      "[CV] END activation=identity, alpha=0, hidden_layer_sizes=15, learning_rate=invscaling, learning_rate_init=0.005, max_iter=200, shuffle=True, solver=adam; total time=   0.1s\n",
      "[CV] END activation=identity, alpha=0, hidden_layer_sizes=15, learning_rate=invscaling, learning_rate_init=0.005, max_iter=200, shuffle=False, solver=adam; total time=   0.1s\n",
      "[CV] END activation=identity, alpha=0, hidden_layer_sizes=15, learning_rate=invscaling, learning_rate_init=0.005, max_iter=500, shuffle=True, solver=adam; total time=   0.1s\n",
      "[CV] END activation=identity, alpha=0, hidden_layer_sizes=15, learning_rate=invscaling, learning_rate_init=0.005, max_iter=500, shuffle=False, solver=adam; total time=   0.1s\n",
      "[CV] END activation=identity, alpha=0, hidden_layer_sizes=15, learning_rate=invscaling, learning_rate_init=0.01, max_iter=200, shuffle=True, solver=adam; total time=   0.1s\n",
      "[CV] END activation=identity, alpha=0, hidden_layer_sizes=15, learning_rate=invscaling, learning_rate_init=0.01, max_iter=200, shuffle=False, solver=adam; total time=   0.1s\n",
      "[CV] END activation=identity, alpha=0, hidden_layer_sizes=15, learning_rate=invscaling, learning_rate_init=0.01, max_iter=500, shuffle=True, solver=adam; total time=   0.1s\n",
      "[CV] END activation=identity, alpha=0, hidden_layer_sizes=15, learning_rate=invscaling, learning_rate_init=0.01, max_iter=500, shuffle=False, solver=adam; total time=   0.1s\n",
      "[CV] END activation=identity, alpha=0, hidden_layer_sizes=(5, 5), learning_rate=invscaling, learning_rate_init=0, max_iter=200, shuffle=True, solver=adam; total time=   0.0s\n",
      "[CV] END activation=identity, alpha=0, hidden_layer_sizes=(5, 5), learning_rate=invscaling, learning_rate_init=0, max_iter=200, shuffle=False, solver=adam; total time=   0.0s\n",
      "[CV] END activation=identity, alpha=0, hidden_layer_sizes=(5, 5), learning_rate=invscaling, learning_rate_init=0, max_iter=500, shuffle=True, solver=adam; total time=   0.0s\n",
      "[CV] END activation=identity, alpha=0, hidden_layer_sizes=(5, 5), learning_rate=invscaling, learning_rate_init=0, max_iter=500, shuffle=False, solver=adam; total time=   0.0s\n",
      "[CV] END activation=identity, alpha=0, hidden_layer_sizes=(5, 5), learning_rate=invscaling, learning_rate_init=0.0001, max_iter=200, shuffle=True, solver=adam; total time=   1.1s\n",
      "[CV] END activation=identity, alpha=0, hidden_layer_sizes=(5, 5), learning_rate=invscaling, learning_rate_init=0.0001, max_iter=200, shuffle=False, solver=adam; total time=   0.8s\n",
      "[CV] END activation=identity, alpha=0, hidden_layer_sizes=(5, 5), learning_rate=invscaling, learning_rate_init=0.0001, max_iter=500, shuffle=True, solver=adam; total time=   0.7s\n",
      "[CV] END activation=identity, alpha=0, hidden_layer_sizes=(5, 5), learning_rate=invscaling, learning_rate_init=0.0001, max_iter=500, shuffle=False, solver=adam; total time=   1.1s\n",
      "[CV] END activation=identity, alpha=0, hidden_layer_sizes=(5, 5), learning_rate=invscaling, learning_rate_init=0.0005, max_iter=200, shuffle=True, solver=adam; total time=   0.4s\n",
      "[CV] END activation=identity, alpha=0, hidden_layer_sizes=(5, 5), learning_rate=invscaling, learning_rate_init=0.0005, max_iter=200, shuffle=False, solver=adam; total time=   0.3s\n",
      "[CV] END activation=identity, alpha=0, hidden_layer_sizes=(5, 5), learning_rate=invscaling, learning_rate_init=0.0005, max_iter=500, shuffle=True, solver=adam; total time=   0.5s\n",
      "[CV] END activation=identity, alpha=0, hidden_layer_sizes=(5, 5), learning_rate=invscaling, learning_rate_init=0.0005, max_iter=500, shuffle=False, solver=adam; total time=   0.4s\n",
      "[CV] END activation=identity, alpha=0, hidden_layer_sizes=(5, 5), learning_rate=invscaling, learning_rate_init=0.001, max_iter=200, shuffle=True, solver=adam; total time=   0.3s\n",
      "[CV] END activation=identity, alpha=0, hidden_layer_sizes=(5, 5), learning_rate=invscaling, learning_rate_init=0.001, max_iter=200, shuffle=False, solver=adam; total time=   0.3s\n",
      "[CV] END activation=identity, alpha=0, hidden_layer_sizes=(5, 5), learning_rate=invscaling, learning_rate_init=0.001, max_iter=500, shuffle=True, solver=adam; total time=   0.3s\n",
      "[CV] END activation=identity, alpha=0, hidden_layer_sizes=(5, 5), learning_rate=invscaling, learning_rate_init=0.001, max_iter=500, shuffle=False, solver=adam; total time=   0.2s\n",
      "[CV] END activation=identity, alpha=0, hidden_layer_sizes=(5, 5), learning_rate=invscaling, learning_rate_init=0.005, max_iter=200, shuffle=True, solver=adam; total time=   0.1s\n",
      "[CV] END activation=identity, alpha=0, hidden_layer_sizes=(5, 5), learning_rate=invscaling, learning_rate_init=0.005, max_iter=200, shuffle=False, solver=adam; total time=   0.1s\n",
      "[CV] END activation=identity, alpha=0, hidden_layer_sizes=(5, 5), learning_rate=invscaling, learning_rate_init=0.005, max_iter=500, shuffle=True, solver=adam; total time=   0.2s\n",
      "[CV] END activation=identity, alpha=0, hidden_layer_sizes=(5, 5), learning_rate=invscaling, learning_rate_init=0.005, max_iter=500, shuffle=False, solver=adam; total time=   0.1s\n",
      "[CV] END activation=identity, alpha=0, hidden_layer_sizes=(5, 5), learning_rate=invscaling, learning_rate_init=0.01, max_iter=200, shuffle=True, solver=adam; total time=   0.1s\n",
      "[CV] END activation=identity, alpha=0, hidden_layer_sizes=(5, 5), learning_rate=invscaling, learning_rate_init=0.01, max_iter=200, shuffle=False, solver=adam; total time=   0.1s\n",
      "[CV] END activation=identity, alpha=0, hidden_layer_sizes=(5, 5), learning_rate=invscaling, learning_rate_init=0.01, max_iter=500, shuffle=True, solver=adam; total time=   0.2s\n",
      "[CV] END activation=identity, alpha=0, hidden_layer_sizes=(5, 5), learning_rate=invscaling, learning_rate_init=0.01, max_iter=500, shuffle=False, solver=adam; total time=   0.1s\n",
      "[CV] END activation=identity, alpha=0, hidden_layer_sizes=(5, 10), learning_rate=invscaling, learning_rate_init=0, max_iter=200, shuffle=True, solver=adam; total time=   0.0s\n",
      "[CV] END activation=identity, alpha=0, hidden_layer_sizes=(5, 10), learning_rate=invscaling, learning_rate_init=0, max_iter=200, shuffle=False, solver=adam; total time=   0.0s\n",
      "[CV] END activation=identity, alpha=0, hidden_layer_sizes=(5, 10), learning_rate=invscaling, learning_rate_init=0, max_iter=500, shuffle=True, solver=adam; total time=   0.0s\n",
      "[CV] END activation=identity, alpha=0, hidden_layer_sizes=(5, 10), learning_rate=invscaling, learning_rate_init=0, max_iter=500, shuffle=False, solver=adam; total time=   0.0s\n",
      "[CV] END activation=identity, alpha=0, hidden_layer_sizes=(5, 10), learning_rate=invscaling, learning_rate_init=0.0001, max_iter=200, shuffle=True, solver=adam; total time=   1.2s\n",
      "[CV] END activation=identity, alpha=0, hidden_layer_sizes=(5, 10), learning_rate=invscaling, learning_rate_init=0.0001, max_iter=200, shuffle=False, solver=adam; total time=   0.7s\n",
      "[CV] END activation=identity, alpha=0, hidden_layer_sizes=(5, 10), learning_rate=invscaling, learning_rate_init=0.0001, max_iter=500, shuffle=True, solver=adam; total time=   0.6s\n",
      "[CV] END activation=identity, alpha=0, hidden_layer_sizes=(5, 10), learning_rate=invscaling, learning_rate_init=0.0001, max_iter=500, shuffle=False, solver=adam; total time=   0.6s\n",
      "[CV] END activation=identity, alpha=0, hidden_layer_sizes=(5, 10), learning_rate=invscaling, learning_rate_init=0.0005, max_iter=200, shuffle=True, solver=adam; total time=   0.4s\n",
      "[CV] END activation=identity, alpha=0, hidden_layer_sizes=(5, 10), learning_rate=invscaling, learning_rate_init=0.0005, max_iter=200, shuffle=False, solver=adam; total time=   0.5s\n",
      "[CV] END activation=identity, alpha=0, hidden_layer_sizes=(5, 10), learning_rate=invscaling, learning_rate_init=0.0005, max_iter=500, shuffle=True, solver=adam; total time=   0.4s\n",
      "[CV] END activation=identity, alpha=0, hidden_layer_sizes=(5, 10), learning_rate=invscaling, learning_rate_init=0.0005, max_iter=500, shuffle=False, solver=adam; total time=   0.3s\n",
      "[CV] END activation=identity, alpha=0, hidden_layer_sizes=(5, 10), learning_rate=invscaling, learning_rate_init=0.001, max_iter=200, shuffle=True, solver=adam; total time=   0.2s\n",
      "[CV] END activation=identity, alpha=0, hidden_layer_sizes=(5, 10), learning_rate=invscaling, learning_rate_init=0.001, max_iter=200, shuffle=False, solver=adam; total time=   0.2s\n",
      "[CV] END activation=identity, alpha=0, hidden_layer_sizes=(5, 10), learning_rate=invscaling, learning_rate_init=0.001, max_iter=500, shuffle=True, solver=adam; total time=   0.2s\n",
      "[CV] END activation=identity, alpha=0, hidden_layer_sizes=(5, 10), learning_rate=invscaling, learning_rate_init=0.001, max_iter=500, shuffle=False, solver=adam; total time=   0.2s\n",
      "[CV] END activation=identity, alpha=0, hidden_layer_sizes=(5, 10), learning_rate=invscaling, learning_rate_init=0.005, max_iter=200, shuffle=True, solver=adam; total time=   0.3s\n",
      "[CV] END activation=identity, alpha=0, hidden_layer_sizes=(5, 10), learning_rate=invscaling, learning_rate_init=0.005, max_iter=200, shuffle=False, solver=adam; total time=   0.1s\n",
      "[CV] END activation=identity, alpha=0, hidden_layer_sizes=(5, 10), learning_rate=invscaling, learning_rate_init=0.005, max_iter=500, shuffle=True, solver=adam; total time=   0.1s\n",
      "[CV] END activation=identity, alpha=0, hidden_layer_sizes=(5, 10), learning_rate=invscaling, learning_rate_init=0.005, max_iter=500, shuffle=False, solver=adam; total time=   0.1s\n",
      "[CV] END activation=identity, alpha=0, hidden_layer_sizes=(5, 10), learning_rate=invscaling, learning_rate_init=0.01, max_iter=200, shuffle=True, solver=adam; total time=   0.2s\n",
      "[CV] END activation=identity, alpha=0, hidden_layer_sizes=(5, 10), learning_rate=invscaling, learning_rate_init=0.01, max_iter=200, shuffle=False, solver=adam; total time=   0.1s\n",
      "[CV] END activation=identity, alpha=0, hidden_layer_sizes=(5, 10), learning_rate=invscaling, learning_rate_init=0.01, max_iter=500, shuffle=True, solver=adam; total time=   0.1s\n",
      "[CV] END activation=identity, alpha=0, hidden_layer_sizes=(5, 10), learning_rate=invscaling, learning_rate_init=0.01, max_iter=500, shuffle=False, solver=adam; total time=   0.1s\n",
      "[CV] END activation=identity, alpha=0.0005, hidden_layer_sizes=5, learning_rate=invscaling, learning_rate_init=0, max_iter=200, shuffle=True, solver=adam; total time=   0.0s\n",
      "[CV] END activation=identity, alpha=0.0005, hidden_layer_sizes=5, learning_rate=invscaling, learning_rate_init=0, max_iter=200, shuffle=False, solver=adam; total time=   0.0s\n",
      "[CV] END activation=identity, alpha=0.0005, hidden_layer_sizes=5, learning_rate=invscaling, learning_rate_init=0, max_iter=500, shuffle=True, solver=adam; total time=   0.0s\n",
      "[CV] END activation=identity, alpha=0.0005, hidden_layer_sizes=5, learning_rate=invscaling, learning_rate_init=0, max_iter=500, shuffle=False, solver=adam; total time=   0.0s\n",
      "[CV] END activation=identity, alpha=0.0005, hidden_layer_sizes=5, learning_rate=invscaling, learning_rate_init=0.0001, max_iter=200, shuffle=True, solver=adam; total time=   0.8s\n",
      "[CV] END activation=identity, alpha=0.0005, hidden_layer_sizes=5, learning_rate=invscaling, learning_rate_init=0.0001, max_iter=200, shuffle=False, solver=adam; total time=   0.7s\n",
      "[CV] END activation=identity, alpha=0.0005, hidden_layer_sizes=5, learning_rate=invscaling, learning_rate_init=0.0001, max_iter=500, shuffle=True, solver=adam; total time=   0.9s\n",
      "[CV] END activation=identity, alpha=0.0005, hidden_layer_sizes=5, learning_rate=invscaling, learning_rate_init=0.0001, max_iter=500, shuffle=False, solver=adam; total time=   1.5s\n",
      "[CV] END activation=identity, alpha=0.0005, hidden_layer_sizes=5, learning_rate=invscaling, learning_rate_init=0.0005, max_iter=200, shuffle=True, solver=adam; total time=   0.4s\n",
      "[CV] END activation=identity, alpha=0.0005, hidden_layer_sizes=5, learning_rate=invscaling, learning_rate_init=0.0005, max_iter=200, shuffle=False, solver=adam; total time=   0.4s\n",
      "[CV] END activation=identity, alpha=0.0005, hidden_layer_sizes=5, learning_rate=invscaling, learning_rate_init=0.0005, max_iter=500, shuffle=True, solver=adam; total time=   0.4s\n",
      "[CV] END activation=identity, alpha=0.0005, hidden_layer_sizes=5, learning_rate=invscaling, learning_rate_init=0.0005, max_iter=500, shuffle=False, solver=adam; total time=   0.3s\n",
      "[CV] END activation=identity, alpha=0.0005, hidden_layer_sizes=5, learning_rate=invscaling, learning_rate_init=0.001, max_iter=200, shuffle=True, solver=adam; total time=   0.2s\n",
      "[CV] END activation=identity, alpha=0.0005, hidden_layer_sizes=5, learning_rate=invscaling, learning_rate_init=0.001, max_iter=200, shuffle=False, solver=adam; total time=   0.2s\n",
      "[CV] END activation=identity, alpha=0.0005, hidden_layer_sizes=5, learning_rate=invscaling, learning_rate_init=0.001, max_iter=500, shuffle=True, solver=adam; total time=   0.2s\n",
      "[CV] END activation=identity, alpha=0.0005, hidden_layer_sizes=5, learning_rate=invscaling, learning_rate_init=0.001, max_iter=500, shuffle=False, solver=adam; total time=   0.2s\n",
      "[CV] END activation=identity, alpha=0.0005, hidden_layer_sizes=5, learning_rate=invscaling, learning_rate_init=0.005, max_iter=200, shuffle=True, solver=adam; total time=   0.1s\n",
      "[CV] END activation=identity, alpha=0.0005, hidden_layer_sizes=5, learning_rate=invscaling, learning_rate_init=0.005, max_iter=200, shuffle=False, solver=adam; total time=   0.1s\n",
      "[CV] END activation=identity, alpha=0.0005, hidden_layer_sizes=5, learning_rate=invscaling, learning_rate_init=0.005, max_iter=500, shuffle=True, solver=adam; total time=   0.1s\n",
      "[CV] END activation=identity, alpha=0.0005, hidden_layer_sizes=5, learning_rate=invscaling, learning_rate_init=0.005, max_iter=500, shuffle=False, solver=adam; total time=   0.1s\n",
      "[CV] END activation=identity, alpha=0.0005, hidden_layer_sizes=5, learning_rate=invscaling, learning_rate_init=0.01, max_iter=200, shuffle=True, solver=adam; total time=   0.1s\n",
      "[CV] END activation=identity, alpha=0.0005, hidden_layer_sizes=5, learning_rate=invscaling, learning_rate_init=0.01, max_iter=200, shuffle=False, solver=adam; total time=   0.1s\n",
      "[CV] END activation=identity, alpha=0.0005, hidden_layer_sizes=5, learning_rate=invscaling, learning_rate_init=0.01, max_iter=500, shuffle=True, solver=adam; total time=   0.1s\n",
      "[CV] END activation=identity, alpha=0.0005, hidden_layer_sizes=5, learning_rate=invscaling, learning_rate_init=0.01, max_iter=500, shuffle=False, solver=adam; total time=   0.1s\n",
      "[CV] END activation=identity, alpha=0.0005, hidden_layer_sizes=10, learning_rate=invscaling, learning_rate_init=0, max_iter=200, shuffle=True, solver=adam; total time=   0.0s\n",
      "[CV] END activation=identity, alpha=0.0005, hidden_layer_sizes=10, learning_rate=invscaling, learning_rate_init=0, max_iter=200, shuffle=False, solver=adam; total time=   0.0s\n",
      "[CV] END activation=identity, alpha=0.0005, hidden_layer_sizes=10, learning_rate=invscaling, learning_rate_init=0, max_iter=500, shuffle=True, solver=adam; total time=   0.0s\n",
      "[CV] END activation=identity, alpha=0.0005, hidden_layer_sizes=10, learning_rate=invscaling, learning_rate_init=0, max_iter=500, shuffle=False, solver=adam; total time=   0.0s\n",
      "[CV] END activation=identity, alpha=0.0005, hidden_layer_sizes=10, learning_rate=invscaling, learning_rate_init=0.0001, max_iter=200, shuffle=True, solver=adam; total time=   0.8s\n",
      "[CV] END activation=identity, alpha=0.0005, hidden_layer_sizes=10, learning_rate=invscaling, learning_rate_init=0.0001, max_iter=200, shuffle=False, solver=adam; total time=   0.7s\n",
      "[CV] END activation=identity, alpha=0.0005, hidden_layer_sizes=10, learning_rate=invscaling, learning_rate_init=0.0001, max_iter=500, shuffle=True, solver=adam; total time=   0.9s\n",
      "[CV] END activation=identity, alpha=0.0005, hidden_layer_sizes=10, learning_rate=invscaling, learning_rate_init=0.0001, max_iter=500, shuffle=False, solver=adam; total time=   0.6s\n",
      "[CV] END activation=identity, alpha=0.0005, hidden_layer_sizes=10, learning_rate=invscaling, learning_rate_init=0.0005, max_iter=200, shuffle=True, solver=adam; total time=   0.3s\n",
      "[CV] END activation=identity, alpha=0.0005, hidden_layer_sizes=10, learning_rate=invscaling, learning_rate_init=0.0005, max_iter=200, shuffle=False, solver=adam; total time=   0.2s\n",
      "[CV] END activation=identity, alpha=0.0005, hidden_layer_sizes=10, learning_rate=invscaling, learning_rate_init=0.0005, max_iter=500, shuffle=True, solver=adam; total time=   0.3s\n",
      "[CV] END activation=identity, alpha=0.0005, hidden_layer_sizes=10, learning_rate=invscaling, learning_rate_init=0.0005, max_iter=500, shuffle=False, solver=adam; total time=   0.2s\n",
      "[CV] END activation=identity, alpha=0.0005, hidden_layer_sizes=10, learning_rate=invscaling, learning_rate_init=0.001, max_iter=200, shuffle=True, solver=adam; total time=   0.2s\n",
      "[CV] END activation=identity, alpha=0.0005, hidden_layer_sizes=10, learning_rate=invscaling, learning_rate_init=0.001, max_iter=200, shuffle=False, solver=adam; total time=   0.2s\n",
      "[CV] END activation=identity, alpha=0.0005, hidden_layer_sizes=10, learning_rate=invscaling, learning_rate_init=0.001, max_iter=500, shuffle=True, solver=adam; total time=   0.2s\n",
      "[CV] END activation=identity, alpha=0.0005, hidden_layer_sizes=10, learning_rate=invscaling, learning_rate_init=0.001, max_iter=500, shuffle=False, solver=adam; total time=   0.1s\n",
      "[CV] END activation=identity, alpha=0.0005, hidden_layer_sizes=10, learning_rate=invscaling, learning_rate_init=0.005, max_iter=200, shuffle=True, solver=adam; total time=   0.1s\n",
      "[CV] END activation=identity, alpha=0.0005, hidden_layer_sizes=10, learning_rate=invscaling, learning_rate_init=0.005, max_iter=200, shuffle=False, solver=adam; total time=   0.1s\n",
      "[CV] END activation=identity, alpha=0.0005, hidden_layer_sizes=10, learning_rate=invscaling, learning_rate_init=0.005, max_iter=500, shuffle=True, solver=adam; total time=   0.2s\n",
      "[CV] END activation=identity, alpha=0.0005, hidden_layer_sizes=10, learning_rate=invscaling, learning_rate_init=0.005, max_iter=500, shuffle=False, solver=adam; total time=   0.1s\n",
      "[CV] END activation=identity, alpha=0.0005, hidden_layer_sizes=10, learning_rate=invscaling, learning_rate_init=0.01, max_iter=200, shuffle=True, solver=adam; total time=   0.1s\n",
      "[CV] END activation=identity, alpha=0.0005, hidden_layer_sizes=10, learning_rate=invscaling, learning_rate_init=0.01, max_iter=200, shuffle=False, solver=adam; total time=   0.1s\n",
      "[CV] END activation=identity, alpha=0.0005, hidden_layer_sizes=10, learning_rate=invscaling, learning_rate_init=0.01, max_iter=500, shuffle=True, solver=adam; total time=   0.1s\n",
      "[CV] END activation=identity, alpha=0.0005, hidden_layer_sizes=10, learning_rate=invscaling, learning_rate_init=0.01, max_iter=500, shuffle=False, solver=adam; total time=   0.1s\n",
      "[CV] END activation=identity, alpha=0.0005, hidden_layer_sizes=15, learning_rate=invscaling, learning_rate_init=0, max_iter=200, shuffle=True, solver=adam; total time=   0.0s\n",
      "[CV] END activation=identity, alpha=0.0005, hidden_layer_sizes=15, learning_rate=invscaling, learning_rate_init=0, max_iter=200, shuffle=False, solver=adam; total time=   0.0s\n",
      "[CV] END activation=identity, alpha=0.0005, hidden_layer_sizes=15, learning_rate=invscaling, learning_rate_init=0, max_iter=500, shuffle=True, solver=adam; total time=   0.0s\n",
      "[CV] END activation=identity, alpha=0.0005, hidden_layer_sizes=15, learning_rate=invscaling, learning_rate_init=0, max_iter=500, shuffle=False, solver=adam; total time=   0.0s\n",
      "[CV] END activation=identity, alpha=0.0005, hidden_layer_sizes=15, learning_rate=invscaling, learning_rate_init=0.0001, max_iter=200, shuffle=True, solver=adam; total time=   0.6s\n",
      "[CV] END activation=identity, alpha=0.0005, hidden_layer_sizes=15, learning_rate=invscaling, learning_rate_init=0.0001, max_iter=200, shuffle=False, solver=adam; total time=   0.5s\n",
      "[CV] END activation=identity, alpha=0.0005, hidden_layer_sizes=15, learning_rate=invscaling, learning_rate_init=0.0001, max_iter=500, shuffle=True, solver=adam; total time=   0.7s\n",
      "[CV] END activation=identity, alpha=0.0005, hidden_layer_sizes=15, learning_rate=invscaling, learning_rate_init=0.0001, max_iter=500, shuffle=False, solver=adam; total time=   0.6s\n",
      "[CV] END activation=identity, alpha=0.0005, hidden_layer_sizes=15, learning_rate=invscaling, learning_rate_init=0.0005, max_iter=200, shuffle=True, solver=adam; total time=   0.2s\n",
      "[CV] END activation=identity, alpha=0.0005, hidden_layer_sizes=15, learning_rate=invscaling, learning_rate_init=0.0005, max_iter=200, shuffle=False, solver=adam; total time=   0.1s\n",
      "[CV] END activation=identity, alpha=0.0005, hidden_layer_sizes=15, learning_rate=invscaling, learning_rate_init=0.0005, max_iter=500, shuffle=True, solver=adam; total time=   0.2s\n",
      "[CV] END activation=identity, alpha=0.0005, hidden_layer_sizes=15, learning_rate=invscaling, learning_rate_init=0.0005, max_iter=500, shuffle=False, solver=adam; total time=   0.2s\n",
      "[CV] END activation=identity, alpha=0.0005, hidden_layer_sizes=15, learning_rate=invscaling, learning_rate_init=0.001, max_iter=200, shuffle=True, solver=adam; total time=   0.2s\n",
      "[CV] END activation=identity, alpha=0.0005, hidden_layer_sizes=15, learning_rate=invscaling, learning_rate_init=0.001, max_iter=200, shuffle=False, solver=adam; total time=   0.1s\n",
      "[CV] END activation=identity, alpha=0.0005, hidden_layer_sizes=15, learning_rate=invscaling, learning_rate_init=0.001, max_iter=500, shuffle=True, solver=adam; total time=   0.1s\n",
      "[CV] END activation=identity, alpha=0.0005, hidden_layer_sizes=15, learning_rate=invscaling, learning_rate_init=0.001, max_iter=500, shuffle=False, solver=adam; total time=   0.1s\n",
      "[CV] END activation=identity, alpha=0.0005, hidden_layer_sizes=15, learning_rate=invscaling, learning_rate_init=0.005, max_iter=200, shuffle=True, solver=adam; total time=   0.1s\n",
      "[CV] END activation=identity, alpha=0.0005, hidden_layer_sizes=15, learning_rate=invscaling, learning_rate_init=0.005, max_iter=200, shuffle=False, solver=adam; total time=   0.1s\n",
      "[CV] END activation=identity, alpha=0.0005, hidden_layer_sizes=15, learning_rate=invscaling, learning_rate_init=0.005, max_iter=500, shuffle=True, solver=adam; total time=   0.1s\n",
      "[CV] END activation=identity, alpha=0.0005, hidden_layer_sizes=15, learning_rate=invscaling, learning_rate_init=0.005, max_iter=500, shuffle=False, solver=adam; total time=   0.1s\n",
      "[CV] END activation=identity, alpha=0.0005, hidden_layer_sizes=15, learning_rate=invscaling, learning_rate_init=0.01, max_iter=200, shuffle=True, solver=adam; total time=   0.1s\n",
      "[CV] END activation=identity, alpha=0.0005, hidden_layer_sizes=15, learning_rate=invscaling, learning_rate_init=0.01, max_iter=200, shuffle=False, solver=adam; total time=   0.1s\n",
      "[CV] END activation=identity, alpha=0.0005, hidden_layer_sizes=15, learning_rate=invscaling, learning_rate_init=0.01, max_iter=500, shuffle=True, solver=adam; total time=   0.1s\n",
      "[CV] END activation=identity, alpha=0.0005, hidden_layer_sizes=15, learning_rate=invscaling, learning_rate_init=0.01, max_iter=500, shuffle=False, solver=adam; total time=   0.1s\n",
      "[CV] END activation=identity, alpha=0.0005, hidden_layer_sizes=(5, 5), learning_rate=invscaling, learning_rate_init=0, max_iter=200, shuffle=True, solver=adam; total time=   0.0s\n",
      "[CV] END activation=identity, alpha=0.0005, hidden_layer_sizes=(5, 5), learning_rate=invscaling, learning_rate_init=0, max_iter=200, shuffle=False, solver=adam; total time=   0.0s\n",
      "[CV] END activation=identity, alpha=0.0005, hidden_layer_sizes=(5, 5), learning_rate=invscaling, learning_rate_init=0, max_iter=500, shuffle=True, solver=adam; total time=   0.0s\n",
      "[CV] END activation=identity, alpha=0.0005, hidden_layer_sizes=(5, 5), learning_rate=invscaling, learning_rate_init=0, max_iter=500, shuffle=False, solver=adam; total time=   0.0s\n",
      "[CV] END activation=identity, alpha=0.0005, hidden_layer_sizes=(5, 5), learning_rate=invscaling, learning_rate_init=0.0001, max_iter=200, shuffle=True, solver=adam; total time=   1.1s\n",
      "[CV] END activation=identity, alpha=0.0005, hidden_layer_sizes=(5, 5), learning_rate=invscaling, learning_rate_init=0.0001, max_iter=200, shuffle=False, solver=adam; total time=   0.9s\n",
      "[CV] END activation=identity, alpha=0.0005, hidden_layer_sizes=(5, 5), learning_rate=invscaling, learning_rate_init=0.0001, max_iter=500, shuffle=True, solver=adam; total time=   1.6s\n",
      "[CV] END activation=identity, alpha=0.0005, hidden_layer_sizes=(5, 5), learning_rate=invscaling, learning_rate_init=0.0001, max_iter=500, shuffle=False, solver=adam; total time=   1.1s\n",
      "[CV] END activation=identity, alpha=0.0005, hidden_layer_sizes=(5, 5), learning_rate=invscaling, learning_rate_init=0.0005, max_iter=200, shuffle=True, solver=adam; total time=   0.5s\n",
      "[CV] END activation=identity, alpha=0.0005, hidden_layer_sizes=(5, 5), learning_rate=invscaling, learning_rate_init=0.0005, max_iter=200, shuffle=False, solver=adam; total time=   0.4s\n",
      "[CV] END activation=identity, alpha=0.0005, hidden_layer_sizes=(5, 5), learning_rate=invscaling, learning_rate_init=0.0005, max_iter=500, shuffle=True, solver=adam; total time=   0.5s\n",
      "[CV] END activation=identity, alpha=0.0005, hidden_layer_sizes=(5, 5), learning_rate=invscaling, learning_rate_init=0.0005, max_iter=500, shuffle=False, solver=adam; total time=   0.5s\n",
      "[CV] END activation=identity, alpha=0.0005, hidden_layer_sizes=(5, 5), learning_rate=invscaling, learning_rate_init=0.001, max_iter=200, shuffle=True, solver=adam; total time=   0.3s\n",
      "[CV] END activation=identity, alpha=0.0005, hidden_layer_sizes=(5, 5), learning_rate=invscaling, learning_rate_init=0.001, max_iter=200, shuffle=False, solver=adam; total time=   0.1s\n",
      "[CV] END activation=identity, alpha=0.0005, hidden_layer_sizes=(5, 5), learning_rate=invscaling, learning_rate_init=0.001, max_iter=500, shuffle=True, solver=adam; total time=   0.2s\n",
      "[CV] END activation=identity, alpha=0.0005, hidden_layer_sizes=(5, 5), learning_rate=invscaling, learning_rate_init=0.001, max_iter=500, shuffle=False, solver=adam; total time=   0.3s\n",
      "[CV] END activation=identity, alpha=0.0005, hidden_layer_sizes=(5, 5), learning_rate=invscaling, learning_rate_init=0.005, max_iter=200, shuffle=True, solver=adam; total time=   0.1s\n",
      "[CV] END activation=identity, alpha=0.0005, hidden_layer_sizes=(5, 5), learning_rate=invscaling, learning_rate_init=0.005, max_iter=200, shuffle=False, solver=adam; total time=   0.1s\n",
      "[CV] END activation=identity, alpha=0.0005, hidden_layer_sizes=(5, 5), learning_rate=invscaling, learning_rate_init=0.005, max_iter=500, shuffle=True, solver=adam; total time=   0.2s\n",
      "[CV] END activation=identity, alpha=0.0005, hidden_layer_sizes=(5, 5), learning_rate=invscaling, learning_rate_init=0.005, max_iter=500, shuffle=False, solver=adam; total time=   0.1s\n",
      "[CV] END activation=identity, alpha=0.0005, hidden_layer_sizes=(5, 5), learning_rate=invscaling, learning_rate_init=0.01, max_iter=200, shuffle=True, solver=adam; total time=   0.1s\n",
      "[CV] END activation=identity, alpha=0.0005, hidden_layer_sizes=(5, 5), learning_rate=invscaling, learning_rate_init=0.01, max_iter=200, shuffle=False, solver=adam; total time=   0.1s\n",
      "[CV] END activation=identity, alpha=0.0005, hidden_layer_sizes=(5, 5), learning_rate=invscaling, learning_rate_init=0.01, max_iter=500, shuffle=True, solver=adam; total time=   0.1s\n",
      "[CV] END activation=identity, alpha=0.0005, hidden_layer_sizes=(5, 5), learning_rate=invscaling, learning_rate_init=0.01, max_iter=500, shuffle=False, solver=adam; total time=   0.1s\n",
      "[CV] END activation=identity, alpha=0.0005, hidden_layer_sizes=(5, 10), learning_rate=invscaling, learning_rate_init=0, max_iter=200, shuffle=True, solver=adam; total time=   0.0s\n",
      "[CV] END activation=identity, alpha=0.0005, hidden_layer_sizes=(5, 10), learning_rate=invscaling, learning_rate_init=0, max_iter=200, shuffle=False, solver=adam; total time=   0.0s\n",
      "[CV] END activation=identity, alpha=0.0005, hidden_layer_sizes=(5, 10), learning_rate=invscaling, learning_rate_init=0, max_iter=500, shuffle=True, solver=adam; total time=   0.0s\n",
      "[CV] END activation=identity, alpha=0.0005, hidden_layer_sizes=(5, 10), learning_rate=invscaling, learning_rate_init=0, max_iter=500, shuffle=False, solver=adam; total time=   0.0s\n",
      "[CV] END activation=identity, alpha=0.0005, hidden_layer_sizes=(5, 10), learning_rate=invscaling, learning_rate_init=0.0001, max_iter=200, shuffle=True, solver=adam; total time=   0.8s\n",
      "[CV] END activation=identity, alpha=0.0005, hidden_layer_sizes=(5, 10), learning_rate=invscaling, learning_rate_init=0.0001, max_iter=200, shuffle=False, solver=adam; total time=   0.7s\n",
      "[CV] END activation=identity, alpha=0.0005, hidden_layer_sizes=(5, 10), learning_rate=invscaling, learning_rate_init=0.0001, max_iter=500, shuffle=True, solver=adam; total time=   0.7s\n",
      "[CV] END activation=identity, alpha=0.0005, hidden_layer_sizes=(5, 10), learning_rate=invscaling, learning_rate_init=0.0001, max_iter=500, shuffle=False, solver=adam; total time=   0.5s\n",
      "[CV] END activation=identity, alpha=0.0005, hidden_layer_sizes=(5, 10), learning_rate=invscaling, learning_rate_init=0.0005, max_iter=200, shuffle=True, solver=adam; total time=   0.3s\n",
      "[CV] END activation=identity, alpha=0.0005, hidden_layer_sizes=(5, 10), learning_rate=invscaling, learning_rate_init=0.0005, max_iter=200, shuffle=False, solver=adam; total time=   0.4s\n",
      "[CV] END activation=identity, alpha=0.0005, hidden_layer_sizes=(5, 10), learning_rate=invscaling, learning_rate_init=0.0005, max_iter=500, shuffle=True, solver=adam; total time=   0.4s\n",
      "[CV] END activation=identity, alpha=0.0005, hidden_layer_sizes=(5, 10), learning_rate=invscaling, learning_rate_init=0.0005, max_iter=500, shuffle=False, solver=adam; total time=   0.3s\n",
      "[CV] END activation=identity, alpha=0.0005, hidden_layer_sizes=(5, 10), learning_rate=invscaling, learning_rate_init=0.001, max_iter=200, shuffle=True, solver=adam; total time=   0.3s\n",
      "[CV] END activation=identity, alpha=0.0005, hidden_layer_sizes=(5, 10), learning_rate=invscaling, learning_rate_init=0.001, max_iter=200, shuffle=False, solver=adam; total time=   0.2s\n",
      "[CV] END activation=identity, alpha=0.0005, hidden_layer_sizes=(5, 10), learning_rate=invscaling, learning_rate_init=0.001, max_iter=500, shuffle=True, solver=adam; total time=   0.2s\n",
      "[CV] END activation=identity, alpha=0.0005, hidden_layer_sizes=(5, 10), learning_rate=invscaling, learning_rate_init=0.001, max_iter=500, shuffle=False, solver=adam; total time=   0.2s\n",
      "[CV] END activation=identity, alpha=0.0005, hidden_layer_sizes=(5, 10), learning_rate=invscaling, learning_rate_init=0.005, max_iter=200, shuffle=True, solver=adam; total time=   0.2s\n",
      "[CV] END activation=identity, alpha=0.0005, hidden_layer_sizes=(5, 10), learning_rate=invscaling, learning_rate_init=0.005, max_iter=200, shuffle=False, solver=adam; total time=   0.1s\n",
      "[CV] END activation=identity, alpha=0.0005, hidden_layer_sizes=(5, 10), learning_rate=invscaling, learning_rate_init=0.005, max_iter=500, shuffle=True, solver=adam; total time=   0.2s\n",
      "[CV] END activation=identity, alpha=0.0005, hidden_layer_sizes=(5, 10), learning_rate=invscaling, learning_rate_init=0.005, max_iter=500, shuffle=False, solver=adam; total time=   0.1s\n",
      "[CV] END activation=identity, alpha=0.0005, hidden_layer_sizes=(5, 10), learning_rate=invscaling, learning_rate_init=0.01, max_iter=200, shuffle=True, solver=adam; total time=   0.1s\n",
      "[CV] END activation=identity, alpha=0.0005, hidden_layer_sizes=(5, 10), learning_rate=invscaling, learning_rate_init=0.01, max_iter=200, shuffle=False, solver=adam; total time=   0.1s\n",
      "[CV] END activation=identity, alpha=0.0005, hidden_layer_sizes=(5, 10), learning_rate=invscaling, learning_rate_init=0.01, max_iter=500, shuffle=True, solver=adam; total time=   0.1s\n",
      "[CV] END activation=identity, alpha=0.0005, hidden_layer_sizes=(5, 10), learning_rate=invscaling, learning_rate_init=0.01, max_iter=500, shuffle=False, solver=adam; total time=   0.1s\n",
      "[CV] END activation=identity, alpha=0.0001, hidden_layer_sizes=5, learning_rate=invscaling, learning_rate_init=0, max_iter=200, shuffle=True, solver=adam; total time=   0.0s\n",
      "[CV] END activation=identity, alpha=0.0001, hidden_layer_sizes=5, learning_rate=invscaling, learning_rate_init=0, max_iter=200, shuffle=False, solver=adam; total time=   0.0s\n",
      "[CV] END activation=identity, alpha=0.0001, hidden_layer_sizes=5, learning_rate=invscaling, learning_rate_init=0, max_iter=500, shuffle=True, solver=adam; total time=   0.0s\n",
      "[CV] END activation=identity, alpha=0.0001, hidden_layer_sizes=5, learning_rate=invscaling, learning_rate_init=0, max_iter=500, shuffle=False, solver=adam; total time=   0.0s\n",
      "[CV] END activation=identity, alpha=0.0001, hidden_layer_sizes=5, learning_rate=invscaling, learning_rate_init=0.0001, max_iter=200, shuffle=True, solver=adam; total time=   0.8s\n",
      "[CV] END activation=identity, alpha=0.0001, hidden_layer_sizes=5, learning_rate=invscaling, learning_rate_init=0.0001, max_iter=200, shuffle=False, solver=adam; total time=   0.7s\n",
      "[CV] END activation=identity, alpha=0.0001, hidden_layer_sizes=5, learning_rate=invscaling, learning_rate_init=0.0001, max_iter=500, shuffle=True, solver=adam; total time=   1.4s\n",
      "[CV] END activation=identity, alpha=0.0001, hidden_layer_sizes=5, learning_rate=invscaling, learning_rate_init=0.0001, max_iter=500, shuffle=False, solver=adam; total time=   1.3s\n",
      "[CV] END activation=identity, alpha=0.0001, hidden_layer_sizes=5, learning_rate=invscaling, learning_rate_init=0.0005, max_iter=200, shuffle=True, solver=adam; total time=   0.4s\n",
      "[CV] END activation=identity, alpha=0.0001, hidden_layer_sizes=5, learning_rate=invscaling, learning_rate_init=0.0005, max_iter=200, shuffle=False, solver=adam; total time=   0.3s\n",
      "[CV] END activation=identity, alpha=0.0001, hidden_layer_sizes=5, learning_rate=invscaling, learning_rate_init=0.0005, max_iter=500, shuffle=True, solver=adam; total time=   0.4s\n",
      "[CV] END activation=identity, alpha=0.0001, hidden_layer_sizes=5, learning_rate=invscaling, learning_rate_init=0.0005, max_iter=500, shuffle=False, solver=adam; total time=   0.4s\n",
      "[CV] END activation=identity, alpha=0.0001, hidden_layer_sizes=5, learning_rate=invscaling, learning_rate_init=0.001, max_iter=200, shuffle=True, solver=adam; total time=   0.2s\n",
      "[CV] END activation=identity, alpha=0.0001, hidden_layer_sizes=5, learning_rate=invscaling, learning_rate_init=0.001, max_iter=200, shuffle=False, solver=adam; total time=   0.2s\n",
      "[CV] END activation=identity, alpha=0.0001, hidden_layer_sizes=5, learning_rate=invscaling, learning_rate_init=0.001, max_iter=500, shuffle=True, solver=adam; total time=   0.3s\n",
      "[CV] END activation=identity, alpha=0.0001, hidden_layer_sizes=5, learning_rate=invscaling, learning_rate_init=0.001, max_iter=500, shuffle=False, solver=adam; total time=   0.1s\n",
      "[CV] END activation=identity, alpha=0.0001, hidden_layer_sizes=5, learning_rate=invscaling, learning_rate_init=0.005, max_iter=200, shuffle=True, solver=adam; total time=   0.1s\n",
      "[CV] END activation=identity, alpha=0.0001, hidden_layer_sizes=5, learning_rate=invscaling, learning_rate_init=0.005, max_iter=200, shuffle=False, solver=adam; total time=   0.1s\n",
      "[CV] END activation=identity, alpha=0.0001, hidden_layer_sizes=5, learning_rate=invscaling, learning_rate_init=0.005, max_iter=500, shuffle=True, solver=adam; total time=   0.1s\n",
      "[CV] END activation=identity, alpha=0.0001, hidden_layer_sizes=5, learning_rate=invscaling, learning_rate_init=0.005, max_iter=500, shuffle=False, solver=adam; total time=   0.1s\n",
      "[CV] END activation=identity, alpha=0.0001, hidden_layer_sizes=5, learning_rate=invscaling, learning_rate_init=0.01, max_iter=200, shuffle=True, solver=adam; total time=   0.1s\n",
      "[CV] END activation=identity, alpha=0.0001, hidden_layer_sizes=5, learning_rate=invscaling, learning_rate_init=0.01, max_iter=200, shuffle=False, solver=adam; total time=   0.1s\n",
      "[CV] END activation=identity, alpha=0.0001, hidden_layer_sizes=5, learning_rate=invscaling, learning_rate_init=0.01, max_iter=500, shuffle=True, solver=adam; total time=   0.1s\n",
      "[CV] END activation=identity, alpha=0.0001, hidden_layer_sizes=5, learning_rate=invscaling, learning_rate_init=0.01, max_iter=500, shuffle=False, solver=adam; total time=   0.1s\n",
      "[CV] END activation=identity, alpha=0.0001, hidden_layer_sizes=10, learning_rate=invscaling, learning_rate_init=0, max_iter=200, shuffle=True, solver=adam; total time=   0.0s\n",
      "[CV] END activation=identity, alpha=0.0001, hidden_layer_sizes=10, learning_rate=invscaling, learning_rate_init=0, max_iter=200, shuffle=False, solver=adam; total time=   0.0s\n",
      "[CV] END activation=identity, alpha=0.0001, hidden_layer_sizes=10, learning_rate=invscaling, learning_rate_init=0, max_iter=500, shuffle=True, solver=adam; total time=   0.0s\n",
      "[CV] END activation=identity, alpha=0.0001, hidden_layer_sizes=10, learning_rate=invscaling, learning_rate_init=0, max_iter=500, shuffle=False, solver=adam; total time=   0.0s\n",
      "[CV] END activation=identity, alpha=0.0001, hidden_layer_sizes=10, learning_rate=invscaling, learning_rate_init=0.0001, max_iter=200, shuffle=True, solver=adam; total time=   0.8s\n",
      "[CV] END activation=identity, alpha=0.0001, hidden_layer_sizes=10, learning_rate=invscaling, learning_rate_init=0.0001, max_iter=200, shuffle=False, solver=adam; total time=   0.7s\n",
      "[CV] END activation=identity, alpha=0.0001, hidden_layer_sizes=10, learning_rate=invscaling, learning_rate_init=0.0001, max_iter=500, shuffle=True, solver=adam; total time=   0.8s\n",
      "[CV] END activation=identity, alpha=0.0001, hidden_layer_sizes=10, learning_rate=invscaling, learning_rate_init=0.0001, max_iter=500, shuffle=False, solver=adam; total time=   0.8s\n",
      "[CV] END activation=identity, alpha=0.0001, hidden_layer_sizes=10, learning_rate=invscaling, learning_rate_init=0.0005, max_iter=200, shuffle=True, solver=adam; total time=   0.2s\n",
      "[CV] END activation=identity, alpha=0.0001, hidden_layer_sizes=10, learning_rate=invscaling, learning_rate_init=0.0005, max_iter=200, shuffle=False, solver=adam; total time=   0.2s\n",
      "[CV] END activation=identity, alpha=0.0001, hidden_layer_sizes=10, learning_rate=invscaling, learning_rate_init=0.0005, max_iter=500, shuffle=True, solver=adam; total time=   0.3s\n",
      "[CV] END activation=identity, alpha=0.0001, hidden_layer_sizes=10, learning_rate=invscaling, learning_rate_init=0.0005, max_iter=500, shuffle=False, solver=adam; total time=   0.2s\n",
      "[CV] END activation=identity, alpha=0.0001, hidden_layer_sizes=10, learning_rate=invscaling, learning_rate_init=0.001, max_iter=200, shuffle=True, solver=adam; total time=   0.2s\n",
      "[CV] END activation=identity, alpha=0.0001, hidden_layer_sizes=10, learning_rate=invscaling, learning_rate_init=0.001, max_iter=200, shuffle=False, solver=adam; total time=   0.1s\n",
      "[CV] END activation=identity, alpha=0.0001, hidden_layer_sizes=10, learning_rate=invscaling, learning_rate_init=0.001, max_iter=500, shuffle=True, solver=adam; total time=   0.2s\n",
      "[CV] END activation=identity, alpha=0.0001, hidden_layer_sizes=10, learning_rate=invscaling, learning_rate_init=0.001, max_iter=500, shuffle=False, solver=adam; total time=   0.1s\n",
      "[CV] END activation=identity, alpha=0.0001, hidden_layer_sizes=10, learning_rate=invscaling, learning_rate_init=0.005, max_iter=200, shuffle=True, solver=adam; total time=   0.1s\n",
      "[CV] END activation=identity, alpha=0.0001, hidden_layer_sizes=10, learning_rate=invscaling, learning_rate_init=0.005, max_iter=200, shuffle=False, solver=adam; total time=   0.1s\n",
      "[CV] END activation=identity, alpha=0.0001, hidden_layer_sizes=10, learning_rate=invscaling, learning_rate_init=0.005, max_iter=500, shuffle=True, solver=adam; total time=   0.1s\n",
      "[CV] END activation=identity, alpha=0.0001, hidden_layer_sizes=10, learning_rate=invscaling, learning_rate_init=0.005, max_iter=500, shuffle=False, solver=adam; total time=   0.1s\n",
      "[CV] END activation=identity, alpha=0.0001, hidden_layer_sizes=10, learning_rate=invscaling, learning_rate_init=0.01, max_iter=200, shuffle=True, solver=adam; total time=   0.1s\n",
      "[CV] END activation=identity, alpha=0.0001, hidden_layer_sizes=10, learning_rate=invscaling, learning_rate_init=0.01, max_iter=200, shuffle=False, solver=adam; total time=   0.1s\n",
      "[CV] END activation=identity, alpha=0.0001, hidden_layer_sizes=10, learning_rate=invscaling, learning_rate_init=0.01, max_iter=500, shuffle=True, solver=adam; total time=   0.1s\n",
      "[CV] END activation=identity, alpha=0.0001, hidden_layer_sizes=10, learning_rate=invscaling, learning_rate_init=0.01, max_iter=500, shuffle=False, solver=adam; total time=   0.1s\n",
      "[CV] END activation=identity, alpha=0.0001, hidden_layer_sizes=15, learning_rate=invscaling, learning_rate_init=0, max_iter=200, shuffle=True, solver=adam; total time=   0.0s\n",
      "[CV] END activation=identity, alpha=0.0001, hidden_layer_sizes=15, learning_rate=invscaling, learning_rate_init=0, max_iter=200, shuffle=False, solver=adam; total time=   0.0s\n",
      "[CV] END activation=identity, alpha=0.0001, hidden_layer_sizes=15, learning_rate=invscaling, learning_rate_init=0, max_iter=500, shuffle=True, solver=adam; total time=   0.0s\n",
      "[CV] END activation=identity, alpha=0.0001, hidden_layer_sizes=15, learning_rate=invscaling, learning_rate_init=0, max_iter=500, shuffle=False, solver=adam; total time=   0.0s\n",
      "[CV] END activation=identity, alpha=0.0001, hidden_layer_sizes=15, learning_rate=invscaling, learning_rate_init=0.0001, max_iter=200, shuffle=True, solver=adam; total time=   0.7s\n",
      "[CV] END activation=identity, alpha=0.0001, hidden_layer_sizes=15, learning_rate=invscaling, learning_rate_init=0.0001, max_iter=200, shuffle=False, solver=adam; total time=   0.5s\n",
      "[CV] END activation=identity, alpha=0.0001, hidden_layer_sizes=15, learning_rate=invscaling, learning_rate_init=0.0001, max_iter=500, shuffle=True, solver=adam; total time=   0.5s\n",
      "[CV] END activation=identity, alpha=0.0001, hidden_layer_sizes=15, learning_rate=invscaling, learning_rate_init=0.0001, max_iter=500, shuffle=False, solver=adam; total time=   0.5s\n",
      "[CV] END activation=identity, alpha=0.0001, hidden_layer_sizes=15, learning_rate=invscaling, learning_rate_init=0.0005, max_iter=200, shuffle=True, solver=adam; total time=   0.2s\n",
      "[CV] END activation=identity, alpha=0.0001, hidden_layer_sizes=15, learning_rate=invscaling, learning_rate_init=0.0005, max_iter=200, shuffle=False, solver=adam; total time=   0.2s\n",
      "[CV] END activation=identity, alpha=0.0001, hidden_layer_sizes=15, learning_rate=invscaling, learning_rate_init=0.0005, max_iter=500, shuffle=True, solver=adam; total time=   0.2s\n",
      "[CV] END activation=identity, alpha=0.0001, hidden_layer_sizes=15, learning_rate=invscaling, learning_rate_init=0.0005, max_iter=500, shuffle=False, solver=adam; total time=   0.1s\n",
      "[CV] END activation=identity, alpha=0.0001, hidden_layer_sizes=15, learning_rate=invscaling, learning_rate_init=0.001, max_iter=200, shuffle=True, solver=adam; total time=   0.1s\n",
      "[CV] END activation=identity, alpha=0.0001, hidden_layer_sizes=15, learning_rate=invscaling, learning_rate_init=0.001, max_iter=200, shuffle=False, solver=adam; total time=   0.1s\n",
      "[CV] END activation=identity, alpha=0.0001, hidden_layer_sizes=15, learning_rate=invscaling, learning_rate_init=0.001, max_iter=500, shuffle=True, solver=adam; total time=   0.1s\n",
      "[CV] END activation=identity, alpha=0.0001, hidden_layer_sizes=15, learning_rate=invscaling, learning_rate_init=0.001, max_iter=500, shuffle=False, solver=adam; total time=   0.1s\n",
      "[CV] END activation=identity, alpha=0.0001, hidden_layer_sizes=15, learning_rate=invscaling, learning_rate_init=0.005, max_iter=200, shuffle=True, solver=adam; total time=   0.1s\n",
      "[CV] END activation=identity, alpha=0.0001, hidden_layer_sizes=15, learning_rate=invscaling, learning_rate_init=0.005, max_iter=200, shuffle=False, solver=adam; total time=   0.1s\n",
      "[CV] END activation=identity, alpha=0.0001, hidden_layer_sizes=15, learning_rate=invscaling, learning_rate_init=0.005, max_iter=500, shuffle=True, solver=adam; total time=   0.1s\n",
      "[CV] END activation=identity, alpha=0.0001, hidden_layer_sizes=15, learning_rate=invscaling, learning_rate_init=0.005, max_iter=500, shuffle=False, solver=adam; total time=   0.1s\n",
      "[CV] END activation=identity, alpha=0.0001, hidden_layer_sizes=15, learning_rate=invscaling, learning_rate_init=0.01, max_iter=200, shuffle=True, solver=adam; total time=   0.1s\n",
      "[CV] END activation=identity, alpha=0.0001, hidden_layer_sizes=15, learning_rate=invscaling, learning_rate_init=0.01, max_iter=200, shuffle=False, solver=adam; total time=   0.1s\n",
      "[CV] END activation=identity, alpha=0.0001, hidden_layer_sizes=15, learning_rate=invscaling, learning_rate_init=0.01, max_iter=500, shuffle=True, solver=adam; total time=   0.1s\n",
      "[CV] END activation=identity, alpha=0.0001, hidden_layer_sizes=15, learning_rate=invscaling, learning_rate_init=0.01, max_iter=500, shuffle=False, solver=adam; total time=   0.1s\n",
      "[CV] END activation=identity, alpha=0.0001, hidden_layer_sizes=(5, 5), learning_rate=invscaling, learning_rate_init=0, max_iter=200, shuffle=True, solver=adam; total time=   0.0s\n",
      "[CV] END activation=identity, alpha=0.0001, hidden_layer_sizes=(5, 5), learning_rate=invscaling, learning_rate_init=0, max_iter=200, shuffle=False, solver=adam; total time=   0.0s\n",
      "[CV] END activation=identity, alpha=0.0001, hidden_layer_sizes=(5, 5), learning_rate=invscaling, learning_rate_init=0, max_iter=500, shuffle=True, solver=adam; total time=   0.0s\n",
      "[CV] END activation=identity, alpha=0.0001, hidden_layer_sizes=(5, 5), learning_rate=invscaling, learning_rate_init=0, max_iter=500, shuffle=False, solver=adam; total time=   0.0s\n",
      "[CV] END activation=identity, alpha=0.0001, hidden_layer_sizes=(5, 5), learning_rate=invscaling, learning_rate_init=0.0001, max_iter=200, shuffle=True, solver=adam; total time=   1.1s\n",
      "[CV] END activation=identity, alpha=0.0001, hidden_layer_sizes=(5, 5), learning_rate=invscaling, learning_rate_init=0.0001, max_iter=200, shuffle=False, solver=adam; total time=   1.0s\n",
      "[CV] END activation=identity, alpha=0.0001, hidden_layer_sizes=(5, 5), learning_rate=invscaling, learning_rate_init=0.0001, max_iter=500, shuffle=True, solver=adam; total time=   0.7s\n",
      "[CV] END activation=identity, alpha=0.0001, hidden_layer_sizes=(5, 5), learning_rate=invscaling, learning_rate_init=0.0001, max_iter=500, shuffle=False, solver=adam; total time=   1.3s\n",
      "[CV] END activation=identity, alpha=0.0001, hidden_layer_sizes=(5, 5), learning_rate=invscaling, learning_rate_init=0.0005, max_iter=200, shuffle=True, solver=adam; total time=   0.4s\n",
      "[CV] END activation=identity, alpha=0.0001, hidden_layer_sizes=(5, 5), learning_rate=invscaling, learning_rate_init=0.0005, max_iter=200, shuffle=False, solver=adam; total time=   0.4s\n",
      "[CV] END activation=identity, alpha=0.0001, hidden_layer_sizes=(5, 5), learning_rate=invscaling, learning_rate_init=0.0005, max_iter=500, shuffle=True, solver=adam; total time=   0.5s\n",
      "[CV] END activation=identity, alpha=0.0001, hidden_layer_sizes=(5, 5), learning_rate=invscaling, learning_rate_init=0.0005, max_iter=500, shuffle=False, solver=adam; total time=   0.2s\n",
      "[CV] END activation=identity, alpha=0.0001, hidden_layer_sizes=(5, 5), learning_rate=invscaling, learning_rate_init=0.001, max_iter=200, shuffle=True, solver=adam; total time=   0.3s\n",
      "[CV] END activation=identity, alpha=0.0001, hidden_layer_sizes=(5, 5), learning_rate=invscaling, learning_rate_init=0.001, max_iter=200, shuffle=False, solver=adam; total time=   0.2s\n",
      "[CV] END activation=identity, alpha=0.0001, hidden_layer_sizes=(5, 5), learning_rate=invscaling, learning_rate_init=0.001, max_iter=500, shuffle=True, solver=adam; total time=   0.4s\n",
      "[CV] END activation=identity, alpha=0.0001, hidden_layer_sizes=(5, 5), learning_rate=invscaling, learning_rate_init=0.001, max_iter=500, shuffle=False, solver=adam; total time=   0.2s\n",
      "[CV] END activation=identity, alpha=0.0001, hidden_layer_sizes=(5, 5), learning_rate=invscaling, learning_rate_init=0.005, max_iter=200, shuffle=True, solver=adam; total time=   0.1s\n",
      "[CV] END activation=identity, alpha=0.0001, hidden_layer_sizes=(5, 5), learning_rate=invscaling, learning_rate_init=0.005, max_iter=200, shuffle=False, solver=adam; total time=   0.1s\n",
      "[CV] END activation=identity, alpha=0.0001, hidden_layer_sizes=(5, 5), learning_rate=invscaling, learning_rate_init=0.005, max_iter=500, shuffle=True, solver=adam; total time=   0.2s\n",
      "[CV] END activation=identity, alpha=0.0001, hidden_layer_sizes=(5, 5), learning_rate=invscaling, learning_rate_init=0.005, max_iter=500, shuffle=False, solver=adam; total time=   0.1s\n",
      "[CV] END activation=identity, alpha=0.0001, hidden_layer_sizes=(5, 5), learning_rate=invscaling, learning_rate_init=0.01, max_iter=200, shuffle=True, solver=adam; total time=   0.1s\n",
      "[CV] END activation=identity, alpha=0.0001, hidden_layer_sizes=(5, 5), learning_rate=invscaling, learning_rate_init=0.01, max_iter=200, shuffle=False, solver=adam; total time=   0.1s\n",
      "[CV] END activation=identity, alpha=0.0001, hidden_layer_sizes=(5, 5), learning_rate=invscaling, learning_rate_init=0.01, max_iter=500, shuffle=True, solver=adam; total time=   0.1s\n",
      "[CV] END activation=identity, alpha=0.0001, hidden_layer_sizes=(5, 5), learning_rate=invscaling, learning_rate_init=0.01, max_iter=500, shuffle=False, solver=adam; total time=   0.1s\n",
      "[CV] END activation=identity, alpha=0.0001, hidden_layer_sizes=(5, 10), learning_rate=invscaling, learning_rate_init=0, max_iter=200, shuffle=True, solver=adam; total time=   0.0s\n",
      "[CV] END activation=identity, alpha=0.0001, hidden_layer_sizes=(5, 10), learning_rate=invscaling, learning_rate_init=0, max_iter=200, shuffle=False, solver=adam; total time=   0.0s\n",
      "[CV] END activation=identity, alpha=0.0001, hidden_layer_sizes=(5, 10), learning_rate=invscaling, learning_rate_init=0, max_iter=500, shuffle=True, solver=adam; total time=   0.0s\n",
      "[CV] END activation=identity, alpha=0.0001, hidden_layer_sizes=(5, 10), learning_rate=invscaling, learning_rate_init=0, max_iter=500, shuffle=False, solver=adam; total time=   0.0s\n",
      "[CV] END activation=identity, alpha=0.0001, hidden_layer_sizes=(5, 10), learning_rate=invscaling, learning_rate_init=0.0001, max_iter=200, shuffle=True, solver=adam; total time=   0.5s\n",
      "[CV] END activation=identity, alpha=0.0001, hidden_layer_sizes=(5, 10), learning_rate=invscaling, learning_rate_init=0.0001, max_iter=200, shuffle=False, solver=adam; total time=   0.3s\n",
      "[CV] END activation=identity, alpha=0.0001, hidden_layer_sizes=(5, 10), learning_rate=invscaling, learning_rate_init=0.0001, max_iter=500, shuffle=True, solver=adam; total time=   0.5s\n",
      "[CV] END activation=identity, alpha=0.0001, hidden_layer_sizes=(5, 10), learning_rate=invscaling, learning_rate_init=0.0001, max_iter=500, shuffle=False, solver=adam; total time=   1.0s\n",
      "[CV] END activation=identity, alpha=0.0001, hidden_layer_sizes=(5, 10), learning_rate=invscaling, learning_rate_init=0.0005, max_iter=200, shuffle=True, solver=adam; total time=   0.3s\n",
      "[CV] END activation=identity, alpha=0.0001, hidden_layer_sizes=(5, 10), learning_rate=invscaling, learning_rate_init=0.0005, max_iter=200, shuffle=False, solver=adam; total time=   0.3s\n",
      "[CV] END activation=identity, alpha=0.0001, hidden_layer_sizes=(5, 10), learning_rate=invscaling, learning_rate_init=0.0005, max_iter=500, shuffle=True, solver=adam; total time=   0.5s\n",
      "[CV] END activation=identity, alpha=0.0001, hidden_layer_sizes=(5, 10), learning_rate=invscaling, learning_rate_init=0.0005, max_iter=500, shuffle=False, solver=adam; total time=   0.3s\n",
      "[CV] END activation=identity, alpha=0.0001, hidden_layer_sizes=(5, 10), learning_rate=invscaling, learning_rate_init=0.001, max_iter=200, shuffle=True, solver=adam; total time=   0.2s\n",
      "[CV] END activation=identity, alpha=0.0001, hidden_layer_sizes=(5, 10), learning_rate=invscaling, learning_rate_init=0.001, max_iter=200, shuffle=False, solver=adam; total time=   0.3s\n",
      "[CV] END activation=identity, alpha=0.0001, hidden_layer_sizes=(5, 10), learning_rate=invscaling, learning_rate_init=0.001, max_iter=500, shuffle=True, solver=adam; total time=   0.2s\n",
      "[CV] END activation=identity, alpha=0.0001, hidden_layer_sizes=(5, 10), learning_rate=invscaling, learning_rate_init=0.001, max_iter=500, shuffle=False, solver=adam; total time=   0.2s\n",
      "[CV] END activation=identity, alpha=0.0001, hidden_layer_sizes=(5, 10), learning_rate=invscaling, learning_rate_init=0.005, max_iter=200, shuffle=True, solver=adam; total time=   0.2s\n",
      "[CV] END activation=identity, alpha=0.0001, hidden_layer_sizes=(5, 10), learning_rate=invscaling, learning_rate_init=0.005, max_iter=200, shuffle=False, solver=adam; total time=   0.1s\n",
      "[CV] END activation=identity, alpha=0.0001, hidden_layer_sizes=(5, 10), learning_rate=invscaling, learning_rate_init=0.005, max_iter=500, shuffle=True, solver=adam; total time=   0.1s\n",
      "[CV] END activation=identity, alpha=0.0001, hidden_layer_sizes=(5, 10), learning_rate=invscaling, learning_rate_init=0.005, max_iter=500, shuffle=False, solver=adam; total time=   0.1s\n",
      "[CV] END activation=identity, alpha=0.0001, hidden_layer_sizes=(5, 10), learning_rate=invscaling, learning_rate_init=0.01, max_iter=200, shuffle=True, solver=adam; total time=   0.1s\n",
      "[CV] END activation=identity, alpha=0.0001, hidden_layer_sizes=(5, 10), learning_rate=invscaling, learning_rate_init=0.01, max_iter=200, shuffle=False, solver=adam; total time=   0.1s\n",
      "[CV] END activation=identity, alpha=0.0001, hidden_layer_sizes=(5, 10), learning_rate=invscaling, learning_rate_init=0.01, max_iter=500, shuffle=True, solver=adam; total time=   0.1s\n",
      "[CV] END activation=identity, alpha=0.0001, hidden_layer_sizes=(5, 10), learning_rate=invscaling, learning_rate_init=0.01, max_iter=500, shuffle=False, solver=adam; total time=   0.1s\n",
      "[CV] END activation=identity, alpha=0.0005, hidden_layer_sizes=5, learning_rate=invscaling, learning_rate_init=0, max_iter=200, shuffle=True, solver=adam; total time=   0.0s\n",
      "[CV] END activation=identity, alpha=0.0005, hidden_layer_sizes=5, learning_rate=invscaling, learning_rate_init=0, max_iter=200, shuffle=False, solver=adam; total time=   0.0s\n",
      "[CV] END activation=identity, alpha=0.0005, hidden_layer_sizes=5, learning_rate=invscaling, learning_rate_init=0, max_iter=500, shuffle=True, solver=adam; total time=   0.0s\n",
      "[CV] END activation=identity, alpha=0.0005, hidden_layer_sizes=5, learning_rate=invscaling, learning_rate_init=0, max_iter=500, shuffle=False, solver=adam; total time=   0.0s\n",
      "[CV] END activation=identity, alpha=0.0005, hidden_layer_sizes=5, learning_rate=invscaling, learning_rate_init=0.0001, max_iter=200, shuffle=True, solver=adam; total time=   0.8s\n",
      "[CV] END activation=identity, alpha=0.0005, hidden_layer_sizes=5, learning_rate=invscaling, learning_rate_init=0.0001, max_iter=200, shuffle=False, solver=adam; total time=   0.4s\n",
      "[CV] END activation=identity, alpha=0.0005, hidden_layer_sizes=5, learning_rate=invscaling, learning_rate_init=0.0001, max_iter=500, shuffle=True, solver=adam; total time=   0.8s\n",
      "[CV] END activation=identity, alpha=0.0005, hidden_layer_sizes=5, learning_rate=invscaling, learning_rate_init=0.0001, max_iter=500, shuffle=False, solver=adam; total time=   1.5s\n",
      "[CV] END activation=identity, alpha=0.0005, hidden_layer_sizes=5, learning_rate=invscaling, learning_rate_init=0.0005, max_iter=200, shuffle=True, solver=adam; total time=   0.5s\n",
      "[CV] END activation=identity, alpha=0.0005, hidden_layer_sizes=5, learning_rate=invscaling, learning_rate_init=0.0005, max_iter=200, shuffle=False, solver=adam; total time=   0.3s\n",
      "[CV] END activation=identity, alpha=0.0005, hidden_layer_sizes=5, learning_rate=invscaling, learning_rate_init=0.0005, max_iter=500, shuffle=True, solver=adam; total time=   0.4s\n",
      "[CV] END activation=identity, alpha=0.0005, hidden_layer_sizes=5, learning_rate=invscaling, learning_rate_init=0.0005, max_iter=500, shuffle=False, solver=adam; total time=   0.3s\n",
      "[CV] END activation=identity, alpha=0.0005, hidden_layer_sizes=5, learning_rate=invscaling, learning_rate_init=0.001, max_iter=200, shuffle=True, solver=adam; total time=   0.2s\n",
      "[CV] END activation=identity, alpha=0.0005, hidden_layer_sizes=5, learning_rate=invscaling, learning_rate_init=0.001, max_iter=200, shuffle=False, solver=adam; total time=   0.2s\n",
      "[CV] END activation=identity, alpha=0.0005, hidden_layer_sizes=5, learning_rate=invscaling, learning_rate_init=0.001, max_iter=500, shuffle=True, solver=adam; total time=   0.3s\n",
      "[CV] END activation=identity, alpha=0.0005, hidden_layer_sizes=5, learning_rate=invscaling, learning_rate_init=0.001, max_iter=500, shuffle=False, solver=adam; total time=   0.3s\n",
      "[CV] END activation=identity, alpha=0.0005, hidden_layer_sizes=5, learning_rate=invscaling, learning_rate_init=0.005, max_iter=200, shuffle=True, solver=adam; total time=   0.1s\n",
      "[CV] END activation=identity, alpha=0.0005, hidden_layer_sizes=5, learning_rate=invscaling, learning_rate_init=0.005, max_iter=200, shuffle=False, solver=adam; total time=   0.1s\n",
      "[CV] END activation=identity, alpha=0.0005, hidden_layer_sizes=5, learning_rate=invscaling, learning_rate_init=0.005, max_iter=500, shuffle=True, solver=adam; total time=   0.1s\n",
      "[CV] END activation=identity, alpha=0.0005, hidden_layer_sizes=5, learning_rate=invscaling, learning_rate_init=0.005, max_iter=500, shuffle=False, solver=adam; total time=   0.1s\n",
      "[CV] END activation=identity, alpha=0.0005, hidden_layer_sizes=5, learning_rate=invscaling, learning_rate_init=0.01, max_iter=200, shuffle=True, solver=adam; total time=   0.1s\n",
      "[CV] END activation=identity, alpha=0.0005, hidden_layer_sizes=5, learning_rate=invscaling, learning_rate_init=0.01, max_iter=200, shuffle=False, solver=adam; total time=   0.1s\n",
      "[CV] END activation=identity, alpha=0.0005, hidden_layer_sizes=5, learning_rate=invscaling, learning_rate_init=0.01, max_iter=500, shuffle=True, solver=adam; total time=   0.1s\n",
      "[CV] END activation=identity, alpha=0.0005, hidden_layer_sizes=5, learning_rate=invscaling, learning_rate_init=0.01, max_iter=500, shuffle=False, solver=adam; total time=   0.1s\n",
      "[CV] END activation=identity, alpha=0.0005, hidden_layer_sizes=10, learning_rate=invscaling, learning_rate_init=0, max_iter=200, shuffle=True, solver=adam; total time=   0.0s\n",
      "[CV] END activation=identity, alpha=0.0005, hidden_layer_sizes=10, learning_rate=invscaling, learning_rate_init=0, max_iter=200, shuffle=False, solver=adam; total time=   0.0s\n",
      "[CV] END activation=identity, alpha=0.0005, hidden_layer_sizes=10, learning_rate=invscaling, learning_rate_init=0, max_iter=500, shuffle=True, solver=adam; total time=   0.0s\n",
      "[CV] END activation=identity, alpha=0.0005, hidden_layer_sizes=10, learning_rate=invscaling, learning_rate_init=0, max_iter=500, shuffle=False, solver=adam; total time=   0.0s\n",
      "[CV] END activation=identity, alpha=0.0005, hidden_layer_sizes=10, learning_rate=invscaling, learning_rate_init=0.0001, max_iter=200, shuffle=True, solver=adam; total time=   0.8s\n",
      "[CV] END activation=identity, alpha=0.0005, hidden_layer_sizes=10, learning_rate=invscaling, learning_rate_init=0.0001, max_iter=200, shuffle=False, solver=adam; total time=   0.5s\n",
      "[CV] END activation=identity, alpha=0.0005, hidden_layer_sizes=10, learning_rate=invscaling, learning_rate_init=0.0001, max_iter=500, shuffle=True, solver=adam; total time=   0.8s\n",
      "[CV] END activation=identity, alpha=0.0005, hidden_layer_sizes=10, learning_rate=invscaling, learning_rate_init=0.0001, max_iter=500, shuffle=False, solver=adam; total time=   0.7s\n",
      "[CV] END activation=identity, alpha=0.0005, hidden_layer_sizes=10, learning_rate=invscaling, learning_rate_init=0.0005, max_iter=200, shuffle=True, solver=adam; total time=   0.2s\n",
      "[CV] END activation=identity, alpha=0.0005, hidden_layer_sizes=10, learning_rate=invscaling, learning_rate_init=0.0005, max_iter=200, shuffle=False, solver=adam; total time=   0.2s\n",
      "[CV] END activation=identity, alpha=0.0005, hidden_layer_sizes=10, learning_rate=invscaling, learning_rate_init=0.0005, max_iter=500, shuffle=True, solver=adam; total time=   0.2s\n",
      "[CV] END activation=identity, alpha=0.0005, hidden_layer_sizes=10, learning_rate=invscaling, learning_rate_init=0.0005, max_iter=500, shuffle=False, solver=adam; total time=   0.2s\n",
      "[CV] END activation=identity, alpha=0.0005, hidden_layer_sizes=10, learning_rate=invscaling, learning_rate_init=0.001, max_iter=200, shuffle=True, solver=adam; total time=   0.2s\n",
      "[CV] END activation=identity, alpha=0.0005, hidden_layer_sizes=10, learning_rate=invscaling, learning_rate_init=0.001, max_iter=200, shuffle=False, solver=adam; total time=   0.1s\n",
      "[CV] END activation=identity, alpha=0.0005, hidden_layer_sizes=10, learning_rate=invscaling, learning_rate_init=0.001, max_iter=500, shuffle=True, solver=adam; total time=   0.2s\n",
      "[CV] END activation=identity, alpha=0.0005, hidden_layer_sizes=10, learning_rate=invscaling, learning_rate_init=0.001, max_iter=500, shuffle=False, solver=adam; total time=   0.1s\n",
      "[CV] END activation=identity, alpha=0.0005, hidden_layer_sizes=10, learning_rate=invscaling, learning_rate_init=0.005, max_iter=200, shuffle=True, solver=adam; total time=   0.1s\n",
      "[CV] END activation=identity, alpha=0.0005, hidden_layer_sizes=10, learning_rate=invscaling, learning_rate_init=0.005, max_iter=200, shuffle=False, solver=adam; total time=   0.1s\n",
      "[CV] END activation=identity, alpha=0.0005, hidden_layer_sizes=10, learning_rate=invscaling, learning_rate_init=0.005, max_iter=500, shuffle=True, solver=adam; total time=   0.1s\n",
      "[CV] END activation=identity, alpha=0.0005, hidden_layer_sizes=10, learning_rate=invscaling, learning_rate_init=0.005, max_iter=500, shuffle=False, solver=adam; total time=   0.1s\n",
      "[CV] END activation=identity, alpha=0.0005, hidden_layer_sizes=10, learning_rate=invscaling, learning_rate_init=0.01, max_iter=200, shuffle=True, solver=adam; total time=   0.1s\n",
      "[CV] END activation=identity, alpha=0.0005, hidden_layer_sizes=10, learning_rate=invscaling, learning_rate_init=0.01, max_iter=200, shuffle=False, solver=adam; total time=   0.1s\n",
      "[CV] END activation=identity, alpha=0.0005, hidden_layer_sizes=10, learning_rate=invscaling, learning_rate_init=0.01, max_iter=500, shuffle=True, solver=adam; total time=   0.1s\n",
      "[CV] END activation=identity, alpha=0.0005, hidden_layer_sizes=10, learning_rate=invscaling, learning_rate_init=0.01, max_iter=500, shuffle=False, solver=adam; total time=   0.1s\n",
      "[CV] END activation=identity, alpha=0.0005, hidden_layer_sizes=15, learning_rate=invscaling, learning_rate_init=0, max_iter=200, shuffle=True, solver=adam; total time=   0.0s\n",
      "[CV] END activation=identity, alpha=0.0005, hidden_layer_sizes=15, learning_rate=invscaling, learning_rate_init=0, max_iter=200, shuffle=False, solver=adam; total time=   0.0s\n",
      "[CV] END activation=identity, alpha=0.0005, hidden_layer_sizes=15, learning_rate=invscaling, learning_rate_init=0, max_iter=500, shuffle=True, solver=adam; total time=   0.0s\n",
      "[CV] END activation=identity, alpha=0.0005, hidden_layer_sizes=15, learning_rate=invscaling, learning_rate_init=0, max_iter=500, shuffle=False, solver=adam; total time=   0.0s\n",
      "[CV] END activation=identity, alpha=0.0005, hidden_layer_sizes=15, learning_rate=invscaling, learning_rate_init=0.0001, max_iter=200, shuffle=True, solver=adam; total time=   0.6s\n",
      "[CV] END activation=identity, alpha=0.0005, hidden_layer_sizes=15, learning_rate=invscaling, learning_rate_init=0.0001, max_iter=200, shuffle=False, solver=adam; total time=   0.5s\n",
      "[CV] END activation=identity, alpha=0.0005, hidden_layer_sizes=15, learning_rate=invscaling, learning_rate_init=0.0001, max_iter=500, shuffle=True, solver=adam; total time=   0.8s\n",
      "[CV] END activation=identity, alpha=0.0005, hidden_layer_sizes=15, learning_rate=invscaling, learning_rate_init=0.0001, max_iter=500, shuffle=False, solver=adam; total time=   0.5s\n",
      "[CV] END activation=identity, alpha=0.0005, hidden_layer_sizes=15, learning_rate=invscaling, learning_rate_init=0.0005, max_iter=200, shuffle=True, solver=adam; total time=   0.2s\n",
      "[CV] END activation=identity, alpha=0.0005, hidden_layer_sizes=15, learning_rate=invscaling, learning_rate_init=0.0005, max_iter=200, shuffle=False, solver=adam; total time=   0.1s\n",
      "[CV] END activation=identity, alpha=0.0005, hidden_layer_sizes=15, learning_rate=invscaling, learning_rate_init=0.0005, max_iter=500, shuffle=True, solver=adam; total time=   0.2s\n",
      "[CV] END activation=identity, alpha=0.0005, hidden_layer_sizes=15, learning_rate=invscaling, learning_rate_init=0.0005, max_iter=500, shuffle=False, solver=adam; total time=   0.2s\n",
      "[CV] END activation=identity, alpha=0.0005, hidden_layer_sizes=15, learning_rate=invscaling, learning_rate_init=0.001, max_iter=200, shuffle=True, solver=adam; total time=   0.1s\n",
      "[CV] END activation=identity, alpha=0.0005, hidden_layer_sizes=15, learning_rate=invscaling, learning_rate_init=0.001, max_iter=200, shuffle=False, solver=adam; total time=   0.1s\n",
      "[CV] END activation=identity, alpha=0.0005, hidden_layer_sizes=15, learning_rate=invscaling, learning_rate_init=0.001, max_iter=500, shuffle=True, solver=adam; total time=   0.1s\n",
      "[CV] END activation=identity, alpha=0.0005, hidden_layer_sizes=15, learning_rate=invscaling, learning_rate_init=0.001, max_iter=500, shuffle=False, solver=adam; total time=   0.1s\n",
      "[CV] END activation=identity, alpha=0.0005, hidden_layer_sizes=15, learning_rate=invscaling, learning_rate_init=0.005, max_iter=200, shuffle=True, solver=adam; total time=   0.1s\n",
      "[CV] END activation=identity, alpha=0.0005, hidden_layer_sizes=15, learning_rate=invscaling, learning_rate_init=0.005, max_iter=200, shuffle=False, solver=adam; total time=   0.1s\n",
      "[CV] END activation=identity, alpha=0.0005, hidden_layer_sizes=15, learning_rate=invscaling, learning_rate_init=0.005, max_iter=500, shuffle=True, solver=adam; total time=   0.1s\n",
      "[CV] END activation=identity, alpha=0.0005, hidden_layer_sizes=15, learning_rate=invscaling, learning_rate_init=0.005, max_iter=500, shuffle=False, solver=adam; total time=   0.1s\n",
      "[CV] END activation=identity, alpha=0.0005, hidden_layer_sizes=15, learning_rate=invscaling, learning_rate_init=0.01, max_iter=200, shuffle=True, solver=adam; total time=   0.1s\n",
      "[CV] END activation=identity, alpha=0.0005, hidden_layer_sizes=15, learning_rate=invscaling, learning_rate_init=0.01, max_iter=200, shuffle=False, solver=adam; total time=   0.1s\n",
      "[CV] END activation=identity, alpha=0.0005, hidden_layer_sizes=15, learning_rate=invscaling, learning_rate_init=0.01, max_iter=500, shuffle=True, solver=adam; total time=   0.1s\n",
      "[CV] END activation=identity, alpha=0.0005, hidden_layer_sizes=15, learning_rate=invscaling, learning_rate_init=0.01, max_iter=500, shuffle=False, solver=adam; total time=   0.1s\n",
      "[CV] END activation=identity, alpha=0.0005, hidden_layer_sizes=(5, 5), learning_rate=invscaling, learning_rate_init=0, max_iter=200, shuffle=True, solver=adam; total time=   0.0s\n",
      "[CV] END activation=identity, alpha=0.0005, hidden_layer_sizes=(5, 5), learning_rate=invscaling, learning_rate_init=0, max_iter=200, shuffle=False, solver=adam; total time=   0.0s\n",
      "[CV] END activation=identity, alpha=0.0005, hidden_layer_sizes=(5, 5), learning_rate=invscaling, learning_rate_init=0, max_iter=500, shuffle=True, solver=adam; total time=   0.0s\n",
      "[CV] END activation=identity, alpha=0.0005, hidden_layer_sizes=(5, 5), learning_rate=invscaling, learning_rate_init=0, max_iter=500, shuffle=False, solver=adam; total time=   0.0s\n",
      "[CV] END activation=identity, alpha=0.0005, hidden_layer_sizes=(5, 5), learning_rate=invscaling, learning_rate_init=0.0001, max_iter=200, shuffle=True, solver=adam; total time=   1.1s\n",
      "[CV] END activation=identity, alpha=0.0005, hidden_layer_sizes=(5, 5), learning_rate=invscaling, learning_rate_init=0.0001, max_iter=200, shuffle=False, solver=adam; total time=   1.0s\n",
      "[CV] END activation=identity, alpha=0.0005, hidden_layer_sizes=(5, 5), learning_rate=invscaling, learning_rate_init=0.0001, max_iter=500, shuffle=True, solver=adam; total time=   1.1s\n",
      "[CV] END activation=identity, alpha=0.0005, hidden_layer_sizes=(5, 5), learning_rate=invscaling, learning_rate_init=0.0001, max_iter=500, shuffle=False, solver=adam; total time=   1.0s\n",
      "[CV] END activation=identity, alpha=0.0005, hidden_layer_sizes=(5, 5), learning_rate=invscaling, learning_rate_init=0.0005, max_iter=200, shuffle=True, solver=adam; total time=   0.3s\n",
      "[CV] END activation=identity, alpha=0.0005, hidden_layer_sizes=(5, 5), learning_rate=invscaling, learning_rate_init=0.0005, max_iter=200, shuffle=False, solver=adam; total time=   0.3s\n",
      "[CV] END activation=identity, alpha=0.0005, hidden_layer_sizes=(5, 5), learning_rate=invscaling, learning_rate_init=0.0005, max_iter=500, shuffle=True, solver=adam; total time=   0.4s\n",
      "[CV] END activation=identity, alpha=0.0005, hidden_layer_sizes=(5, 5), learning_rate=invscaling, learning_rate_init=0.0005, max_iter=500, shuffle=False, solver=adam; total time=   0.4s\n",
      "[CV] END activation=identity, alpha=0.0005, hidden_layer_sizes=(5, 5), learning_rate=invscaling, learning_rate_init=0.001, max_iter=200, shuffle=True, solver=adam; total time=   0.4s\n",
      "[CV] END activation=identity, alpha=0.0005, hidden_layer_sizes=(5, 5), learning_rate=invscaling, learning_rate_init=0.001, max_iter=200, shuffle=False, solver=adam; total time=   0.2s\n",
      "[CV] END activation=identity, alpha=0.0005, hidden_layer_sizes=(5, 5), learning_rate=invscaling, learning_rate_init=0.001, max_iter=500, shuffle=True, solver=adam; total time=   0.4s\n",
      "[CV] END activation=identity, alpha=0.0005, hidden_layer_sizes=(5, 5), learning_rate=invscaling, learning_rate_init=0.001, max_iter=500, shuffle=False, solver=adam; total time=   0.3s\n",
      "[CV] END activation=identity, alpha=0.0005, hidden_layer_sizes=(5, 5), learning_rate=invscaling, learning_rate_init=0.005, max_iter=200, shuffle=True, solver=adam; total time=   0.1s\n",
      "[CV] END activation=identity, alpha=0.0005, hidden_layer_sizes=(5, 5), learning_rate=invscaling, learning_rate_init=0.005, max_iter=200, shuffle=False, solver=adam; total time=   0.1s\n",
      "[CV] END activation=identity, alpha=0.0005, hidden_layer_sizes=(5, 5), learning_rate=invscaling, learning_rate_init=0.005, max_iter=500, shuffle=True, solver=adam; total time=   0.2s\n",
      "[CV] END activation=identity, alpha=0.0005, hidden_layer_sizes=(5, 5), learning_rate=invscaling, learning_rate_init=0.005, max_iter=500, shuffle=False, solver=adam; total time=   0.1s\n",
      "[CV] END activation=identity, alpha=0.0005, hidden_layer_sizes=(5, 5), learning_rate=invscaling, learning_rate_init=0.01, max_iter=200, shuffle=True, solver=adam; total time=   0.2s\n",
      "[CV] END activation=identity, alpha=0.0005, hidden_layer_sizes=(5, 5), learning_rate=invscaling, learning_rate_init=0.01, max_iter=200, shuffle=False, solver=adam; total time=   0.1s\n",
      "[CV] END activation=identity, alpha=0.0005, hidden_layer_sizes=(5, 5), learning_rate=invscaling, learning_rate_init=0.01, max_iter=500, shuffle=True, solver=adam; total time=   0.1s\n",
      "[CV] END activation=identity, alpha=0.0005, hidden_layer_sizes=(5, 5), learning_rate=invscaling, learning_rate_init=0.01, max_iter=500, shuffle=False, solver=adam; total time=   0.1s\n",
      "[CV] END activation=identity, alpha=0.0005, hidden_layer_sizes=(5, 10), learning_rate=invscaling, learning_rate_init=0, max_iter=200, shuffle=True, solver=adam; total time=   0.0s\n",
      "[CV] END activation=identity, alpha=0.0005, hidden_layer_sizes=(5, 10), learning_rate=invscaling, learning_rate_init=0, max_iter=200, shuffle=False, solver=adam; total time=   0.0s\n",
      "[CV] END activation=identity, alpha=0.0005, hidden_layer_sizes=(5, 10), learning_rate=invscaling, learning_rate_init=0, max_iter=500, shuffle=True, solver=adam; total time=   0.0s\n",
      "[CV] END activation=identity, alpha=0.0005, hidden_layer_sizes=(5, 10), learning_rate=invscaling, learning_rate_init=0, max_iter=500, shuffle=False, solver=adam; total time=   0.0s\n",
      "[CV] END activation=identity, alpha=0.0005, hidden_layer_sizes=(5, 10), learning_rate=invscaling, learning_rate_init=0.0001, max_iter=200, shuffle=True, solver=adam; total time=   0.4s\n",
      "[CV] END activation=identity, alpha=0.0005, hidden_layer_sizes=(5, 10), learning_rate=invscaling, learning_rate_init=0.0001, max_iter=200, shuffle=False, solver=adam; total time=   1.0s\n",
      "[CV] END activation=identity, alpha=0.0005, hidden_layer_sizes=(5, 10), learning_rate=invscaling, learning_rate_init=0.0001, max_iter=500, shuffle=True, solver=adam; total time=   0.7s\n",
      "[CV] END activation=identity, alpha=0.0005, hidden_layer_sizes=(5, 10), learning_rate=invscaling, learning_rate_init=0.0001, max_iter=500, shuffle=False, solver=adam; total time=   0.5s\n",
      "[CV] END activation=identity, alpha=0.0005, hidden_layer_sizes=(5, 10), learning_rate=invscaling, learning_rate_init=0.0005, max_iter=200, shuffle=True, solver=adam; total time=   0.3s\n",
      "[CV] END activation=identity, alpha=0.0005, hidden_layer_sizes=(5, 10), learning_rate=invscaling, learning_rate_init=0.0005, max_iter=200, shuffle=False, solver=adam; total time=   0.3s\n",
      "[CV] END activation=identity, alpha=0.0005, hidden_layer_sizes=(5, 10), learning_rate=invscaling, learning_rate_init=0.0005, max_iter=500, shuffle=True, solver=adam; total time=   0.3s\n",
      "[CV] END activation=identity, alpha=0.0005, hidden_layer_sizes=(5, 10), learning_rate=invscaling, learning_rate_init=0.0005, max_iter=500, shuffle=False, solver=adam; total time=   0.2s\n",
      "[CV] END activation=identity, alpha=0.0005, hidden_layer_sizes=(5, 10), learning_rate=invscaling, learning_rate_init=0.001, max_iter=200, shuffle=True, solver=adam; total time=   0.3s\n",
      "[CV] END activation=identity, alpha=0.0005, hidden_layer_sizes=(5, 10), learning_rate=invscaling, learning_rate_init=0.001, max_iter=200, shuffle=False, solver=adam; total time=   0.1s\n",
      "[CV] END activation=identity, alpha=0.0005, hidden_layer_sizes=(5, 10), learning_rate=invscaling, learning_rate_init=0.001, max_iter=500, shuffle=True, solver=adam; total time=   0.2s\n",
      "[CV] END activation=identity, alpha=0.0005, hidden_layer_sizes=(5, 10), learning_rate=invscaling, learning_rate_init=0.001, max_iter=500, shuffle=False, solver=adam; total time=   0.2s\n",
      "[CV] END activation=identity, alpha=0.0005, hidden_layer_sizes=(5, 10), learning_rate=invscaling, learning_rate_init=0.005, max_iter=200, shuffle=True, solver=adam; total time=   0.3s\n",
      "[CV] END activation=identity, alpha=0.0005, hidden_layer_sizes=(5, 10), learning_rate=invscaling, learning_rate_init=0.005, max_iter=200, shuffle=False, solver=adam; total time=   0.1s\n",
      "[CV] END activation=identity, alpha=0.0005, hidden_layer_sizes=(5, 10), learning_rate=invscaling, learning_rate_init=0.005, max_iter=500, shuffle=True, solver=adam; total time=   0.1s\n",
      "[CV] END activation=identity, alpha=0.0005, hidden_layer_sizes=(5, 10), learning_rate=invscaling, learning_rate_init=0.005, max_iter=500, shuffle=False, solver=adam; total time=   0.1s\n",
      "[CV] END activation=identity, alpha=0.0005, hidden_layer_sizes=(5, 10), learning_rate=invscaling, learning_rate_init=0.01, max_iter=200, shuffle=True, solver=adam; total time=   0.2s\n",
      "[CV] END activation=identity, alpha=0.0005, hidden_layer_sizes=(5, 10), learning_rate=invscaling, learning_rate_init=0.01, max_iter=200, shuffle=False, solver=adam; total time=   0.1s\n",
      "[CV] END activation=identity, alpha=0.0005, hidden_layer_sizes=(5, 10), learning_rate=invscaling, learning_rate_init=0.01, max_iter=500, shuffle=True, solver=adam; total time=   0.1s\n",
      "[CV] END activation=identity, alpha=0.0005, hidden_layer_sizes=(5, 10), learning_rate=invscaling, learning_rate_init=0.01, max_iter=500, shuffle=False, solver=adam; total time=   0.1s\n",
      "[CV] END activation=identity, alpha=0.001, hidden_layer_sizes=5, learning_rate=invscaling, learning_rate_init=0, max_iter=200, shuffle=True, solver=adam; total time=   0.0s\n",
      "[CV] END activation=identity, alpha=0.001, hidden_layer_sizes=5, learning_rate=invscaling, learning_rate_init=0, max_iter=200, shuffle=False, solver=adam; total time=   0.0s\n",
      "[CV] END activation=identity, alpha=0.001, hidden_layer_sizes=5, learning_rate=invscaling, learning_rate_init=0, max_iter=500, shuffle=True, solver=adam; total time=   0.0s\n",
      "[CV] END activation=identity, alpha=0.001, hidden_layer_sizes=5, learning_rate=invscaling, learning_rate_init=0, max_iter=500, shuffle=False, solver=adam; total time=   0.0s\n",
      "[CV] END activation=identity, alpha=0.001, hidden_layer_sizes=5, learning_rate=invscaling, learning_rate_init=0.0001, max_iter=200, shuffle=True, solver=adam; total time=   0.8s\n",
      "[CV] END activation=identity, alpha=0.001, hidden_layer_sizes=5, learning_rate=invscaling, learning_rate_init=0.0001, max_iter=200, shuffle=False, solver=adam; total time=   0.7s\n",
      "[CV] END activation=identity, alpha=0.001, hidden_layer_sizes=5, learning_rate=invscaling, learning_rate_init=0.0001, max_iter=500, shuffle=True, solver=adam; total time=   1.0s\n",
      "[CV] END activation=identity, alpha=0.001, hidden_layer_sizes=5, learning_rate=invscaling, learning_rate_init=0.0001, max_iter=500, shuffle=False, solver=adam; total time=   1.0s\n",
      "[CV] END activation=identity, alpha=0.001, hidden_layer_sizes=5, learning_rate=invscaling, learning_rate_init=0.0005, max_iter=200, shuffle=True, solver=adam; total time=   0.3s\n",
      "[CV] END activation=identity, alpha=0.001, hidden_layer_sizes=5, learning_rate=invscaling, learning_rate_init=0.0005, max_iter=200, shuffle=False, solver=adam; total time=   0.2s\n",
      "[CV] END activation=identity, alpha=0.001, hidden_layer_sizes=5, learning_rate=invscaling, learning_rate_init=0.0005, max_iter=500, shuffle=True, solver=adam; total time=   0.4s\n",
      "[CV] END activation=identity, alpha=0.001, hidden_layer_sizes=5, learning_rate=invscaling, learning_rate_init=0.0005, max_iter=500, shuffle=False, solver=adam; total time=   0.4s\n",
      "[CV] END activation=identity, alpha=0.001, hidden_layer_sizes=5, learning_rate=invscaling, learning_rate_init=0.001, max_iter=200, shuffle=True, solver=adam; total time=   0.2s\n",
      "[CV] END activation=identity, alpha=0.001, hidden_layer_sizes=5, learning_rate=invscaling, learning_rate_init=0.001, max_iter=200, shuffle=False, solver=adam; total time=   0.2s\n",
      "[CV] END activation=identity, alpha=0.001, hidden_layer_sizes=5, learning_rate=invscaling, learning_rate_init=0.001, max_iter=500, shuffle=True, solver=adam; total time=   0.2s\n",
      "[CV] END activation=identity, alpha=0.001, hidden_layer_sizes=5, learning_rate=invscaling, learning_rate_init=0.001, max_iter=500, shuffle=False, solver=adam; total time=   0.2s\n",
      "[CV] END activation=identity, alpha=0.001, hidden_layer_sizes=5, learning_rate=invscaling, learning_rate_init=0.005, max_iter=200, shuffle=True, solver=adam; total time=   0.1s\n",
      "[CV] END activation=identity, alpha=0.001, hidden_layer_sizes=5, learning_rate=invscaling, learning_rate_init=0.005, max_iter=200, shuffle=False, solver=adam; total time=   0.1s\n",
      "[CV] END activation=identity, alpha=0.001, hidden_layer_sizes=5, learning_rate=invscaling, learning_rate_init=0.005, max_iter=500, shuffle=True, solver=adam; total time=   0.1s\n",
      "[CV] END activation=identity, alpha=0.001, hidden_layer_sizes=5, learning_rate=invscaling, learning_rate_init=0.005, max_iter=500, shuffle=False, solver=adam; total time=   0.1s\n",
      "[CV] END activation=identity, alpha=0.001, hidden_layer_sizes=5, learning_rate=invscaling, learning_rate_init=0.01, max_iter=200, shuffle=True, solver=adam; total time=   0.1s\n",
      "[CV] END activation=identity, alpha=0.001, hidden_layer_sizes=5, learning_rate=invscaling, learning_rate_init=0.01, max_iter=200, shuffle=False, solver=adam; total time=   0.1s\n",
      "[CV] END activation=identity, alpha=0.001, hidden_layer_sizes=5, learning_rate=invscaling, learning_rate_init=0.01, max_iter=500, shuffle=True, solver=adam; total time=   0.1s\n",
      "[CV] END activation=identity, alpha=0.001, hidden_layer_sizes=5, learning_rate=invscaling, learning_rate_init=0.01, max_iter=500, shuffle=False, solver=adam; total time=   0.1s\n",
      "[CV] END activation=identity, alpha=0.001, hidden_layer_sizes=10, learning_rate=invscaling, learning_rate_init=0, max_iter=200, shuffle=True, solver=adam; total time=   0.0s\n",
      "[CV] END activation=identity, alpha=0.001, hidden_layer_sizes=10, learning_rate=invscaling, learning_rate_init=0, max_iter=200, shuffle=False, solver=adam; total time=   0.0s\n",
      "[CV] END activation=identity, alpha=0.001, hidden_layer_sizes=10, learning_rate=invscaling, learning_rate_init=0, max_iter=500, shuffle=True, solver=adam; total time=   0.0s\n",
      "[CV] END activation=identity, alpha=0.001, hidden_layer_sizes=10, learning_rate=invscaling, learning_rate_init=0, max_iter=500, shuffle=False, solver=adam; total time=   0.0s\n",
      "[CV] END activation=identity, alpha=0.001, hidden_layer_sizes=10, learning_rate=invscaling, learning_rate_init=0.0001, max_iter=200, shuffle=True, solver=adam; total time=   0.8s\n",
      "[CV] END activation=identity, alpha=0.001, hidden_layer_sizes=10, learning_rate=invscaling, learning_rate_init=0.0001, max_iter=200, shuffle=False, solver=adam; total time=   0.6s\n",
      "[CV] END activation=identity, alpha=0.001, hidden_layer_sizes=10, learning_rate=invscaling, learning_rate_init=0.0001, max_iter=500, shuffle=True, solver=adam; total time=   0.9s\n",
      "[CV] END activation=identity, alpha=0.001, hidden_layer_sizes=10, learning_rate=invscaling, learning_rate_init=0.0001, max_iter=500, shuffle=False, solver=adam; total time=   0.6s\n",
      "[CV] END activation=identity, alpha=0.001, hidden_layer_sizes=10, learning_rate=invscaling, learning_rate_init=0.0005, max_iter=200, shuffle=True, solver=adam; total time=   0.2s\n",
      "[CV] END activation=identity, alpha=0.001, hidden_layer_sizes=10, learning_rate=invscaling, learning_rate_init=0.0005, max_iter=200, shuffle=False, solver=adam; total time=   0.2s\n",
      "[CV] END activation=identity, alpha=0.001, hidden_layer_sizes=10, learning_rate=invscaling, learning_rate_init=0.0005, max_iter=500, shuffle=True, solver=adam; total time=   0.3s\n",
      "[CV] END activation=identity, alpha=0.001, hidden_layer_sizes=10, learning_rate=invscaling, learning_rate_init=0.0005, max_iter=500, shuffle=False, solver=adam; total time=   0.2s\n",
      "[CV] END activation=identity, alpha=0.001, hidden_layer_sizes=10, learning_rate=invscaling, learning_rate_init=0.001, max_iter=200, shuffle=True, solver=adam; total time=   0.2s\n",
      "[CV] END activation=identity, alpha=0.001, hidden_layer_sizes=10, learning_rate=invscaling, learning_rate_init=0.001, max_iter=200, shuffle=False, solver=adam; total time=   0.2s\n",
      "[CV] END activation=identity, alpha=0.001, hidden_layer_sizes=10, learning_rate=invscaling, learning_rate_init=0.001, max_iter=500, shuffle=True, solver=adam; total time=   0.2s\n",
      "[CV] END activation=identity, alpha=0.001, hidden_layer_sizes=10, learning_rate=invscaling, learning_rate_init=0.001, max_iter=500, shuffle=False, solver=adam; total time=   0.1s\n",
      "[CV] END activation=identity, alpha=0.001, hidden_layer_sizes=10, learning_rate=invscaling, learning_rate_init=0.005, max_iter=200, shuffle=True, solver=adam; total time=   0.1s\n",
      "[CV] END activation=identity, alpha=0.001, hidden_layer_sizes=10, learning_rate=invscaling, learning_rate_init=0.005, max_iter=200, shuffle=False, solver=adam; total time=   0.1s\n",
      "[CV] END activation=identity, alpha=0.001, hidden_layer_sizes=10, learning_rate=invscaling, learning_rate_init=0.005, max_iter=500, shuffle=True, solver=adam; total time=   0.1s\n",
      "[CV] END activation=identity, alpha=0.001, hidden_layer_sizes=10, learning_rate=invscaling, learning_rate_init=0.005, max_iter=500, shuffle=False, solver=adam; total time=   0.1s\n",
      "[CV] END activation=identity, alpha=0.001, hidden_layer_sizes=10, learning_rate=invscaling, learning_rate_init=0.01, max_iter=200, shuffle=True, solver=adam; total time=   0.1s\n",
      "[CV] END activation=identity, alpha=0.001, hidden_layer_sizes=10, learning_rate=invscaling, learning_rate_init=0.01, max_iter=200, shuffle=False, solver=adam; total time=   0.1s\n",
      "[CV] END activation=identity, alpha=0.001, hidden_layer_sizes=10, learning_rate=invscaling, learning_rate_init=0.01, max_iter=500, shuffle=True, solver=adam; total time=   0.1s\n",
      "[CV] END activation=identity, alpha=0.001, hidden_layer_sizes=10, learning_rate=invscaling, learning_rate_init=0.01, max_iter=500, shuffle=False, solver=adam; total time=   0.1s\n",
      "[CV] END activation=identity, alpha=0.001, hidden_layer_sizes=15, learning_rate=invscaling, learning_rate_init=0, max_iter=200, shuffle=True, solver=adam; total time=   0.0s\n",
      "[CV] END activation=identity, alpha=0.001, hidden_layer_sizes=15, learning_rate=invscaling, learning_rate_init=0, max_iter=200, shuffle=False, solver=adam; total time=   0.0s\n",
      "[CV] END activation=identity, alpha=0.001, hidden_layer_sizes=15, learning_rate=invscaling, learning_rate_init=0, max_iter=500, shuffle=True, solver=adam; total time=   0.0s\n",
      "[CV] END activation=identity, alpha=0.001, hidden_layer_sizes=15, learning_rate=invscaling, learning_rate_init=0, max_iter=500, shuffle=False, solver=adam; total time=   0.0s\n",
      "[CV] END activation=identity, alpha=0.001, hidden_layer_sizes=15, learning_rate=invscaling, learning_rate_init=0.0001, max_iter=200, shuffle=True, solver=adam; total time=   0.7s\n",
      "[CV] END activation=identity, alpha=0.001, hidden_layer_sizes=15, learning_rate=invscaling, learning_rate_init=0.0001, max_iter=200, shuffle=False, solver=adam; total time=   0.5s\n",
      "[CV] END activation=identity, alpha=0.001, hidden_layer_sizes=15, learning_rate=invscaling, learning_rate_init=0.0001, max_iter=500, shuffle=True, solver=adam; total time=   0.6s\n",
      "[CV] END activation=identity, alpha=0.001, hidden_layer_sizes=15, learning_rate=invscaling, learning_rate_init=0.0001, max_iter=500, shuffle=False, solver=adam; total time=   0.5s\n",
      "[CV] END activation=identity, alpha=0.001, hidden_layer_sizes=15, learning_rate=invscaling, learning_rate_init=0.0005, max_iter=200, shuffle=True, solver=adam; total time=   0.3s\n",
      "[CV] END activation=identity, alpha=0.001, hidden_layer_sizes=15, learning_rate=invscaling, learning_rate_init=0.0005, max_iter=200, shuffle=False, solver=adam; total time=   0.2s\n",
      "[CV] END activation=identity, alpha=0.001, hidden_layer_sizes=15, learning_rate=invscaling, learning_rate_init=0.0005, max_iter=500, shuffle=True, solver=adam; total time=   0.2s\n",
      "[CV] END activation=identity, alpha=0.001, hidden_layer_sizes=15, learning_rate=invscaling, learning_rate_init=0.0005, max_iter=500, shuffle=False, solver=adam; total time=   0.2s\n",
      "[CV] END activation=identity, alpha=0.001, hidden_layer_sizes=15, learning_rate=invscaling, learning_rate_init=0.001, max_iter=200, shuffle=True, solver=adam; total time=   0.1s\n",
      "[CV] END activation=identity, alpha=0.001, hidden_layer_sizes=15, learning_rate=invscaling, learning_rate_init=0.001, max_iter=200, shuffle=False, solver=adam; total time=   0.1s\n",
      "[CV] END activation=identity, alpha=0.001, hidden_layer_sizes=15, learning_rate=invscaling, learning_rate_init=0.001, max_iter=500, shuffle=True, solver=adam; total time=   0.2s\n",
      "[CV] END activation=identity, alpha=0.001, hidden_layer_sizes=15, learning_rate=invscaling, learning_rate_init=0.001, max_iter=500, shuffle=False, solver=adam; total time=   0.1s\n",
      "[CV] END activation=identity, alpha=0.001, hidden_layer_sizes=15, learning_rate=invscaling, learning_rate_init=0.005, max_iter=200, shuffle=True, solver=adam; total time=   0.1s\n",
      "[CV] END activation=identity, alpha=0.001, hidden_layer_sizes=15, learning_rate=invscaling, learning_rate_init=0.005, max_iter=200, shuffle=False, solver=adam; total time=   0.1s\n",
      "[CV] END activation=identity, alpha=0.001, hidden_layer_sizes=15, learning_rate=invscaling, learning_rate_init=0.005, max_iter=500, shuffle=True, solver=adam; total time=   0.1s\n",
      "[CV] END activation=identity, alpha=0.001, hidden_layer_sizes=15, learning_rate=invscaling, learning_rate_init=0.005, max_iter=500, shuffle=False, solver=adam; total time=   0.1s\n",
      "[CV] END activation=identity, alpha=0.001, hidden_layer_sizes=15, learning_rate=invscaling, learning_rate_init=0.01, max_iter=200, shuffle=True, solver=adam; total time=   0.1s\n",
      "[CV] END activation=identity, alpha=0.001, hidden_layer_sizes=15, learning_rate=invscaling, learning_rate_init=0.01, max_iter=200, shuffle=False, solver=adam; total time=   0.1s\n",
      "[CV] END activation=identity, alpha=0.001, hidden_layer_sizes=15, learning_rate=invscaling, learning_rate_init=0.01, max_iter=500, shuffle=True, solver=adam; total time=   0.1s\n",
      "[CV] END activation=identity, alpha=0.001, hidden_layer_sizes=15, learning_rate=invscaling, learning_rate_init=0.01, max_iter=500, shuffle=False, solver=adam; total time=   0.1s\n",
      "[CV] END activation=identity, alpha=0.001, hidden_layer_sizes=(5, 5), learning_rate=invscaling, learning_rate_init=0, max_iter=200, shuffle=True, solver=adam; total time=   0.0s\n",
      "[CV] END activation=identity, alpha=0.001, hidden_layer_sizes=(5, 5), learning_rate=invscaling, learning_rate_init=0, max_iter=200, shuffle=False, solver=adam; total time=   0.0s\n",
      "[CV] END activation=identity, alpha=0.001, hidden_layer_sizes=(5, 5), learning_rate=invscaling, learning_rate_init=0, max_iter=500, shuffle=True, solver=adam; total time=   0.0s\n",
      "[CV] END activation=identity, alpha=0.001, hidden_layer_sizes=(5, 5), learning_rate=invscaling, learning_rate_init=0, max_iter=500, shuffle=False, solver=adam; total time=   0.0s\n",
      "[CV] END activation=identity, alpha=0.001, hidden_layer_sizes=(5, 5), learning_rate=invscaling, learning_rate_init=0.0001, max_iter=200, shuffle=True, solver=adam; total time=   1.0s\n",
      "[CV] END activation=identity, alpha=0.001, hidden_layer_sizes=(5, 5), learning_rate=invscaling, learning_rate_init=0.0001, max_iter=200, shuffle=False, solver=adam; total time=   0.9s\n",
      "[CV] END activation=identity, alpha=0.001, hidden_layer_sizes=(5, 5), learning_rate=invscaling, learning_rate_init=0.0001, max_iter=500, shuffle=True, solver=adam; total time=   1.1s\n",
      "[CV] END activation=identity, alpha=0.001, hidden_layer_sizes=(5, 5), learning_rate=invscaling, learning_rate_init=0.0001, max_iter=500, shuffle=False, solver=adam; total time=   0.8s\n",
      "[CV] END activation=identity, alpha=0.001, hidden_layer_sizes=(5, 5), learning_rate=invscaling, learning_rate_init=0.0005, max_iter=200, shuffle=True, solver=adam; total time=   0.5s\n",
      "[CV] END activation=identity, alpha=0.001, hidden_layer_sizes=(5, 5), learning_rate=invscaling, learning_rate_init=0.0005, max_iter=200, shuffle=False, solver=adam; total time=   0.5s\n",
      "[CV] END activation=identity, alpha=0.001, hidden_layer_sizes=(5, 5), learning_rate=invscaling, learning_rate_init=0.0005, max_iter=500, shuffle=True, solver=adam; total time=   0.5s\n",
      "[CV] END activation=identity, alpha=0.001, hidden_layer_sizes=(5, 5), learning_rate=invscaling, learning_rate_init=0.0005, max_iter=500, shuffle=False, solver=adam; total time=   0.5s\n",
      "[CV] END activation=identity, alpha=0.001, hidden_layer_sizes=(5, 5), learning_rate=invscaling, learning_rate_init=0.001, max_iter=200, shuffle=True, solver=adam; total time=   0.2s\n",
      "[CV] END activation=identity, alpha=0.001, hidden_layer_sizes=(5, 5), learning_rate=invscaling, learning_rate_init=0.001, max_iter=200, shuffle=False, solver=adam; total time=   0.3s\n",
      "[CV] END activation=identity, alpha=0.001, hidden_layer_sizes=(5, 5), learning_rate=invscaling, learning_rate_init=0.001, max_iter=500, shuffle=True, solver=adam; total time=   0.3s\n",
      "[CV] END activation=identity, alpha=0.001, hidden_layer_sizes=(5, 5), learning_rate=invscaling, learning_rate_init=0.001, max_iter=500, shuffle=False, solver=adam; total time=   0.2s\n",
      "[CV] END activation=identity, alpha=0.001, hidden_layer_sizes=(5, 5), learning_rate=invscaling, learning_rate_init=0.005, max_iter=200, shuffle=True, solver=adam; total time=   0.1s\n",
      "[CV] END activation=identity, alpha=0.001, hidden_layer_sizes=(5, 5), learning_rate=invscaling, learning_rate_init=0.005, max_iter=200, shuffle=False, solver=adam; total time=   0.1s\n",
      "[CV] END activation=identity, alpha=0.001, hidden_layer_sizes=(5, 5), learning_rate=invscaling, learning_rate_init=0.005, max_iter=500, shuffle=True, solver=adam; total time=   0.1s\n",
      "[CV] END activation=identity, alpha=0.001, hidden_layer_sizes=(5, 5), learning_rate=invscaling, learning_rate_init=0.005, max_iter=500, shuffle=False, solver=adam; total time=   0.1s\n",
      "[CV] END activation=identity, alpha=0.001, hidden_layer_sizes=(5, 5), learning_rate=invscaling, learning_rate_init=0.01, max_iter=200, shuffle=True, solver=adam; total time=   0.2s\n",
      "[CV] END activation=identity, alpha=0.001, hidden_layer_sizes=(5, 5), learning_rate=invscaling, learning_rate_init=0.01, max_iter=200, shuffle=False, solver=adam; total time=   0.1s\n",
      "[CV] END activation=identity, alpha=0.001, hidden_layer_sizes=(5, 5), learning_rate=invscaling, learning_rate_init=0.01, max_iter=500, shuffle=True, solver=adam; total time=   0.1s\n",
      "[CV] END activation=identity, alpha=0.001, hidden_layer_sizes=(5, 5), learning_rate=invscaling, learning_rate_init=0.01, max_iter=500, shuffle=False, solver=adam; total time=   0.1s\n",
      "[CV] END activation=identity, alpha=0.001, hidden_layer_sizes=(5, 10), learning_rate=invscaling, learning_rate_init=0, max_iter=200, shuffle=True, solver=adam; total time=   0.0s\n",
      "[CV] END activation=identity, alpha=0.001, hidden_layer_sizes=(5, 10), learning_rate=invscaling, learning_rate_init=0, max_iter=200, shuffle=False, solver=adam; total time=   0.0s\n",
      "[CV] END activation=identity, alpha=0.001, hidden_layer_sizes=(5, 10), learning_rate=invscaling, learning_rate_init=0, max_iter=500, shuffle=True, solver=adam; total time=   0.0s\n",
      "[CV] END activation=identity, alpha=0.001, hidden_layer_sizes=(5, 10), learning_rate=invscaling, learning_rate_init=0, max_iter=500, shuffle=False, solver=adam; total time=   0.0s\n",
      "[CV] END activation=identity, alpha=0.001, hidden_layer_sizes=(5, 10), learning_rate=invscaling, learning_rate_init=0.0001, max_iter=200, shuffle=True, solver=adam; total time=   0.3s\n",
      "[CV] END activation=identity, alpha=0.001, hidden_layer_sizes=(5, 10), learning_rate=invscaling, learning_rate_init=0.0001, max_iter=200, shuffle=False, solver=adam; total time=   0.8s\n",
      "[CV] END activation=identity, alpha=0.001, hidden_layer_sizes=(5, 10), learning_rate=invscaling, learning_rate_init=0.0001, max_iter=500, shuffle=True, solver=adam; total time=   0.6s\n",
      "[CV] END activation=identity, alpha=0.001, hidden_layer_sizes=(5, 10), learning_rate=invscaling, learning_rate_init=0.0001, max_iter=500, shuffle=False, solver=adam; total time=   0.7s\n",
      "[CV] END activation=identity, alpha=0.001, hidden_layer_sizes=(5, 10), learning_rate=invscaling, learning_rate_init=0.0005, max_iter=200, shuffle=True, solver=adam; total time=   0.4s\n",
      "[CV] END activation=identity, alpha=0.001, hidden_layer_sizes=(5, 10), learning_rate=invscaling, learning_rate_init=0.0005, max_iter=200, shuffle=False, solver=adam; total time=   0.4s\n",
      "[CV] END activation=identity, alpha=0.001, hidden_layer_sizes=(5, 10), learning_rate=invscaling, learning_rate_init=0.0005, max_iter=500, shuffle=True, solver=adam; total time=   0.3s\n",
      "[CV] END activation=identity, alpha=0.001, hidden_layer_sizes=(5, 10), learning_rate=invscaling, learning_rate_init=0.0005, max_iter=500, shuffle=False, solver=adam; total time=   0.3s\n",
      "[CV] END activation=identity, alpha=0.001, hidden_layer_sizes=(5, 10), learning_rate=invscaling, learning_rate_init=0.001, max_iter=200, shuffle=True, solver=adam; total time=   0.3s\n",
      "[CV] END activation=identity, alpha=0.001, hidden_layer_sizes=(5, 10), learning_rate=invscaling, learning_rate_init=0.001, max_iter=200, shuffle=False, solver=adam; total time=   0.2s\n",
      "[CV] END activation=identity, alpha=0.001, hidden_layer_sizes=(5, 10), learning_rate=invscaling, learning_rate_init=0.001, max_iter=500, shuffle=True, solver=adam; total time=   0.4s\n",
      "[CV] END activation=identity, alpha=0.001, hidden_layer_sizes=(5, 10), learning_rate=invscaling, learning_rate_init=0.001, max_iter=500, shuffle=False, solver=adam; total time=   0.2s\n",
      "[CV] END activation=identity, alpha=0.001, hidden_layer_sizes=(5, 10), learning_rate=invscaling, learning_rate_init=0.005, max_iter=200, shuffle=True, solver=adam; total time=   0.1s\n",
      "[CV] END activation=identity, alpha=0.001, hidden_layer_sizes=(5, 10), learning_rate=invscaling, learning_rate_init=0.005, max_iter=200, shuffle=False, solver=adam; total time=   0.1s\n",
      "[CV] END activation=identity, alpha=0.001, hidden_layer_sizes=(5, 10), learning_rate=invscaling, learning_rate_init=0.005, max_iter=500, shuffle=True, solver=adam; total time=   0.1s\n",
      "[CV] END activation=identity, alpha=0.001, hidden_layer_sizes=(5, 10), learning_rate=invscaling, learning_rate_init=0.005, max_iter=500, shuffle=False, solver=adam; total time=   0.1s\n",
      "[CV] END activation=identity, alpha=0.001, hidden_layer_sizes=(5, 10), learning_rate=invscaling, learning_rate_init=0.01, max_iter=200, shuffle=True, solver=adam; total time=   0.1s\n",
      "[CV] END activation=identity, alpha=0.001, hidden_layer_sizes=(5, 10), learning_rate=invscaling, learning_rate_init=0.01, max_iter=200, shuffle=False, solver=adam; total time=   0.1s\n",
      "[CV] END activation=identity, alpha=0.001, hidden_layer_sizes=(5, 10), learning_rate=invscaling, learning_rate_init=0.01, max_iter=500, shuffle=True, solver=adam; total time=   0.2s\n",
      "[CV] END activation=identity, alpha=0.001, hidden_layer_sizes=(5, 10), learning_rate=invscaling, learning_rate_init=0.01, max_iter=500, shuffle=False, solver=adam; total time=   0.1s\n",
      "Score:  0.7314487632508834\n",
      "Parameters:  {'activation': 'identity', 'alpha': 0, 'hidden_layer_sizes': 10, 'learning_rate': 'invscaling', 'learning_rate_init': 0.0001, 'max_iter': 500, 'shuffle': False, 'solver': 'adam'}\n"
     ]
    }
   ],
   "source": [
    "param_grid = {\n",
    "    'hidden_layer_sizes':[5,10,15,(5,5),(5,10)],\n",
    "    'activation': ['identity'],\n",
    "    'solver': ['adam'],\n",
    "    'alpha': [0,0.0005,0.0001,0.0005,0.001],\n",
    "    'learning_rate':['invscaling'],\n",
    "    'learning_rate_init': [0,0.0001,0.0005,0.001, 0.005,0.01],\n",
    "    'max_iter': [200,500],\n",
    "    'shuffle': [True,False] \n",
    "}\n",
    "\n",
    "gridSearch = GridSearchCV(MLPClassifier(), param_grid, cv=cv,\n",
    "                          scoring='recall',verbose=2)\n",
    "y_predict_Tmlp3 = gridSearch.fit(X_train, y_train)\n",
    "\n",
    "y_predict_Tmlp3 = grid_search.predict(X_test)\n",
    "\n",
    "Tmlp3_report = classification_report(y_test, y_predict_Tmlp3)\n",
    "\n",
    "print('Score: ', gridSearch.best_score_)\n",
    "print('Parameters: ', gridSearch.best_params_)"
   ]
  },
  {
   "cell_type": "code",
   "execution_count": 21,
   "id": "b0260b11",
   "metadata": {
    "execution": {
     "iopub.execute_input": "2024-03-29T03:56:56.778303Z",
     "iopub.status.busy": "2024-03-29T03:56:56.777859Z",
     "iopub.status.idle": "2024-03-29T03:56:56.784042Z",
     "shell.execute_reply": "2024-03-29T03:56:56.782879Z"
    },
    "papermill": {
     "duration": 0.062543,
     "end_time": "2024-03-29T03:56:56.786923",
     "exception": false,
     "start_time": "2024-03-29T03:56:56.724380",
     "status": "completed"
    },
    "tags": []
   },
   "outputs": [
    {
     "name": "stdout",
     "output_type": "stream",
     "text": [
      "              precision    recall  f1-score   support\n",
      "\n",
      "         0.0       0.62      0.61      0.62       566\n",
      "         1.0       0.61      0.63      0.62       556\n",
      "\n",
      "    accuracy                           0.62      1122\n",
      "   macro avg       0.62      0.62      0.62      1122\n",
      "weighted avg       0.62      0.62      0.62      1122\n",
      "\n"
     ]
    }
   ],
   "source": [
    "print(Tmlp3_report)"
   ]
  },
  {
   "cell_type": "markdown",
   "id": "3d9dd14e",
   "metadata": {
    "papermill": {
     "duration": 0.052508,
     "end_time": "2024-03-29T03:56:56.892266",
     "exception": false,
     "start_time": "2024-03-29T03:56:56.839758",
     "status": "completed"
    },
    "tags": []
   },
   "source": [
    "# Random Forest"
   ]
  },
  {
   "cell_type": "code",
   "execution_count": 22,
   "id": "c658d0b8",
   "metadata": {
    "execution": {
     "iopub.execute_input": "2024-03-29T03:56:56.999343Z",
     "iopub.status.busy": "2024-03-29T03:56:56.998459Z",
     "iopub.status.idle": "2024-03-29T03:56:58.156868Z",
     "shell.execute_reply": "2024-03-29T03:56:58.155768Z"
    },
    "papermill": {
     "duration": 1.21528,
     "end_time": "2024-03-29T03:56:58.159576",
     "exception": false,
     "start_time": "2024-03-29T03:56:56.944296",
     "status": "completed"
    },
    "tags": []
   },
   "outputs": [
    {
     "data": {
      "text/html": [
       "<style>#sk-container-id-1 {color: black;background-color: white;}#sk-container-id-1 pre{padding: 0;}#sk-container-id-1 div.sk-toggleable {background-color: white;}#sk-container-id-1 label.sk-toggleable__label {cursor: pointer;display: block;width: 100%;margin-bottom: 0;padding: 0.3em;box-sizing: border-box;text-align: center;}#sk-container-id-1 label.sk-toggleable__label-arrow:before {content: \"▸\";float: left;margin-right: 0.25em;color: #696969;}#sk-container-id-1 label.sk-toggleable__label-arrow:hover:before {color: black;}#sk-container-id-1 div.sk-estimator:hover label.sk-toggleable__label-arrow:before {color: black;}#sk-container-id-1 div.sk-toggleable__content {max-height: 0;max-width: 0;overflow: hidden;text-align: left;background-color: #f0f8ff;}#sk-container-id-1 div.sk-toggleable__content pre {margin: 0.2em;color: black;border-radius: 0.25em;background-color: #f0f8ff;}#sk-container-id-1 input.sk-toggleable__control:checked~div.sk-toggleable__content {max-height: 200px;max-width: 100%;overflow: auto;}#sk-container-id-1 input.sk-toggleable__control:checked~label.sk-toggleable__label-arrow:before {content: \"▾\";}#sk-container-id-1 div.sk-estimator input.sk-toggleable__control:checked~label.sk-toggleable__label {background-color: #d4ebff;}#sk-container-id-1 div.sk-label input.sk-toggleable__control:checked~label.sk-toggleable__label {background-color: #d4ebff;}#sk-container-id-1 input.sk-hidden--visually {border: 0;clip: rect(1px 1px 1px 1px);clip: rect(1px, 1px, 1px, 1px);height: 1px;margin: -1px;overflow: hidden;padding: 0;position: absolute;width: 1px;}#sk-container-id-1 div.sk-estimator {font-family: monospace;background-color: #f0f8ff;border: 1px dotted black;border-radius: 0.25em;box-sizing: border-box;margin-bottom: 0.5em;}#sk-container-id-1 div.sk-estimator:hover {background-color: #d4ebff;}#sk-container-id-1 div.sk-parallel-item::after {content: \"\";width: 100%;border-bottom: 1px solid gray;flex-grow: 1;}#sk-container-id-1 div.sk-label:hover label.sk-toggleable__label {background-color: #d4ebff;}#sk-container-id-1 div.sk-serial::before {content: \"\";position: absolute;border-left: 1px solid gray;box-sizing: border-box;top: 0;bottom: 0;left: 50%;z-index: 0;}#sk-container-id-1 div.sk-serial {display: flex;flex-direction: column;align-items: center;background-color: white;padding-right: 0.2em;padding-left: 0.2em;position: relative;}#sk-container-id-1 div.sk-item {position: relative;z-index: 1;}#sk-container-id-1 div.sk-parallel {display: flex;align-items: stretch;justify-content: center;background-color: white;position: relative;}#sk-container-id-1 div.sk-item::before, #sk-container-id-1 div.sk-parallel-item::before {content: \"\";position: absolute;border-left: 1px solid gray;box-sizing: border-box;top: 0;bottom: 0;left: 50%;z-index: -1;}#sk-container-id-1 div.sk-parallel-item {display: flex;flex-direction: column;z-index: 1;position: relative;background-color: white;}#sk-container-id-1 div.sk-parallel-item:first-child::after {align-self: flex-end;width: 50%;}#sk-container-id-1 div.sk-parallel-item:last-child::after {align-self: flex-start;width: 50%;}#sk-container-id-1 div.sk-parallel-item:only-child::after {width: 0;}#sk-container-id-1 div.sk-dashed-wrapped {border: 1px dashed gray;margin: 0 0.4em 0.5em 0.4em;box-sizing: border-box;padding-bottom: 0.4em;background-color: white;}#sk-container-id-1 div.sk-label label {font-family: monospace;font-weight: bold;display: inline-block;line-height: 1.2em;}#sk-container-id-1 div.sk-label-container {text-align: center;}#sk-container-id-1 div.sk-container {/* jupyter's `normalize.less` sets `[hidden] { display: none; }` but bootstrap.min.css set `[hidden] { display: none !important; }` so we also need the `!important` here to be able to override the default hidden behavior on the sphinx rendered scikit-learn.org. See: https://github.com/scikit-learn/scikit-learn/issues/21755 */display: inline-block !important;position: relative;}#sk-container-id-1 div.sk-text-repr-fallback {display: none;}</style><div id=\"sk-container-id-1\" class=\"sk-top-container\"><div class=\"sk-text-repr-fallback\"><pre>RandomForestClassifier()</pre><b>In a Jupyter environment, please rerun this cell to show the HTML representation or trust the notebook. <br />On GitHub, the HTML representation is unable to render, please try loading this page with nbviewer.org.</b></div><div class=\"sk-container\" hidden><div class=\"sk-item\"><div class=\"sk-estimator sk-toggleable\"><input class=\"sk-toggleable__control sk-hidden--visually\" id=\"sk-estimator-id-1\" type=\"checkbox\" checked><label for=\"sk-estimator-id-1\" class=\"sk-toggleable__label sk-toggleable__label-arrow\">RandomForestClassifier</label><div class=\"sk-toggleable__content\"><pre>RandomForestClassifier()</pre></div></div></div></div></div>"
      ],
      "text/plain": [
       "RandomForestClassifier()"
      ]
     },
     "execution_count": 22,
     "metadata": {},
     "output_type": "execute_result"
    }
   ],
   "source": [
    "RF = RandomForestClassifier()\n",
    "RF.fit(X_train, y_train)"
   ]
  },
  {
   "cell_type": "code",
   "execution_count": 23,
   "id": "cc673c5e",
   "metadata": {
    "execution": {
     "iopub.execute_input": "2024-03-29T03:56:58.271480Z",
     "iopub.status.busy": "2024-03-29T03:56:58.270069Z",
     "iopub.status.idle": "2024-03-29T03:56:58.277106Z",
     "shell.execute_reply": "2024-03-29T03:56:58.275689Z"
    },
    "papermill": {
     "duration": 0.066106,
     "end_time": "2024-03-29T03:56:58.279864",
     "exception": false,
     "start_time": "2024-03-29T03:56:58.213758",
     "status": "completed"
    },
    "tags": []
   },
   "outputs": [],
   "source": [
    "models = [RF]\n",
    "\n",
    "train_acc = []\n",
    "test_acc = []\n",
    "train_logloss = []\n",
    "test_logloss = []\n",
    "train_rocauc = []\n",
    "test_rocauc = []"
   ]
  },
  {
   "cell_type": "code",
   "execution_count": 24,
   "id": "ecde9151",
   "metadata": {
    "execution": {
     "iopub.execute_input": "2024-03-29T03:56:58.388579Z",
     "iopub.status.busy": "2024-03-29T03:56:58.388153Z",
     "iopub.status.idle": "2024-03-29T03:56:58.493557Z",
     "shell.execute_reply": "2024-03-29T03:56:58.492210Z"
    },
    "papermill": {
     "duration": 0.164028,
     "end_time": "2024-03-29T03:56:58.496689",
     "exception": false,
     "start_time": "2024-03-29T03:56:58.332661",
     "status": "completed"
    },
    "tags": []
   },
   "outputs": [],
   "source": [
    "for model in models:\n",
    "    y_train_hat = model.predict(X_train)\n",
    "    y_test_hat = model.predict(X_test)\n",
    "    train_acc.append(round(accuracy_score(y_train, y_train_hat)*100, 2))\n",
    "    test_acc.append(round(accuracy_score(y_test, y_test_hat)*100, 2))\n",
    "    train_logloss.append(log_loss(y_train, y_train_hat))\n",
    "    test_logloss.append(log_loss(y_test, y_test_hat))\n",
    "    train_rocauc.append(round(roc_auc_score(y_train, y_train_hat), 2))\n",
    "    test_rocauc.append(round(roc_auc_score(y_test, y_test_hat), 2))"
   ]
  },
  {
   "cell_type": "code",
   "execution_count": 25,
   "id": "e27ba3f7",
   "metadata": {
    "execution": {
     "iopub.execute_input": "2024-03-29T03:56:58.604575Z",
     "iopub.status.busy": "2024-03-29T03:56:58.604085Z",
     "iopub.status.idle": "2024-03-29T03:56:58.622310Z",
     "shell.execute_reply": "2024-03-29T03:56:58.621072Z"
    },
    "papermill": {
     "duration": 0.074905,
     "end_time": "2024-03-29T03:56:58.625366",
     "exception": false,
     "start_time": "2024-03-29T03:56:58.550461",
     "status": "completed"
    },
    "tags": []
   },
   "outputs": [
    {
     "data": {
      "text/html": [
       "<div>\n",
       "<style scoped>\n",
       "    .dataframe tbody tr th:only-of-type {\n",
       "        vertical-align: middle;\n",
       "    }\n",
       "\n",
       "    .dataframe tbody tr th {\n",
       "        vertical-align: top;\n",
       "    }\n",
       "\n",
       "    .dataframe thead th {\n",
       "        text-align: right;\n",
       "    }\n",
       "</style>\n",
       "<table border=\"1\" class=\"dataframe\">\n",
       "  <thead>\n",
       "    <tr style=\"text-align: right;\">\n",
       "      <th></th>\n",
       "      <th>Train Accuracy %</th>\n",
       "      <th>Test Accuracy %</th>\n",
       "      <th>Train Log Loss</th>\n",
       "      <th>Test Log Loss</th>\n",
       "      <th>Train ROC AUC</th>\n",
       "      <th>Test ROC AUC</th>\n",
       "    </tr>\n",
       "  </thead>\n",
       "  <tbody>\n",
       "    <tr>\n",
       "      <th>Random Forest</th>\n",
       "      <td>100.0</td>\n",
       "      <td>75.85</td>\n",
       "      <td>2.220446e-16</td>\n",
       "      <td>8.705731</td>\n",
       "      <td>1.0</td>\n",
       "      <td>0.76</td>\n",
       "    </tr>\n",
       "  </tbody>\n",
       "</table>\n",
       "</div>"
      ],
      "text/plain": [
       "               Train Accuracy %  Test Accuracy %  Train Log Loss  \\\n",
       "Random Forest             100.0            75.85    2.220446e-16   \n",
       "\n",
       "               Test Log Loss  Train ROC AUC  Test ROC AUC  \n",
       "Random Forest       8.705731            1.0          0.76  "
      ]
     },
     "execution_count": 25,
     "metadata": {},
     "output_type": "execute_result"
    }
   ],
   "source": [
    "metrics = pd.DataFrame({'Train Accuracy %': train_acc, 'Test Accuracy %': test_acc, 'Train Log Loss': train_logloss,\n",
    "                       'Test Log Loss': test_logloss, 'Train ROC AUC': train_rocauc, 'Test ROC AUC': test_rocauc}, \n",
    "                   index=['Random Forest'])\n",
    "metrics"
   ]
  },
  {
   "cell_type": "markdown",
   "id": "f59ae92a",
   "metadata": {
    "papermill": {
     "duration": 0.052072,
     "end_time": "2024-03-29T03:56:58.731232",
     "exception": false,
     "start_time": "2024-03-29T03:56:58.679160",
     "status": "completed"
    },
    "tags": []
   },
   "source": [
    "## Tuning"
   ]
  },
  {
   "cell_type": "code",
   "execution_count": 26,
   "id": "6de76b95",
   "metadata": {
    "execution": {
     "iopub.execute_input": "2024-03-29T03:56:58.839728Z",
     "iopub.status.busy": "2024-03-29T03:56:58.838801Z",
     "iopub.status.idle": "2024-03-29T03:56:58.850790Z",
     "shell.execute_reply": "2024-03-29T03:56:58.849561Z"
    },
    "papermill": {
     "duration": 0.0697,
     "end_time": "2024-03-29T03:56:58.853621",
     "exception": false,
     "start_time": "2024-03-29T03:56:58.783921",
     "status": "completed"
    },
    "tags": []
   },
   "outputs": [
    {
     "data": {
      "text/plain": [
       "{'n_estimators': [200, 400, 600, 800, 1000, 1200, 1400, 1600, 1800],\n",
       " 'max_depth': [10, 20, 30, 40, 50, 60, 70, 80, 90, 100, None],\n",
       " 'min_samples_split': [2, 5, 10],\n",
       " 'min_samples_leaf': [1, 2, 4],\n",
       " 'bootstrap': [True, False]}"
      ]
     },
     "execution_count": 26,
     "metadata": {},
     "output_type": "execute_result"
    }
   ],
   "source": [
    "# Especificar hiperparametros del grid\n",
    "\n",
    "n_estimators = list(range(200, 2000, 200))\n",
    "max_depth = list(range(10, 110, 10))\n",
    "max_depth.append(None)\n",
    "min_samples_split = [2, 5, 10]\n",
    "min_samples_leaf = [1, 2, 4]\n",
    "bootstrap = [True, False]\n",
    "\n",
    "param_grid = {'n_estimators': n_estimators,\n",
    "               'max_depth': max_depth,\n",
    "               'min_samples_split': min_samples_split,\n",
    "               'min_samples_leaf': min_samples_leaf,\n",
    "               'bootstrap': bootstrap}\n",
    "\n",
    "param_grid"
   ]
  },
  {
   "cell_type": "code",
   "execution_count": 27,
   "id": "79816924",
   "metadata": {
    "execution": {
     "iopub.execute_input": "2024-03-29T03:56:58.961966Z",
     "iopub.status.busy": "2024-03-29T03:56:58.960601Z",
     "iopub.status.idle": "2024-03-29T03:58:31.632381Z",
     "shell.execute_reply": "2024-03-29T03:58:31.630879Z"
    },
    "papermill": {
     "duration": 92.783536,
     "end_time": "2024-03-29T03:58:31.690137",
     "exception": false,
     "start_time": "2024-03-29T03:56:58.906601",
     "status": "completed"
    },
    "tags": []
   },
   "outputs": [
    {
     "name": "stdout",
     "output_type": "stream",
     "text": [
      "{'n_estimators': 1600, 'min_samples_split': 2, 'min_samples_leaf': 1, 'max_depth': None, 'bootstrap': False}\n"
     ]
    }
   ],
   "source": [
    "# Entrenamiento de búsqueda aleatoria: aquí se probarán 100 parámetros diferentes con K-Fold de 3, lo que equivale a 300 iteraciones en total.\n",
    "\n",
    "RF_random = RandomizedSearchCV(estimator = RF, param_distributions = param_grid, \n",
    "                               n_iter = 5, cv = 3, verbose=0, random_state=2002, n_jobs = -1)\n",
    "\n",
    "RF_random.fit(X_train, y_train)\n",
    "\n",
    "print(RF_random.best_params_)"
   ]
  },
  {
   "cell_type": "code",
   "execution_count": 28,
   "id": "9ea6e1c3",
   "metadata": {
    "execution": {
     "iopub.execute_input": "2024-03-29T03:58:31.799962Z",
     "iopub.status.busy": "2024-03-29T03:58:31.799486Z",
     "iopub.status.idle": "2024-03-29T03:58:45.450108Z",
     "shell.execute_reply": "2024-03-29T03:58:45.448877Z"
    },
    "papermill": {
     "duration": 13.708679,
     "end_time": "2024-03-29T03:58:45.452961",
     "exception": false,
     "start_time": "2024-03-29T03:58:31.744282",
     "status": "completed"
    },
    "tags": []
   },
   "outputs": [
    {
     "data": {
      "text/html": [
       "<div>\n",
       "<style scoped>\n",
       "    .dataframe tbody tr th:only-of-type {\n",
       "        vertical-align: middle;\n",
       "    }\n",
       "\n",
       "    .dataframe tbody tr th {\n",
       "        vertical-align: top;\n",
       "    }\n",
       "\n",
       "    .dataframe thead th {\n",
       "        text-align: right;\n",
       "    }\n",
       "</style>\n",
       "<table border=\"1\" class=\"dataframe\">\n",
       "  <thead>\n",
       "    <tr style=\"text-align: right;\">\n",
       "      <th></th>\n",
       "      <th>Train Accuracy %</th>\n",
       "      <th>Test Accuracy %</th>\n",
       "      <th>Train Log Loss</th>\n",
       "      <th>Test Log Loss</th>\n",
       "      <th>Train ROC AUC</th>\n",
       "      <th>Test ROC AUC</th>\n",
       "    </tr>\n",
       "  </thead>\n",
       "  <tbody>\n",
       "    <tr>\n",
       "      <th>Random Forest</th>\n",
       "      <td>100.00</td>\n",
       "      <td>75.85</td>\n",
       "      <td>2.220446e-16</td>\n",
       "      <td>8.705731</td>\n",
       "      <td>1.00</td>\n",
       "      <td>0.76</td>\n",
       "    </tr>\n",
       "    <tr>\n",
       "      <th>Random Forest Tuned</th>\n",
       "      <td>98.89</td>\n",
       "      <td>73.98</td>\n",
       "      <td>3.992612e-01</td>\n",
       "      <td>9.380345</td>\n",
       "      <td>0.99</td>\n",
       "      <td>0.74</td>\n",
       "    </tr>\n",
       "  </tbody>\n",
       "</table>\n",
       "</div>"
      ],
      "text/plain": [
       "                     Train Accuracy %  Test Accuracy %  Train Log Loss  \\\n",
       "Random Forest                  100.00            75.85    2.220446e-16   \n",
       "Random Forest Tuned             98.89            73.98    3.992612e-01   \n",
       "\n",
       "                     Test Log Loss  Train ROC AUC  Test ROC AUC  \n",
       "Random Forest             8.705731           1.00          0.76  \n",
       "Random Forest Tuned       9.380345           0.99          0.74  "
      ]
     },
     "execution_count": 28,
     "metadata": {},
     "output_type": "execute_result"
    }
   ],
   "source": [
    "# Ahora, utilizando los mejores parámetros encontrados en la búsqueda aleatoria, compararemos su rendimiento con el primer modelo.\n",
    "\n",
    "RF = RandomForestClassifier(n_estimators=1200, min_samples_split=5, min_samples_leaf=5, max_depth=50, bootstrap=True)\n",
    "RF.fit(X_train, y_train)\n",
    "\n",
    "y_train_hat = RF.predict(X_train)\n",
    "y_test_hat = RF.predict(X_test)\n",
    "\n",
    "train_acc.append(round(accuracy_score(y_train, y_train_hat)*100, 2))\n",
    "test_acc.append(round(accuracy_score(y_test, y_test_hat)*100, 2))\n",
    "train_logloss.append(log_loss(y_train, y_train_hat))\n",
    "test_logloss.append(log_loss(y_test, y_test_hat))\n",
    "train_rocauc.append(round(roc_auc_score(y_train, y_train_hat), 2))\n",
    "test_rocauc.append(round(roc_auc_score(y_test, y_test_hat), 2))\n",
    "\n",
    "metrics = pd.DataFrame({'Train Accuracy %': train_acc, 'Test Accuracy %': test_acc, 'Train Log Loss': train_logloss,\n",
    "                       'Test Log Loss': test_logloss, 'Train ROC AUC': train_rocauc, 'Test ROC AUC': test_rocauc}, \n",
    "                   index=['Random Forest','Random Forest Tuned'])\n",
    "metrics"
   ]
  },
  {
   "cell_type": "markdown",
   "id": "4caf1870",
   "metadata": {
    "papermill": {
     "duration": 0.052701,
     "end_time": "2024-03-29T03:58:45.559107",
     "exception": false,
     "start_time": "2024-03-29T03:58:45.506406",
     "status": "completed"
    },
    "tags": []
   },
   "source": [
    "# **Resume:**\n",
    "\n",
    "**Random Forest Tuning:**\n",
    "\n",
    "* Precisión: 99.1% (para la clase 0)\n",
    "* Recuperación: 72.35% (para la clase 1)\n",
    "* Puntuación F1: 72.35%\n",
    "* Exactitud: 72.35%\n",
    "\n",
    "Los resultados muestran una alta precisión para la clase 0 y una recuperación razonable para la clase 1. Además, la exactitud general del modelo es del 72.35%, lo que indica un buen rendimiento general. Además, los resultados se mantienen estables después del ajuste de hiperparámetros.\n",
    "\n",
    "**Random Forest:**\n",
    "\n",
    "* Precisión: 100% (para la clase 0)\n",
    "* Recuperación: 74.44% (para la clase 1)\n",
    "* Puntuación F1: 74.44%\n",
    "* Exactitud: 74.44%\n",
    "\n",
    "Aunque este modelo muestra una precisión perfecta para la clase 0, la recuperación para la clase 1 es ligeramente menor que la del modelo ajustado, lo que sugiere un rendimiento ligeramente inferior.\n",
    "\n",
    "**Tune MLP 3:**\n",
    "\n",
    "* Precisión: 64% (para la clase 0)\n",
    "* Recuperación: 63% (para la clase 1)\n",
    "* Puntuación F1: 63%\n",
    "* Exactitud: 63%\n",
    "\n",
    "Este modelo tiene una precisión y recuperación razonables, pero su rendimiento general es menor en comparación con los modelos de Random Forest.\n",
    "\n",
    "**Tune MLP 2:**\n",
    "\n",
    "* Precisión: 64% (para la clase 0)\n",
    "* Recuperación: 63% (para la clase 1)\n",
    "* Puntuación F1: 63%\n",
    "* Exactitud: 63%\n",
    "\n",
    "Este modelo tiene resultados similares al Tune MLP 3, pero se coloca en una posición ligeramente inferior debido al orden.\n",
    "\n",
    "**Tune MLP 1:**\n",
    "\n",
    "* Precisión: 52% (para la clase 0)\n",
    "* Recuperación: 52% (para la clase 1)\n",
    "* Puntuación F1: 52%\n",
    "* Exactitud: 52%\n",
    "\n",
    "Este modelo tiene la precisión, recuperación y puntuación F1 más bajas, lo que indica un rendimiento inferior en comparación con los otros modelos.\n",
    "\n",
    "Basándonos en estos resultados, el modelo de Random Forest Tuning es el mejor, ya que tiene una alta precisión para la clase 0, una recuperación razonable para la clase 1 y una buena exactitud general. Además, los resultados se mantienen consistentes después del ajuste de hiperparámetros."
   ]
  },
  {
   "cell_type": "code",
   "execution_count": 29,
   "id": "a713bbda",
   "metadata": {
    "execution": {
     "iopub.execute_input": "2024-03-29T03:58:45.668714Z",
     "iopub.status.busy": "2024-03-29T03:58:45.667829Z",
     "iopub.status.idle": "2024-03-29T03:58:45.855317Z",
     "shell.execute_reply": "2024-03-29T03:58:45.854160Z"
    },
    "papermill": {
     "duration": 0.246013,
     "end_time": "2024-03-29T03:58:45.858316",
     "exception": false,
     "start_time": "2024-03-29T03:58:45.612303",
     "status": "completed"
    },
    "tags": []
   },
   "outputs": [],
   "source": [
    "# Definir los nombres de los modelos\n",
    "models = ['Random Forest', 'Random Forest Tuned']\n",
    "\n",
    "# Extraer las métricas\n",
    "train_accuracy = [100.0, 99.1]  # % de precisión en entrenamiento\n",
    "test_accuracy = [74.44, 72.35]  # % de precisión en prueba\n",
    "train_log_loss = [2.220446e-16, 3.232615e-01]  # Log loss en entrenamiento\n",
    "test_log_loss = [9.212952, 9.967229]  # Log loss en prueba\n",
    "train_roc_auc = [1.0, 0.99]  # Área bajo la curva ROC en entrenamiento\n",
    "test_roc_auc = [0.74, 0.72]  # Área bajo la curva ROC en prueba\n",
    "\n",
    "# Configurar la posición de las barras\n",
    "bar_width = 0.35\n",
    "index = np.arange(len(models))\n",
    "\n",
    "# Crear la figura y los subplots\n",
    "fig, ax = plt.subplots(figsize=(10, 6))\n",
    "\n",
    "# Graficar las métricas de entrenamiento y prueba\n",
    "bar1 = ax.bar(index - bar_width/2, train_accuracy, bar_width, label='Train Accuracy %', color='b')\n",
    "bar2 = ax.bar(index + bar_width/2, test_accuracy, bar_width, label='Test Accuracy %', color='g')\n",
    "\n",
    "# Añadir etiquetas y título\n",
    "ax.set_xlabel('Models', fontsize=14)\n",
    "ax.set_ylabel('Accuracy (%)', fontsize=14)\n",
    "ax.set_title('Train vs Test Accuracy of Random Forest Models', fontsize=16)\n",
    "ax.set_xticks(index)\n",
    "ax.set_xticklabels(models)\n",
    "ax.legend()\n",
    "\n",
    "# Añadir los valores en las barras\n",
    "def add_labels(bars):\n",
    "    for bar in bars:\n",
    "        height = bar.get_height()\n",
    "        ax.annotate('{}'.format(height),\n",
    "                    xy=(bar.get_x() + bar.get_width() / 2, height),\n",
    "                    xytext=(0, 3),\n",
    "                    textcoords=\"offset points\",\n",
    "                    ha='center', va='bottom')\n",
    "\n",
    "add_labels(bar1)\n",
    "add_labels(bar2)"
   ]
  },
  {
   "cell_type": "code",
   "execution_count": 30,
   "id": "2029a7b0",
   "metadata": {
    "execution": {
     "iopub.execute_input": "2024-03-29T03:58:45.968917Z",
     "iopub.status.busy": "2024-03-29T03:58:45.968451Z",
     "iopub.status.idle": "2024-03-29T03:58:46.102397Z",
     "shell.execute_reply": "2024-03-29T03:58:46.100725Z"
    },
    "papermill": {
     "duration": 0.195251,
     "end_time": "2024-03-29T03:58:46.107541",
     "exception": false,
     "start_time": "2024-03-29T03:58:45.912290",
     "status": "completed"
    },
    "tags": []
   },
   "outputs": [],
   "source": [
    "# Mostrar la gráfica\n",
    "plt.tight_layout()\n",
    "plt.show()"
   ]
  }
 ],
 "metadata": {
  "kaggle": {
   "accelerator": "none",
   "dataSources": [
    {
     "datasetId": 1605130,
     "sourceId": 2639600,
     "sourceType": "datasetVersion"
    }
   ],
   "dockerImageVersionId": 30674,
   "isGpuEnabled": false,
   "isInternetEnabled": true,
   "language": "python",
   "sourceType": "notebook"
  },
  "kernelspec": {
   "display_name": "Python 3 (ipykernel)",
   "language": "python",
   "name": "python3"
  },
  "language_info": {
   "codemirror_mode": {
    "name": "ipython",
    "version": 3
   },
   "file_extension": ".py",
   "mimetype": "text/x-python",
   "name": "python",
   "nbconvert_exporter": "python",
   "pygments_lexer": "ipython3",
   "version": "3.10.13"
  },
  "papermill": {
   "default_parameters": {},
   "duration": 342.46485,
   "end_time": "2024-03-29T03:58:48.792595",
   "environment_variables": {},
   "exception": null,
   "input_path": "__notebook__.ipynb",
   "output_path": "__notebook__.ipynb",
   "parameters": {},
   "start_time": "2024-03-29T03:53:06.327745",
   "version": "2.5.0"
  }
 },
 "nbformat": 4,
 "nbformat_minor": 5
}
