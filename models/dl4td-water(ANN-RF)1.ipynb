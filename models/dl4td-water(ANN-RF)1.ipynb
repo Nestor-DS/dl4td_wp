{
 "cells": [
  {
   "cell_type": "markdown",
   "metadata": {},
   "source": [
    "## **\"dl4td-water(ANN-RF)\"**\n",
    "\n",
    "### Libraries Used:\n",
    "- `numpy`: For linear algebra operations.\n",
    "- `pandas`: For data processing and CSV file I/O.\n",
    "- `tensorflow`: For building and training neural network models.\n",
    "- `matplotlib.pyplot`: For visualizations.\n",
    "- `seaborn`: For statistical data visualization.\n",
    "- `sklearn.metrics.classification_report`: For evaluating classification models.\n",
    "- `sklearn.model_selection.train_test_split`: For splitting datasets into training and testing sets.\n",
    "- `sklearn.preprocessing.StandardScaler`: For feature normalization.\n",
    "- `sklearn.model_selection.GridSearchCV`: For grid search hyperparameter tuning.\n",
    "- `sklearn.ensemble.RandomForestClassifier`: For implementing a Random Forest model.\n",
    "- `sklearn.model_selection.cross_val_score`: For cross-validation.\n",
    "\n",
    "### Added Implementations:\n",
    "1. **Regularization**: Dropout and L2 regularization were added to the dense layers of the neural network to prevent overfitting.\n",
    "2. **Hyperparameter Optimization**: GridSearchCV was used to tune the hyperparameters of the neural network model and find the best combination.\n",
    "3. **Ensemble Learning**: A Random Forest model was implemented as a comparison and possible combination with the neural network.\n",
    "4. **Cross-Validation**: Cross-validation was used to evaluate the model's performance more robustly.\n",
    "5. **Error Analysis**: The model's errors on the test set were examined through a detailed classification report.\n",
    "\n",
    "\n",
    "### Models:\n",
    "\n",
    "1. **Artificial Neural Network (ANN):**\n",
    "- TensorFlow was used to build an artificial neural network (ANN) with dense layers.\n",
    "- The neural network has an input layer, two hidden layers, and an output layer with sigmoid activation for binary classification of water potability.\n",
    "- Regularization techniques such as dropout and L2 regularization were implemented to prevent overfitting of the model.\n",
    "\n",
    "2. **Random Forest:**\n",
    "- The Random Forest model from the scikit-learn library was used as another machine learning approach.\n",
    "- This model was used for comparison and potentially for ensemble with the neural network to enhance the accuracy of water potability prediction.\n",
    "\n",
    "----------"
   ]
  },
  {
   "cell_type": "markdown",
   "metadata": {},
   "source": [
    "## Libraries"
   ]
  },
  {
   "cell_type": "code",
   "execution_count": 1,
   "metadata": {},
   "outputs": [],
   "source": [
    "import numpy as np  # Library for linear algebra operations\n",
    "import pandas as pd  # Library for data processing, CSV file I/O (e.g. pd.read_csv)\n",
    "import tensorflow as tf  # TensorFlow, a machine learning framework\n",
    "import matplotlib.pyplot as plt  # Library for creating visualizations\n",
    "import seaborn as sns  # Statistical data visualization library based on Matplotlib\n",
    "from sklearn.metrics import classification_report  # Evaluation metric for classification models\n",
    "from sklearn.model_selection import GridSearchCV, cross_val_score  # Hyperparameter tuning and cross-validation\n",
    "from sklearn.ensemble import RandomForestClassifier  # Machine Learning Models\n",
    "from tensorflow.keras.models import Sequential  # Keras Sequential Model\n",
    "from tensorflow.keras.layers import Input, Dense, Dropout  # Keras layers\n",
    "from tensorflow.keras.wrappers.scikit_learn import KerasClassifier  # Keras Wrapper for Scikit-Learn\n",
    "from sklearn.preprocessing import StandardScaler  # Data preprocessing"
   ]
  },
  {
   "cell_type": "code",
   "execution_count": 2,
   "metadata": {},
   "outputs": [
    {
     "data": {
      "text/html": [
       "<div>\n",
       "<style scoped>\n",
       "    .dataframe tbody tr th:only-of-type {\n",
       "        vertical-align: middle;\n",
       "    }\n",
       "\n",
       "    .dataframe tbody tr th {\n",
       "        vertical-align: top;\n",
       "    }\n",
       "\n",
       "    .dataframe thead th {\n",
       "        text-align: right;\n",
       "    }\n",
       "</style>\n",
       "<table border=\"1\" class=\"dataframe\">\n",
       "  <thead>\n",
       "    <tr style=\"text-align: right;\">\n",
       "      <th></th>\n",
       "      <th>ph</th>\n",
       "      <th>Hardness</th>\n",
       "      <th>Solids</th>\n",
       "      <th>Chloramines</th>\n",
       "      <th>Sulfate</th>\n",
       "      <th>Conductivity</th>\n",
       "      <th>Organic_carbon</th>\n",
       "      <th>Trihalomethanes</th>\n",
       "      <th>Turbidity</th>\n",
       "      <th>Potability</th>\n",
       "    </tr>\n",
       "  </thead>\n",
       "  <tbody>\n",
       "    <tr>\n",
       "      <th>0</th>\n",
       "      <td>7.080795</td>\n",
       "      <td>204.890456</td>\n",
       "      <td>20791.31898</td>\n",
       "      <td>7.300212</td>\n",
       "      <td>368.516441</td>\n",
       "      <td>564.308654</td>\n",
       "      <td>10.379783</td>\n",
       "      <td>86.990970</td>\n",
       "      <td>2.963135</td>\n",
       "      <td>0</td>\n",
       "    </tr>\n",
       "    <tr>\n",
       "      <th>1</th>\n",
       "      <td>3.716080</td>\n",
       "      <td>129.422921</td>\n",
       "      <td>18630.05786</td>\n",
       "      <td>6.635246</td>\n",
       "      <td>333.775777</td>\n",
       "      <td>592.885359</td>\n",
       "      <td>15.180013</td>\n",
       "      <td>56.329076</td>\n",
       "      <td>4.500656</td>\n",
       "      <td>0</td>\n",
       "    </tr>\n",
       "    <tr>\n",
       "      <th>2</th>\n",
       "      <td>8.099124</td>\n",
       "      <td>224.236259</td>\n",
       "      <td>19909.54173</td>\n",
       "      <td>9.275884</td>\n",
       "      <td>333.775777</td>\n",
       "      <td>418.606213</td>\n",
       "      <td>16.868637</td>\n",
       "      <td>66.420093</td>\n",
       "      <td>3.055934</td>\n",
       "      <td>0</td>\n",
       "    </tr>\n",
       "    <tr>\n",
       "      <th>3</th>\n",
       "      <td>8.316766</td>\n",
       "      <td>214.373394</td>\n",
       "      <td>22018.41744</td>\n",
       "      <td>8.059332</td>\n",
       "      <td>356.886136</td>\n",
       "      <td>363.266516</td>\n",
       "      <td>18.436525</td>\n",
       "      <td>100.341674</td>\n",
       "      <td>4.628771</td>\n",
       "      <td>0</td>\n",
       "    </tr>\n",
       "    <tr>\n",
       "      <th>4</th>\n",
       "      <td>9.092223</td>\n",
       "      <td>181.101509</td>\n",
       "      <td>17978.98634</td>\n",
       "      <td>6.546600</td>\n",
       "      <td>310.135738</td>\n",
       "      <td>398.410813</td>\n",
       "      <td>11.558279</td>\n",
       "      <td>31.997993</td>\n",
       "      <td>4.075075</td>\n",
       "      <td>0</td>\n",
       "    </tr>\n",
       "  </tbody>\n",
       "</table>\n",
       "</div>"
      ],
      "text/plain": [
       "         ph    Hardness       Solids  Chloramines     Sulfate  Conductivity  \\\n",
       "0  7.080795  204.890456  20791.31898     7.300212  368.516441    564.308654   \n",
       "1  3.716080  129.422921  18630.05786     6.635246  333.775777    592.885359   \n",
       "2  8.099124  224.236259  19909.54173     9.275884  333.775777    418.606213   \n",
       "3  8.316766  214.373394  22018.41744     8.059332  356.886136    363.266516   \n",
       "4  9.092223  181.101509  17978.98634     6.546600  310.135738    398.410813   \n",
       "\n",
       "   Organic_carbon  Trihalomethanes  Turbidity  Potability  \n",
       "0       10.379783        86.990970   2.963135           0  \n",
       "1       15.180013        56.329076   4.500656           0  \n",
       "2       16.868637        66.420093   3.055934           0  \n",
       "3       18.436525       100.341674   4.628771           0  \n",
       "4       11.558279        31.997993   4.075075           0  "
      ]
     },
     "execution_count": 2,
     "metadata": {},
     "output_type": "execute_result"
    }
   ],
   "source": [
    "df = pd.read_csv('../data/drinking_water_potability.csv')\n",
    "df.head()"
   ]
  },
  {
   "cell_type": "code",
   "execution_count": 3,
   "metadata": {},
   "outputs": [],
   "source": [
    "# List of columns to extract from the DataFrame\n",
    "columns_to_extract = ['ph', 'Hardness', 'Solids', 'Chloramines', 'Sulfate', 'Conductivity',\n",
    "                      'Organic_carbon', 'Trihalomethanes', 'Turbidity']\n",
    "\n",
    "# Extract the 'Potability' column as train labels\n",
    "train_labels = df['Potability']\n"
   ]
  },
  {
   "cell_type": "code",
   "execution_count": 4,
   "metadata": {},
   "outputs": [
    {
     "data": {
      "text/html": [
       "<div>\n",
       "<style scoped>\n",
       "    .dataframe tbody tr th:only-of-type {\n",
       "        vertical-align: middle;\n",
       "    }\n",
       "\n",
       "    .dataframe tbody tr th {\n",
       "        vertical-align: top;\n",
       "    }\n",
       "\n",
       "    .dataframe thead th {\n",
       "        text-align: right;\n",
       "    }\n",
       "</style>\n",
       "<table border=\"1\" class=\"dataframe\">\n",
       "  <thead>\n",
       "    <tr style=\"text-align: right;\">\n",
       "      <th></th>\n",
       "      <th>ph</th>\n",
       "      <th>Hardness</th>\n",
       "      <th>Solids</th>\n",
       "      <th>Chloramines</th>\n",
       "      <th>Sulfate</th>\n",
       "      <th>Conductivity</th>\n",
       "      <th>Organic_carbon</th>\n",
       "      <th>Trihalomethanes</th>\n",
       "      <th>Turbidity</th>\n",
       "    </tr>\n",
       "  </thead>\n",
       "  <tbody>\n",
       "    <tr>\n",
       "      <th>0</th>\n",
       "      <td>7.080795</td>\n",
       "      <td>204.890456</td>\n",
       "      <td>20791.31898</td>\n",
       "      <td>7.300212</td>\n",
       "      <td>368.516441</td>\n",
       "      <td>564.308654</td>\n",
       "      <td>10.379783</td>\n",
       "      <td>86.990970</td>\n",
       "      <td>2.963135</td>\n",
       "    </tr>\n",
       "    <tr>\n",
       "      <th>1</th>\n",
       "      <td>3.716080</td>\n",
       "      <td>129.422921</td>\n",
       "      <td>18630.05786</td>\n",
       "      <td>6.635246</td>\n",
       "      <td>333.775777</td>\n",
       "      <td>592.885359</td>\n",
       "      <td>15.180013</td>\n",
       "      <td>56.329076</td>\n",
       "      <td>4.500656</td>\n",
       "    </tr>\n",
       "    <tr>\n",
       "      <th>2</th>\n",
       "      <td>8.099124</td>\n",
       "      <td>224.236259</td>\n",
       "      <td>19909.54173</td>\n",
       "      <td>9.275884</td>\n",
       "      <td>333.775777</td>\n",
       "      <td>418.606213</td>\n",
       "      <td>16.868637</td>\n",
       "      <td>66.420093</td>\n",
       "      <td>3.055934</td>\n",
       "    </tr>\n",
       "    <tr>\n",
       "      <th>3</th>\n",
       "      <td>8.316766</td>\n",
       "      <td>214.373394</td>\n",
       "      <td>22018.41744</td>\n",
       "      <td>8.059332</td>\n",
       "      <td>356.886136</td>\n",
       "      <td>363.266516</td>\n",
       "      <td>18.436525</td>\n",
       "      <td>100.341674</td>\n",
       "      <td>4.628771</td>\n",
       "    </tr>\n",
       "    <tr>\n",
       "      <th>4</th>\n",
       "      <td>9.092223</td>\n",
       "      <td>181.101509</td>\n",
       "      <td>17978.98634</td>\n",
       "      <td>6.546600</td>\n",
       "      <td>310.135738</td>\n",
       "      <td>398.410813</td>\n",
       "      <td>11.558279</td>\n",
       "      <td>31.997993</td>\n",
       "      <td>4.075075</td>\n",
       "    </tr>\n",
       "  </tbody>\n",
       "</table>\n",
       "</div>"
      ],
      "text/plain": [
       "         ph    Hardness       Solids  Chloramines     Sulfate  Conductivity  \\\n",
       "0  7.080795  204.890456  20791.31898     7.300212  368.516441    564.308654   \n",
       "1  3.716080  129.422921  18630.05786     6.635246  333.775777    592.885359   \n",
       "2  8.099124  224.236259  19909.54173     9.275884  333.775777    418.606213   \n",
       "3  8.316766  214.373394  22018.41744     8.059332  356.886136    363.266516   \n",
       "4  9.092223  181.101509  17978.98634     6.546600  310.135738    398.410813   \n",
       "\n",
       "   Organic_carbon  Trihalomethanes  Turbidity  \n",
       "0       10.379783        86.990970   2.963135  \n",
       "1       15.180013        56.329076   4.500656  \n",
       "2       16.868637        66.420093   3.055934  \n",
       "3       18.436525       100.341674   4.628771  \n",
       "4       11.558279        31.997993   4.075075  "
      ]
     },
     "execution_count": 4,
     "metadata": {},
     "output_type": "execute_result"
    }
   ],
   "source": [
    "# Extract the specified columns from the DataFrame as train features\n",
    "train_features = df[columns_to_extract]\n",
    "\n",
    "# Display the first few rows of the train features DataFrame\n",
    "train_features.head()\n"
   ]
  },
  {
   "cell_type": "code",
   "execution_count": 5,
   "metadata": {},
   "outputs": [],
   "source": [
    "from sklearn.model_selection import train_test_split\n",
    "\n",
    "# Split the dataset into training and testing sets\n",
    "# X_train: Features for training, X_test: Features for testing\n",
    "# y_train: Labels for training, y_test: Labels for testing\n",
    "# test_size=0.3: 30% of the data will be used for testing, random_state=2: Random seed for reproducibility\n",
    "X_train, X_test, y_train, y_test = train_test_split(train_features, train_labels, test_size=0.3, random_state=2)"
   ]
  },
  {
   "cell_type": "code",
   "execution_count": 6,
   "metadata": {},
   "outputs": [],
   "source": [
    "from sklearn.ensemble import RandomForestClassifier"
   ]
  },
  {
   "cell_type": "code",
   "execution_count": 7,
   "metadata": {},
   "outputs": [
    {
     "data": {
      "image/png": "[encoded data removed]",
      "text/plain": [
       "<Figure size 640x480 with 1 Axes>"
      ]
     },
     "metadata": {},
     "output_type": "display_data"
    },
    {
     "name": "stdout",
     "output_type": "stream",
     "text": [
      "(2293, 9) (983, 9) (2293,) (983,)\n"
     ]
    }
   ],
   "source": [
    "from sklearn.ensemble import RandomForestClassifier\n",
    "\n",
    "# Initialize the Random Forest classifier with 1000 estimators and a random state of 2\n",
    "rf = RandomForestClassifier(n_estimators=1000, random_state=2)\n",
    "\n",
    "# Train the Random Forest classifier on the training data\n",
    "rf.fit(X_train, y_train)\n",
    "\n",
    "# Extract feature importances and standard deviations\n",
    "importances = rf.feature_importances_\n",
    "std = np.std([tree.feature_importances_ for tree in rf.estimators_], axis=0)\n",
    "\n",
    "# Create a DataFrame to store feature importances and standard deviations\n",
    "df_balanced = pd.DataFrame({'feature': X_train.columns, 'importance': importances, 'std': std})\n",
    "\n",
    "# Sort the DataFrame by importance\n",
    "df_balanced = df_balanced.sort_values('importance')\n",
    "\n",
    "# Select features with importance greater than or equal to 0.05\n",
    "select_features = df_balanced[df_balanced.importance >= 0.05].feature\n",
    "\n",
    "# Plot feature importances\n",
    "ax = df_balanced.plot(kind='barh', xerr='std', x='feature', legend=False)\n",
    "ax.set_ylabel('')\n",
    "plt.tight_layout()\n",
    "plt.show()\n",
    "\n",
    "# Print the shapes of the training and testing data\n",
    "print(X_train.shape, X_test.shape, y_train.shape, y_test.shape)\n"
   ]
  },
  {
   "cell_type": "code",
   "execution_count": 8,
   "metadata": {},
   "outputs": [],
   "source": [
    "from sklearn.model_selection import train_test_split\n",
    "from sklearn.preprocessing import StandardScaler"
   ]
  },
  {
   "cell_type": "code",
   "execution_count": 9,
   "metadata": {},
   "outputs": [],
   "source": [
    "# Initialize StandardScaler for feature normalization\n",
    "scaler = StandardScaler()\n",
    "\n",
    "# Fit and transform the training features\n",
    "X_train_scaled = scaler.fit_transform(X_train)\n",
    "\n",
    "# Transform the testing features using the same scaler fitted on training data\n",
    "X_test_scaled = scaler.transform(X_test)\n"
   ]
  },
  {
   "cell_type": "code",
   "execution_count": 10,
   "metadata": {},
   "outputs": [],
   "source": [
    "# Define the neural network model\n",
    "model = tf.keras.Sequential([\n",
    "    # Input layer with shape equal to the number of features\n",
    "    tf.keras.layers.Input(shape=(X_train.shape[1],)),\n",
    "    \n",
    "    # First hidden layer with 64 units and ReLU activation function\n",
    "    tf.keras.layers.Dense(64, activation='relu'),\n",
    "    \n",
    "    # Second hidden layer with 128 units and ReLU activation function\n",
    "    tf.keras.layers.Dense(128, activation='relu'),\n",
    "    \n",
    "    # Output layer with 1 unit and sigmoid activation function for binary classification\n",
    "    tf.keras.layers.Dense(1, activation='sigmoid')\n",
    "])\n"
   ]
  },
  {
   "cell_type": "code",
   "execution_count": 11,
   "metadata": {},
   "outputs": [],
   "source": [
    "model.compile(\n",
    "    optimizer='adagrad',  # Optimizer: Adagrad\n",
    "    loss=tf.keras.losses.binary_crossentropy,  # Loss function: Binary crossentropy\n",
    "    metrics=['accuracy']  # Evaluation metric: Accuracy\n",
    ")\n"
   ]
  },
  {
   "cell_type": "code",
   "execution_count": 14,
   "metadata": {},
   "outputs": [
    {
     "name": "stdout",
     "output_type": "stream",
     "text": [
      "Epoch 1/30\n",
      "72/72 [==============================] - 1s 10ms/step - loss: 0.6676 - accuracy: 0.6145 - val_loss: 0.6725 - val_accuracy: 0.6134\n",
      "Epoch 2/30\n",
      "72/72 [==============================] - 0s 3ms/step - loss: 0.6667 - accuracy: 0.6154 - val_loss: 0.6717 - val_accuracy: 0.6144\n",
      "Epoch 3/30\n",
      "72/72 [==============================] - 0s 3ms/step - loss: 0.6659 - accuracy: 0.6180 - val_loss: 0.6709 - val_accuracy: 0.6165\n",
      "Epoch 4/30\n",
      "72/72 [==============================] - 0s 2ms/step - loss: 0.6652 - accuracy: 0.6188 - val_loss: 0.6702 - val_accuracy: 0.6175\n",
      "Epoch 5/30\n",
      "72/72 [==============================] - 0s 3ms/step - loss: 0.6645 - accuracy: 0.6197 - val_loss: 0.6695 - val_accuracy: 0.6185\n",
      "Epoch 6/30\n",
      "72/72 [==============================] - 0s 2ms/step - loss: 0.6638 - accuracy: 0.6197 - val_loss: 0.6689 - val_accuracy: 0.6175\n",
      "Epoch 7/30\n",
      "72/72 [==============================] - 0s 2ms/step - loss: 0.6631 - accuracy: 0.6206 - val_loss: 0.6682 - val_accuracy: 0.6175\n",
      "Epoch 8/30\n",
      "72/72 [==============================] - 0s 2ms/step - loss: 0.6625 - accuracy: 0.6210 - val_loss: 0.6676 - val_accuracy: 0.6175\n",
      "Epoch 9/30\n",
      "72/72 [==============================] - 0s 3ms/step - loss: 0.6619 - accuracy: 0.6215 - val_loss: 0.6670 - val_accuracy: 0.6175\n",
      "Epoch 10/30\n",
      "72/72 [==============================] - 1s 8ms/step - loss: 0.6613 - accuracy: 0.6215 - val_loss: 0.6664 - val_accuracy: 0.6185\n",
      "Epoch 11/30\n",
      "72/72 [==============================] - 0s 3ms/step - loss: 0.6607 - accuracy: 0.6215 - val_loss: 0.6658 - val_accuracy: 0.6185\n",
      "Epoch 12/30\n",
      "72/72 [==============================] - 0s 3ms/step - loss: 0.6602 - accuracy: 0.6215 - val_loss: 0.6653 - val_accuracy: 0.6185\n",
      "Epoch 13/30\n",
      "72/72 [==============================] - 0s 3ms/step - loss: 0.6596 - accuracy: 0.6215 - val_loss: 0.6647 - val_accuracy: 0.6185\n",
      "Epoch 14/30\n",
      "72/72 [==============================] - 0s 3ms/step - loss: 0.6591 - accuracy: 0.6219 - val_loss: 0.6642 - val_accuracy: 0.6195\n",
      "Epoch 15/30\n",
      "72/72 [==============================] - 0s 2ms/step - loss: 0.6585 - accuracy: 0.6223 - val_loss: 0.6637 - val_accuracy: 0.6185\n",
      "Epoch 16/30\n",
      "72/72 [==============================] - 0s 3ms/step - loss: 0.6580 - accuracy: 0.6241 - val_loss: 0.6631 - val_accuracy: 0.6185\n",
      "Epoch 17/30\n",
      "72/72 [==============================] - 0s 3ms/step - loss: 0.6575 - accuracy: 0.6241 - val_loss: 0.6626 - val_accuracy: 0.6216\n",
      "Epoch 18/30\n",
      "72/72 [==============================] - 0s 3ms/step - loss: 0.6570 - accuracy: 0.6245 - val_loss: 0.6621 - val_accuracy: 0.6216\n",
      "Epoch 19/30\n",
      "72/72 [==============================] - 0s 3ms/step - loss: 0.6565 - accuracy: 0.6254 - val_loss: 0.6616 - val_accuracy: 0.6216\n",
      "Epoch 20/30\n",
      "72/72 [==============================] - 0s 5ms/step - loss: 0.6561 - accuracy: 0.6249 - val_loss: 0.6611 - val_accuracy: 0.6216\n",
      "Epoch 21/30\n",
      "72/72 [==============================] - 0s 4ms/step - loss: 0.6556 - accuracy: 0.6249 - val_loss: 0.6607 - val_accuracy: 0.6205\n",
      "Epoch 22/30\n",
      "72/72 [==============================] - 0s 3ms/step - loss: 0.6551 - accuracy: 0.6249 - val_loss: 0.6602 - val_accuracy: 0.6216\n",
      "Epoch 23/30\n",
      "72/72 [==============================] - 0s 3ms/step - loss: 0.6547 - accuracy: 0.6267 - val_loss: 0.6597 - val_accuracy: 0.6216\n",
      "Epoch 24/30\n",
      "72/72 [==============================] - 0s 3ms/step - loss: 0.6542 - accuracy: 0.6271 - val_loss: 0.6593 - val_accuracy: 0.6216\n",
      "Epoch 25/30\n",
      "72/72 [==============================] - 0s 2ms/step - loss: 0.6538 - accuracy: 0.6276 - val_loss: 0.6588 - val_accuracy: 0.6216\n",
      "Epoch 26/30\n",
      "72/72 [==============================] - 0s 2ms/step - loss: 0.6534 - accuracy: 0.6280 - val_loss: 0.6584 - val_accuracy: 0.6216\n",
      "Epoch 27/30\n",
      "72/72 [==============================] - 0s 4ms/step - loss: 0.6529 - accuracy: 0.6284 - val_loss: 0.6579 - val_accuracy: 0.6226\n",
      "Epoch 28/30\n",
      "72/72 [==============================] - 0s 3ms/step - loss: 0.6525 - accuracy: 0.6289 - val_loss: 0.6575 - val_accuracy: 0.6236\n",
      "Epoch 29/30\n",
      "72/72 [==============================] - 0s 3ms/step - loss: 0.6521 - accuracy: 0.6289 - val_loss: 0.6571 - val_accuracy: 0.6236\n",
      "Epoch 30/30\n",
      "72/72 [==============================] - 0s 4ms/step - loss: 0.6516 - accuracy: 0.6289 - val_loss: 0.6566 - val_accuracy: 0.6226\n"
     ]
    }
   ],
   "source": [
    "# Train the model on the scaled training data\n",
    "# Validate on the scaled testing data\n",
    "# Epochs: 10, Batch size: 32\n",
    "y_pred = model.fit(X_train_scaled, y_train, validation_data=(X_test_scaled, y_test), epochs=30, batch_size=32)"
   ]
  },
  {
   "cell_type": "code",
   "execution_count": 15,
   "metadata": {},
   "outputs": [
    {
     "name": "stdout",
     "output_type": "stream",
     "text": [
      "31/31 [==============================] - 0s 5ms/step\n",
      "              precision    recall  f1-score   support\n",
      "\n",
      "           0       0.62      0.98      0.76       599\n",
      "           1       0.68      0.07      0.12       384\n",
      "\n",
      "    accuracy                           0.62       983\n",
      "   macro avg       0.65      0.52      0.44       983\n",
      "weighted avg       0.64      0.62      0.51       983\n",
      "\n"
     ]
    }
   ],
   "source": [
    "# Predict probabilities for the testing data\n",
    "y_pred_probabilities = model.predict(X_test_scaled)\n",
    "\n",
    "# Convert probabilities to class predictions (0 or 1)\n",
    "y_pred_classes = (y_pred_probabilities > 0.5).astype(int)\n",
    "\n",
    "# Generate classification report\n",
    "classification_rep = classification_report(y_test, y_pred_classes)\n",
    "\n",
    "# Print the classification report\n",
    "print(classification_rep)\n"
   ]
  },
  {
   "cell_type": "code",
   "execution_count": 19,
   "metadata": {},
   "outputs": [],
   "source": [
    "# Extract training and validation accuracy\n",
    "train_acc = y_pred.history['accuracy']\n",
    "val_acc = y_pred.history['val_accuracy']\n",
    "\n",
    "# Extract training and validation loss\n",
    "train_loss = y_pred.history['loss']\n",
    "val_loss = y_pred.history['val_loss']\n"
   ]
  },
  {
   "cell_type": "code",
   "execution_count": 20,
   "metadata": {},
   "outputs": [
    {
     "data": {
      "image/png": "[encoded data removed]",
      "text/plain": [
       "<Figure size 640x480 with 1 Axes>"
      ]
     },
     "metadata": {},
     "output_type": "display_data"
    },
    {
     "data": {
      "image/png": "[encoded data removed]",
      "text/plain": [
       "<Figure size 640x480 with 1 Axes>"
      ]
     },
     "metadata": {},
     "output_type": "display_data"
    }
   ],
   "source": [
    "plt.plot(train_acc, label='Training Accuracy')\n",
    "plt.plot(val_acc, label='Validation Accuracy')\n",
    "plt.xlabel('Epoch')\n",
    "plt.ylabel('Accuracy')\n",
    "plt.legend()\n",
    "plt.title('Training and Validation Accuracy')\n",
    "plt.show()\n",
    "\n",
    "plt.plot(train_loss, label='Training Loss')\n",
    "plt.plot(val_loss, label='Validation Loss')\n",
    "plt.xlabel('Epoch')\n",
    "plt.ylabel('Loss')\n",
    "plt.legend()\n",
    "plt.title('Training and Validation Loss')\n",
    "plt.show()"
   ]
  },
  {
   "cell_type": "code",
   "execution_count": 21,
   "metadata": {},
   "outputs": [],
   "source": [
    "# Regularization\n",
    "def create_regularized_model(learning_rate=0.01, dropout_rate=0.2, l2_reg=0.01):\n",
    "    model = Sequential([\n",
    "        Input(shape=(X_train.shape[1],)),\n",
    "        Dense(64, activation='relu', kernel_regularizer=tf.keras.regularizers.l2(l2_reg)),\n",
    "        Dropout(dropout_rate),\n",
    "        Dense(128, activation='relu', kernel_regularizer=tf.keras.regularizers.l2(l2_reg)),\n",
    "        Dropout(dropout_rate),\n",
    "        Dense(1, activation='sigmoid')\n",
    "    ])\n",
    "    model.compile(optimizer=tf.keras.optimizers.Adagrad(learning_rate=learning_rate),\n",
    "                  loss='binary_crossentropy',\n",
    "                  metrics=['accuracy'])\n",
    "    return model"
   ]
  },
  {
   "cell_type": "code",
   "execution_count": 22,
   "metadata": {},
   "outputs": [],
   "source": [
    "# Hyperparameter optimization\n",
    "param_grid = {\n",
    "    'learning_rate': [0.001, 0.01, 0.1],\n",
    "    'dropout_rate': [0.1, 0.2, 0.3],\n",
    "    'l2_reg': [0.001, 0.01, 0.1]\n",
    "}"
   ]
  },
  {
   "cell_type": "code",
   "execution_count": 25,
   "metadata": {},
   "outputs": [
    {
     "name": "stderr",
     "output_type": "stream",
     "text": [
      "C:\\Users\\nesto\\AppData\\Local\\Temp\\ipykernel_7768\\815954846.py:1: DeprecationWarning: KerasClassifier is deprecated, use Sci-Keras (https://github.com/adriangb/scikeras) instead. See https://www.adriangb.com/scikeras/stable/migration.html for help migrating.\n",
      "  model = KerasClassifier(build_fn=create_regularized_model, epochs=10, batch_size=32, verbose=0)\n"
     ]
    }
   ],
   "source": [
    "model = KerasClassifier(build_fn=create_regularized_model, epochs=10, batch_size=32, verbose=0)\n",
    "grid = GridSearchCV(estimator=model, param_grid=param_grid, cv=3)\n",
    "grid_result = grid.fit(X_train_scaled, y_train)\n"
   ]
  },
  {
   "cell_type": "code",
   "execution_count": 26,
   "metadata": {},
   "outputs": [
    {
     "name": "stdout",
     "output_type": "stream",
     "text": [
      "Best: 0.663756 using {'dropout_rate': 0.3, 'l2_reg': 0.001, 'learning_rate': 0.1}\n"
     ]
    }
   ],
   "source": [
    "print(\"Best: %f using %s\" % (grid_result.best_score_, grid_result.best_params_))"
   ]
  },
  {
   "cell_type": "code",
   "execution_count": 27,
   "metadata": {},
   "outputs": [
    {
     "data": {
      "text/html": [
       "<style>#sk-container-id-1 {color: black;}#sk-container-id-1 pre{padding: 0;}#sk-container-id-1 div.sk-toggleable {background-color: white;}#sk-container-id-1 label.sk-toggleable__label {cursor: pointer;display: block;width: 100%;margin-bottom: 0;padding: 0.3em;box-sizing: border-box;text-align: center;}#sk-container-id-1 label.sk-toggleable__label-arrow:before {content: \"▸\";float: left;margin-right: 0.25em;color: #696969;}#sk-container-id-1 label.sk-toggleable__label-arrow:hover:before {color: black;}#sk-container-id-1 div.sk-estimator:hover label.sk-toggleable__label-arrow:before {color: black;}#sk-container-id-1 div.sk-toggleable__content {max-height: 0;max-width: 0;overflow: hidden;text-align: left;background-color: #f0f8ff;}#sk-container-id-1 div.sk-toggleable__content pre {margin: 0.2em;color: black;border-radius: 0.25em;background-color: #f0f8ff;}#sk-container-id-1 input.sk-toggleable__control:checked~div.sk-toggleable__content {max-height: 200px;max-width: 100%;overflow: auto;}#sk-container-id-1 input.sk-toggleable__control:checked~label.sk-toggleable__label-arrow:before {content: \"▾\";}#sk-container-id-1 div.sk-estimator input.sk-toggleable__control:checked~label.sk-toggleable__label {background-color: #d4ebff;}#sk-container-id-1 div.sk-label input.sk-toggleable__control:checked~label.sk-toggleable__label {background-color: #d4ebff;}#sk-container-id-1 input.sk-hidden--visually {border: 0;clip: rect(1px 1px 1px 1px);clip: rect(1px, 1px, 1px, 1px);height: 1px;margin: -1px;overflow: hidden;padding: 0;position: absolute;width: 1px;}#sk-container-id-1 div.sk-estimator {font-family: monospace;background-color: #f0f8ff;border: 1px dotted black;border-radius: 0.25em;box-sizing: border-box;margin-bottom: 0.5em;}#sk-container-id-1 div.sk-estimator:hover {background-color: #d4ebff;}#sk-container-id-1 div.sk-parallel-item::after {content: \"\";width: 100%;border-bottom: 1px solid gray;flex-grow: 1;}#sk-container-id-1 div.sk-label:hover label.sk-toggleable__label {background-color: #d4ebff;}#sk-container-id-1 div.sk-serial::before {content: \"\";position: absolute;border-left: 1px solid gray;box-sizing: border-box;top: 0;bottom: 0;left: 50%;z-index: 0;}#sk-container-id-1 div.sk-serial {display: flex;flex-direction: column;align-items: center;background-color: white;padding-right: 0.2em;padding-left: 0.2em;position: relative;}#sk-container-id-1 div.sk-item {position: relative;z-index: 1;}#sk-container-id-1 div.sk-parallel {display: flex;align-items: stretch;justify-content: center;background-color: white;position: relative;}#sk-container-id-1 div.sk-item::before, #sk-container-id-1 div.sk-parallel-item::before {content: \"\";position: absolute;border-left: 1px solid gray;box-sizing: border-box;top: 0;bottom: 0;left: 50%;z-index: -1;}#sk-container-id-1 div.sk-parallel-item {display: flex;flex-direction: column;z-index: 1;position: relative;background-color: white;}#sk-container-id-1 div.sk-parallel-item:first-child::after {align-self: flex-end;width: 50%;}#sk-container-id-1 div.sk-parallel-item:last-child::after {align-self: flex-start;width: 50%;}#sk-container-id-1 div.sk-parallel-item:only-child::after {width: 0;}#sk-container-id-1 div.sk-dashed-wrapped {border: 1px dashed gray;margin: 0 0.4em 0.5em 0.4em;box-sizing: border-box;padding-bottom: 0.4em;background-color: white;}#sk-container-id-1 div.sk-label label {font-family: monospace;font-weight: bold;display: inline-block;line-height: 1.2em;}#sk-container-id-1 div.sk-label-container {text-align: center;}#sk-container-id-1 div.sk-container {/* jupyter's `normalize.less` sets `[hidden] { display: none; }` but bootstrap.min.css set `[hidden] { display: none !important; }` so we also need the `!important` here to be able to override the default hidden behavior on the sphinx rendered scikit-learn.org. See: https://github.com/scikit-learn/scikit-learn/issues/21755 */display: inline-block !important;position: relative;}#sk-container-id-1 div.sk-text-repr-fallback {display: none;}</style><div id=\"sk-container-id-1\" class=\"sk-top-container\"><div class=\"sk-text-repr-fallback\"><pre>RandomForestClassifier(n_estimators=1000, random_state=2)</pre><b>In a Jupyter environment, please rerun this cell to show the HTML representation or trust the notebook. <br />On GitHub, the HTML representation is unable to render, please try loading this page with nbviewer.org.</b></div><div class=\"sk-container\" hidden><div class=\"sk-item\"><div class=\"sk-estimator sk-toggleable\"><input class=\"sk-toggleable__control sk-hidden--visually\" id=\"sk-estimator-id-1\" type=\"checkbox\" checked><label for=\"sk-estimator-id-1\" class=\"sk-toggleable__label sk-toggleable__label-arrow\">RandomForestClassifier</label><div class=\"sk-toggleable__content\"><pre>RandomForestClassifier(n_estimators=1000, random_state=2)</pre></div></div></div></div></div>"
      ],
      "text/plain": [
       "RandomForestClassifier(n_estimators=1000, random_state=2)"
      ]
     },
     "execution_count": 27,
     "metadata": {},
     "output_type": "execute_result"
    }
   ],
   "source": [
    "# Ensemble Learning\n",
    "rf_model = RandomForestClassifier(n_estimators=1000, random_state=2)\n",
    "rf_model.fit(X_train_scaled, y_train)"
   ]
  },
  {
   "cell_type": "code",
   "execution_count": 28,
   "metadata": {},
   "outputs": [
    {
     "name": "stdout",
     "output_type": "stream",
     "text": [
      "Cross-validation scores: [0.6688453  0.67320263 0.69063181 0.67248911 0.67248911]\n"
     ]
    }
   ],
   "source": [
    "# Cross validation\n",
    "cv_scores = cross_val_score(grid.best_estimator_, X_train_scaled, y_train, cv=5)\n",
    "print(\"Cross-validation scores:\", cv_scores)"
   ]
  },
  {
   "cell_type": "code",
   "execution_count": 29,
   "metadata": {},
   "outputs": [
    {
     "name": "stdout",
     "output_type": "stream",
     "text": [
      "31/31 [==============================] - 0s 3ms/step\n",
      "Classification Report:\n",
      "               precision    recall  f1-score   support\n",
      "\n",
      "           0       0.69      0.88      0.77       599\n",
      "           1       0.67      0.38      0.48       384\n",
      "\n",
      "    accuracy                           0.68       983\n",
      "   macro avg       0.68      0.63      0.63       983\n",
      "weighted avg       0.68      0.68      0.66       983\n",
      "\n"
     ]
    }
   ],
   "source": [
    "# Error analysis\n",
    "y_pred = grid.best_estimator_.predict(X_test_scaled)\n",
    "classification_rep = classification_report(y_test, y_pred)\n",
    "print(\"Classification Report:\\n\", classification_rep)"
   ]
  }
 ],
 "metadata": {
  "kernelspec": {
   "display_name": "deep_learning",
   "language": "python",
   "name": "python3"
  },
  "language_info": {
   "codemirror_mode": {
    "name": "ipython",
    "version": 3
   },
   "file_extension": ".py",
   "mimetype": "text/x-python",
   "name": "python",
   "nbconvert_exporter": "python",
   "pygments_lexer": "ipython3",
   "version": "3.10.13"
  }
 },
 "nbformat": 4,
 "nbformat_minor": 2
}
