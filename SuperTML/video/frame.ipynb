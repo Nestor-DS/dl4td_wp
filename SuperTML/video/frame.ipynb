{
 "cells": [
  {
   "cell_type": "code",
   "execution_count": 1,
   "metadata": {},
   "outputs": [],
   "source": [
    "import cv2\n",
    "import os"
   ]
  },
  {
   "cell_type": "code",
   "execution_count": 9,
   "metadata": {},
   "outputs": [],
   "source": [
    "# Directorio donde se encuentran las imágenes\n",
    "directory = '../images_saved'"
   ]
  },
  {
   "cell_type": "code",
   "execution_count": 11,
   "metadata": {},
   "outputs": [],
   "source": [
    "# Definir el nombre del archivo de salida del video\n",
    "output_video = 'video_salida.avi'\n"
   ]
  },
  {
   "cell_type": "code",
   "execution_count": 12,
   "metadata": {},
   "outputs": [],
   "source": [
    "# Lista de nombres de archivos de imágenes en el directorio\n",
    "file_list = sorted(os.listdir(directory))"
   ]
  },
  {
   "cell_type": "code",
   "execution_count": 13,
   "metadata": {},
   "outputs": [],
   "source": [
    "# Parámetros del video\n",
    "fps = 10  # Cuadros por segundo\n",
    "frame_size = (640, 480)  # Tamaño del cuadro (ancho, alto)\n",
    "\n",
    "# Inicializar el objeto VideoWriter de OpenCV\n",
    "video_writer = cv2.VideoWriter(output_video, cv2.VideoWriter_fourcc(*'MJPG'), fps, frame_size)"
   ]
  },
  {
   "cell_type": "code",
   "execution_count": 14,
   "metadata": {},
   "outputs": [],
   "source": [
    "# Iterar sobre los nombres de archivo de las imágenes\n",
    "for filename in file_list:\n",
    "    # Leer la imagen\n",
    "    img = cv2.imread(os.path.join(directory, filename))\n",
    "    # Añadir la imagen al video\n",
    "    video_writer.write(img)\n"
   ]
  },
  {
   "cell_type": "code",
   "execution_count": 15,
   "metadata": {},
   "outputs": [
    {
     "name": "stdout",
     "output_type": "stream",
     "text": [
      "El video se ha guardado como 'video_salida.avi'\n"
     ]
    }
   ],
   "source": [
    "# Liberar el objeto VideoWriter\n",
    "video_writer.release()\n",
    "\n",
    "print(f\"El video se ha guardado como '{output_video}'\")\n"
   ]
  }
 ],
 "metadata": {
  "kernelspec": {
   "display_name": "deep_learning",
   "language": "python",
   "name": "python3"
  },
  "language_info": {
   "codemirror_mode": {
    "name": "ipython",
    "version": 3
   },
   "file_extension": ".py",
   "mimetype": "text/x-python",
   "name": "python",
   "nbconvert_exporter": "python",
   "pygments_lexer": "ipython3",
   "version": "3.10.13"
  }
 },
 "nbformat": 4,
 "nbformat_minor": 2
}
