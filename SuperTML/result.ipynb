{
 "cells": [
  {
   "attachments": {},
   "cell_type": "markdown",
   "metadata": {},
   "source": [
    "# Super TML\n",
    "---\n",
    "\n",
    "![image.png](./paper.png)"
   ]
  },
  {
   "cell_type": "markdown",
   "metadata": {},
   "source": [
    "## Imports & Settings"
   ]
  },
  {
   "cell_type": "code",
   "execution_count": 1,
   "metadata": {},
   "outputs": [],
   "source": [
    "import warnings\n",
    "import pandas as pd\n",
    "import numpy as np\n",
    "import matplotlib.pyplot as plt\n",
    "\n",
    "from sklearn.model_selection import train_test_split\n",
    "from sklearn.datasets import load_iris\n",
    "\n",
    "import torch\n",
    "import torch.nn as nn\n",
    "import torch.optim as optim\n",
    "from torch.utils.data import DataLoader, TensorDataset\n",
    "\n",
    "import sys"
   ]
  },
  {
   "cell_type": "code",
   "execution_count": 17,
   "metadata": {
    "scrolled": true
   },
   "outputs": [
    {
     "name": "stdout",
     "output_type": "stream",
     "text": [
      "The autoreload extension is already loaded. To reload it, use:\n",
      "  %reload_ext autoreload\n"
     ]
    }
   ],
   "source": [
    "from modules.data_preparation import data_to_image\n",
    "from modules.model import model_res\n",
    "from modules.train import train_model\n",
    "from modules.data_cleaning import clean_data\n",
    "from modules.basics import *\n",
    "\n",
    "torch.backends.cudnn.enabled = False\n",
    "device = torch.device('cuda' if torch.cuda.is_available() else 'cpu')\n",
    "\n",
    "%load_ext autoreload\n",
    "%autoreload 2\n",
    "%matplotlib inline\n",
    "warnings.filterwarnings(\"ignore\")\n",
    "%config InlineBackend.figure_format = 'retina'"
   ]
  },
  {
   "cell_type": "code",
   "execution_count": 13,
   "metadata": {},
   "outputs": [],
   "source": [
    "import warnings\n",
    "warnings.filterwarnings('ignore')"
   ]
  },
  {
   "cell_type": "markdown",
   "metadata": {},
   "source": [
    "## Data Preparation"
   ]
  },
  {
   "cell_type": "code",
   "execution_count": 16,
   "metadata": {},
   "outputs": [
    {
     "data": {
      "text/html": [
       "<div>\n",
       "<style scoped>\n",
       "    .dataframe tbody tr th:only-of-type {\n",
       "        vertical-align: middle;\n",
       "    }\n",
       "\n",
       "    .dataframe tbody tr th {\n",
       "        vertical-align: top;\n",
       "    }\n",
       "\n",
       "    .dataframe thead th {\n",
       "        text-align: right;\n",
       "    }\n",
       "</style>\n",
       "<table border=\"1\" class=\"dataframe\">\n",
       "  <thead>\n",
       "    <tr style=\"text-align: right;\">\n",
       "      <th></th>\n",
       "      <th>ph</th>\n",
       "      <th>Hardness</th>\n",
       "      <th>Solids</th>\n",
       "      <th>Chloramines</th>\n",
       "      <th>Sulfate</th>\n",
       "      <th>Conductivity</th>\n",
       "      <th>Organic_carbon</th>\n",
       "      <th>Trihalomethanes</th>\n",
       "      <th>Turbidity</th>\n",
       "      <th>Potability</th>\n",
       "    </tr>\n",
       "  </thead>\n",
       "  <tbody>\n",
       "    <tr>\n",
       "      <th>0</th>\n",
       "      <td>7.080795</td>\n",
       "      <td>204.890456</td>\n",
       "      <td>20791.31898</td>\n",
       "      <td>7.300212</td>\n",
       "      <td>368.516441</td>\n",
       "      <td>564.308654</td>\n",
       "      <td>10.379783</td>\n",
       "      <td>86.990970</td>\n",
       "      <td>2.963135</td>\n",
       "      <td>0</td>\n",
       "    </tr>\n",
       "    <tr>\n",
       "      <th>1</th>\n",
       "      <td>3.716080</td>\n",
       "      <td>129.422921</td>\n",
       "      <td>18630.05786</td>\n",
       "      <td>6.635246</td>\n",
       "      <td>333.775777</td>\n",
       "      <td>592.885359</td>\n",
       "      <td>15.180013</td>\n",
       "      <td>56.329076</td>\n",
       "      <td>4.500656</td>\n",
       "      <td>0</td>\n",
       "    </tr>\n",
       "    <tr>\n",
       "      <th>2</th>\n",
       "      <td>8.099124</td>\n",
       "      <td>224.236259</td>\n",
       "      <td>19909.54173</td>\n",
       "      <td>9.275884</td>\n",
       "      <td>333.775777</td>\n",
       "      <td>418.606213</td>\n",
       "      <td>16.868637</td>\n",
       "      <td>66.420093</td>\n",
       "      <td>3.055934</td>\n",
       "      <td>0</td>\n",
       "    </tr>\n",
       "    <tr>\n",
       "      <th>3</th>\n",
       "      <td>8.316766</td>\n",
       "      <td>214.373394</td>\n",
       "      <td>22018.41744</td>\n",
       "      <td>8.059332</td>\n",
       "      <td>356.886136</td>\n",
       "      <td>363.266516</td>\n",
       "      <td>18.436525</td>\n",
       "      <td>100.341674</td>\n",
       "      <td>4.628771</td>\n",
       "      <td>0</td>\n",
       "    </tr>\n",
       "    <tr>\n",
       "      <th>4</th>\n",
       "      <td>9.092223</td>\n",
       "      <td>181.101509</td>\n",
       "      <td>17978.98634</td>\n",
       "      <td>6.546600</td>\n",
       "      <td>310.135738</td>\n",
       "      <td>398.410813</td>\n",
       "      <td>11.558279</td>\n",
       "      <td>31.997993</td>\n",
       "      <td>4.075075</td>\n",
       "      <td>0</td>\n",
       "    </tr>\n",
       "  </tbody>\n",
       "</table>\n",
       "</div>"
      ],
      "text/plain": [
       "         ph    Hardness       Solids  ...  Trihalomethanes  Turbidity  Potability\n",
       "0  7.080795  204.890456  20791.31898  ...        86.990970   2.963135           0\n",
       "1  3.716080  129.422921  18630.05786  ...        56.329076   4.500656           0\n",
       "2  8.099124  224.236259  19909.54173  ...        66.420093   3.055934           0\n",
       "3  8.316766  214.373394  22018.41744  ...       100.341674   4.628771           0\n",
       "4  9.092223  181.101509  17978.98634  ...        31.997993   4.075075           0\n",
       "\n",
       "[5 rows x 10 columns]"
      ]
     },
     "execution_count": 16,
     "metadata": {},
     "output_type": "execute_result"
    }
   ],
   "source": [
    "df = pd.read_csv('../data/drinking_water_potability.csv')\n",
    "df.head(5)"
   ]
  },
  {
   "cell_type": "markdown",
   "metadata": {},
   "source": [
    "# Limpieza y normalización de datos"
   ]
  },
  {
   "cell_type": "code",
   "execution_count": 18,
   "metadata": {},
   "outputs": [
    {
     "data": {
      "text/html": [
       "<div>\n",
       "<style scoped>\n",
       "    .dataframe tbody tr th:only-of-type {\n",
       "        vertical-align: middle;\n",
       "    }\n",
       "\n",
       "    .dataframe tbody tr th {\n",
       "        vertical-align: top;\n",
       "    }\n",
       "\n",
       "    .dataframe thead th {\n",
       "        text-align: right;\n",
       "    }\n",
       "</style>\n",
       "<table border=\"1\" class=\"dataframe\">\n",
       "  <thead>\n",
       "    <tr style=\"text-align: right;\">\n",
       "      <th></th>\n",
       "      <th>ph</th>\n",
       "      <th>Hardness</th>\n",
       "      <th>Solids</th>\n",
       "      <th>Chloramines</th>\n",
       "      <th>Sulfate</th>\n",
       "      <th>Conductivity</th>\n",
       "      <th>Organic_carbon</th>\n",
       "      <th>Trihalomethanes</th>\n",
       "      <th>Turbidity</th>\n",
       "      <th>Potability</th>\n",
       "    </tr>\n",
       "  </thead>\n",
       "  <tbody>\n",
       "    <tr>\n",
       "      <th>0</th>\n",
       "      <td>0.449468</td>\n",
       "      <td>0.561018</td>\n",
       "      <td>0.357372</td>\n",
       "      <td>0.515171</td>\n",
       "      <td>0.625103</td>\n",
       "      <td>0.669439</td>\n",
       "      <td>0.251081</td>\n",
       "      <td>0.699753</td>\n",
       "      <td>0.286091</td>\n",
       "      <td>0.0</td>\n",
       "    </tr>\n",
       "    <tr>\n",
       "      <th>1</th>\n",
       "      <td>0.181752</td>\n",
       "      <td>0.238802</td>\n",
       "      <td>0.318874</td>\n",
       "      <td>0.451496</td>\n",
       "      <td>0.486485</td>\n",
       "      <td>0.719411</td>\n",
       "      <td>0.451691</td>\n",
       "      <td>0.450999</td>\n",
       "      <td>0.576793</td>\n",
       "      <td>0.0</td>\n",
       "    </tr>\n",
       "    <tr>\n",
       "      <th>2</th>\n",
       "      <td>0.530492</td>\n",
       "      <td>0.643617</td>\n",
       "      <td>0.341665</td>\n",
       "      <td>0.704357</td>\n",
       "      <td>0.486485</td>\n",
       "      <td>0.414652</td>\n",
       "      <td>0.522262</td>\n",
       "      <td>0.532866</td>\n",
       "      <td>0.303637</td>\n",
       "      <td>0.0</td>\n",
       "    </tr>\n",
       "    <tr>\n",
       "      <th>3</th>\n",
       "      <td>0.547809</td>\n",
       "      <td>0.601507</td>\n",
       "      <td>0.379231</td>\n",
       "      <td>0.587863</td>\n",
       "      <td>0.578697</td>\n",
       "      <td>0.317880</td>\n",
       "      <td>0.587787</td>\n",
       "      <td>0.808065</td>\n",
       "      <td>0.601015</td>\n",
       "      <td>0.0</td>\n",
       "    </tr>\n",
       "    <tr>\n",
       "      <th>4</th>\n",
       "      <td>0.609509</td>\n",
       "      <td>0.459449</td>\n",
       "      <td>0.307277</td>\n",
       "      <td>0.443007</td>\n",
       "      <td>0.392160</td>\n",
       "      <td>0.379337</td>\n",
       "      <td>0.300332</td>\n",
       "      <td>0.253606</td>\n",
       "      <td>0.496327</td>\n",
       "      <td>0.0</td>\n",
       "    </tr>\n",
       "    <tr>\n",
       "      <th>...</th>\n",
       "      <td>...</td>\n",
       "      <td>...</td>\n",
       "      <td>...</td>\n",
       "      <td>...</td>\n",
       "      <td>...</td>\n",
       "      <td>...</td>\n",
       "      <td>...</td>\n",
       "      <td>...</td>\n",
       "      <td>...</td>\n",
       "      <td>...</td>\n",
       "    </tr>\n",
       "    <tr>\n",
       "      <th>2988</th>\n",
       "      <td>0.257500</td>\n",
       "      <td>0.513162</td>\n",
       "      <td>0.834574</td>\n",
       "      <td>0.502381</td>\n",
       "      <td>0.590916</td>\n",
       "      <td>0.603192</td>\n",
       "      <td>0.397964</td>\n",
       "      <td>0.535037</td>\n",
       "      <td>0.564534</td>\n",
       "      <td>1.0</td>\n",
       "    </tr>\n",
       "    <tr>\n",
       "      <th>2989</th>\n",
       "      <td>0.507397</td>\n",
       "      <td>0.512613</td>\n",
       "      <td>0.295713</td>\n",
       "      <td>0.588057</td>\n",
       "      <td>0.486485</td>\n",
       "      <td>0.368912</td>\n",
       "      <td>0.649083</td>\n",
       "      <td>0.532673</td>\n",
       "      <td>0.254915</td>\n",
       "      <td>1.0</td>\n",
       "    </tr>\n",
       "    <tr>\n",
       "      <th>2990</th>\n",
       "      <td>0.635550</td>\n",
       "      <td>0.436654</td>\n",
       "      <td>0.577616</td>\n",
       "      <td>0.519961</td>\n",
       "      <td>0.486485</td>\n",
       "      <td>0.438152</td>\n",
       "      <td>0.278634</td>\n",
       "      <td>0.560655</td>\n",
       "      <td>0.349570</td>\n",
       "      <td>1.0</td>\n",
       "    </tr>\n",
       "    <tr>\n",
       "      <th>2991</th>\n",
       "      <td>0.293994</td>\n",
       "      <td>0.670804</td>\n",
       "      <td>0.200486</td>\n",
       "      <td>0.419715</td>\n",
       "      <td>0.486485</td>\n",
       "      <td>0.387157</td>\n",
       "      <td>0.284061</td>\n",
       "      <td>0.622659</td>\n",
       "      <td>0.616120</td>\n",
       "      <td>1.0</td>\n",
       "    </tr>\n",
       "    <tr>\n",
       "      <th>2992</th>\n",
       "      <td>0.512633</td>\n",
       "      <td>0.519227</td>\n",
       "      <td>0.297038</td>\n",
       "      <td>0.535194</td>\n",
       "      <td>0.486485</td>\n",
       "      <td>0.255266</td>\n",
       "      <td>0.491826</td>\n",
       "      <td>0.632478</td>\n",
       "      <td>0.162441</td>\n",
       "      <td>1.0</td>\n",
       "    </tr>\n",
       "  </tbody>\n",
       "</table>\n",
       "<p>2993 rows × 10 columns</p>\n",
       "</div>"
      ],
      "text/plain": [
       "            ph  Hardness    Solids  ...  Trihalomethanes  Turbidity  Potability\n",
       "0     0.449468  0.561018  0.357372  ...         0.699753   0.286091         0.0\n",
       "1     0.181752  0.238802  0.318874  ...         0.450999   0.576793         0.0\n",
       "2     0.530492  0.643617  0.341665  ...         0.532866   0.303637         0.0\n",
       "3     0.547809  0.601507  0.379231  ...         0.808065   0.601015         0.0\n",
       "4     0.609509  0.459449  0.307277  ...         0.253606   0.496327         0.0\n",
       "...        ...       ...       ...  ...              ...        ...         ...\n",
       "2988  0.257500  0.513162  0.834574  ...         0.535037   0.564534         1.0\n",
       "2989  0.507397  0.512613  0.295713  ...         0.532673   0.254915         1.0\n",
       "2990  0.635550  0.436654  0.577616  ...         0.560655   0.349570         1.0\n",
       "2991  0.293994  0.670804  0.200486  ...         0.622659   0.616120         1.0\n",
       "2992  0.512633  0.519227  0.297038  ...         0.632478   0.162441         1.0\n",
       "\n",
       "[2993 rows x 10 columns]"
      ]
     },
     "execution_count": 18,
     "metadata": {},
     "output_type": "execute_result"
    }
   ],
   "source": [
    "df_cleaned = clean_data(df)\n",
    "df_cleaned"
   ]
  },
  {
   "cell_type": "markdown",
   "metadata": {},
   "source": [
    "## Balanceo de datos"
   ]
  },
  {
   "cell_type": "code",
   "execution_count": 20,
   "metadata": {},
   "outputs": [],
   "source": [
    "# Balanceo de datos\n",
    "from imblearn.over_sampling import RandomOverSampler\n",
    "\n",
    "# Seleccionar las características y la variable objetivo\n",
    "\n",
    "features = df_cleaned.drop('Potability', axis=1)  # Asegúrate de cambiar 'target_variable' por el nombre de tu variable objetivo\n",
    "labels = df_cleaned['Potability']\n",
    "\n",
    "# Characteristic selection (ph, Hardness, Solids, Chloramines)\n",
    "features_space = features\n",
    "labels_space = labels.values\n",
    "\n",
    "# Selección de 100 muestras aleatorias\n",
    "random_values = features_space.sample(n=200)\n",
    "X_sample = random_values.values\n",
    "y_sample = labels_space[random_values.index]\n",
    "\n",
    "# Random oversampling\n",
    "oversampler = RandomOverSampler(random_state=0)\n",
    "\n",
    "X_resampled, y_resampled = oversampler.fit_resample(X_sample, y_sample)"
   ]
  },
  {
   "cell_type": "markdown",
   "metadata": {},
   "source": [
    "----------"
   ]
  },
  {
   "cell_type": "markdown",
   "metadata": {},
   "source": [
    "# Dividir los datos en conjuntos de entrenamiento y prueba"
   ]
  },
  {
   "cell_type": "code",
   "execution_count": 26,
   "metadata": {},
   "outputs": [
    {
     "name": "stdout",
     "output_type": "stream",
     "text": [
      "X_train shape: (204, 9)\n",
      "X_test shape: (52, 9)\n"
     ]
    }
   ],
   "source": [
    "import numpy as np\n",
    "from sklearn.model_selection import train_test_split\n",
    "\n",
    "# Redondear los valores en X_resampled a 4 decimales\n",
    "X_resampled_rounded = np.round(X_resampled, 2)\n",
    "\n",
    "# Dividir los datos redondeados en conjuntos de entrenamiento y prueba\n",
    "X_train, X_val, y_train, y_val = train_test_split(X_resampled_rounded, y_resampled, test_size=0.2, random_state=42)\n",
    "\n",
    "print('X_train shape:', X_train.shape)\n",
    "print('X_test shape:', X_val.shape)"
   ]
  },
  {
   "cell_type": "markdown",
   "metadata": {},
   "source": [
    "# Model Implementation"
   ]
  },
  {
   "cell_type": "code",
   "execution_count": 27,
   "metadata": {},
   "outputs": [],
   "source": [
    "train_images = data_to_image(X_train)\n",
    "val_images = data_to_image(X_val)"
   ]
  },
  {
   "cell_type": "code",
   "execution_count": 164,
   "metadata": {},
   "outputs": [],
   "source": [
    "import os\n",
    "import matplotlib.pyplot as plt\n",
    "\n",
    "# Crear una carpeta para guardar las imágenes si no existe\n",
    "if not os.path.exists('images_saved'):\n",
    "    os.makedirs('images_saved')\n",
    "\n",
    "# Iterar sobre el índice de las imágenes\n",
    "for i in range(len(train_images)):\n",
    "    # Mostrar y guardar la imagen actual\n",
    "    plt.imshow(train_images[i][0, :, :])\n",
    "    plt.savefig(f'images_saved/stml_{i}.png')\n",
    "    plt.close()  # Cerrar la figura para evitar que se superpongan las imágenes\n"
   ]
  },
  {
   "cell_type": "code",
   "execution_count": 28,
   "metadata": {},
   "outputs": [
    {
     "name": "stdout",
     "output_type": "stream",
     "text": [
      "(204, 3, 255, 255)\n",
      "(52, 3, 255, 255)\n"
     ]
    },
    {
     "data": {
      "image/png": "[encoded data removed]",
      "text/plain": [
       "<Figure size 640x480 with 1 Axes>"
      ]
     },
     "metadata": {
      "image/png": {
       "height": 416,
       "width": 427
      }
     },
     "output_type": "display_data"
    }
   ],
   "source": [
    "print(train_images.shape)\n",
    "print(val_images.shape)\n",
    "plt.grid()\n",
    "plt.imshow(train_images[12][0, :, :])\n",
    "\n",
    "plt.savefig('imagen_guardada.png')"
   ]
  },
  {
   "cell_type": "markdown",
   "metadata": {},
   "source": [
    "----------"
   ]
  },
  {
   "cell_type": "code",
   "execution_count": 29,
   "metadata": {},
   "outputs": [],
   "source": [
    "X_train = torch.from_numpy(train_images).float()\n",
    "y_train = torch.from_numpy(y_train).long()\n",
    "X_val = torch.from_numpy(val_images).float()\n",
    "y_val = torch.from_numpy(y_val).long()"
   ]
  },
  {
   "cell_type": "code",
   "execution_count": 30,
   "metadata": {},
   "outputs": [],
   "source": [
    "train_dataset = TensorDataset(X_train, y_train)\n",
    "val_dataset = TensorDataset(X_val, y_val)\n",
    "\n",
    "dataloaders = {'train': DataLoader(train_dataset, batch_size=16, shuffle=True),\n",
    "              'val': DataLoader(val_dataset)}\n",
    "\n",
    "dataset_sizes = {'train': len(X_train),\n",
    "                'val': len(X_val)}"
   ]
  },
  {
   "cell_type": "markdown",
   "metadata": {},
   "source": [
    "## Modeling\n",
    "- Transfer Learning from Resnet\n",
    "- I changed just fully connect layer at the end to 3 outputs"
   ]
  },
  {
   "cell_type": "code",
   "execution_count": 31,
   "metadata": {},
   "outputs": [],
   "source": [
    "model = model_res.to(device)\n",
    "\n",
    "criterion = nn.CrossEntropyLoss()\n",
    "optimizer = optim.Adam(model.parameters())\n"
   ]
  },
  {
   "cell_type": "markdown",
   "metadata": {},
   "source": [
    "> Actually IT WORKS!!"
   ]
  },
  {
   "cell_type": "code",
   "execution_count": 32,
   "metadata": {},
   "outputs": [
    {
     "name": "stdout",
     "output_type": "stream",
     "text": [
      "EPOCH 1/1:\n",
      "----------\n",
      "train Loss: 0.8497 Acc: 0.5784\n",
      "val Loss: 1.3728 Acc: 0.5192\n",
      "\n",
      "Training completed in 0m 53s\n",
      "BEST VALIDATION ACCURACY: 0.5192\n"
     ]
    }
   ],
   "source": [
    "best_model = train_model(model, dataloaders, dataset_sizes, criterion, optimizer, device)"
   ]
  },
  {
   "attachments": {},
   "cell_type": "markdown",
   "metadata": {},
   "source": [
    "## Further Experiments\n",
    "One of my study group members was curious if the performance could be affected by the columns' positions. Let's check! I will change its position like below left to right and the other conditions are all same.\n",
    "\n",
    "![compare.png](./compare.png)\n",
    "\n",
    "result: Their Location doesn't matter with model performance"
   ]
  },
  {
   "cell_type": "code",
   "execution_count": null,
   "metadata": {},
   "outputs": [],
   "source": [
    "from data_preparation import data_to_image_another\n",
    "\n",
    "iris_data = load_iris()\n",
    "\n",
    "X_train, X_val, y_train, y_val = train_test_split(iris_data.data, iris_data.target, stratify=iris_data.target, test_size=0.2, random_state=0)\n",
    "\n",
    "train_images = data_to_image_another(X_train)\n",
    "val_images = data_to_image_another(X_val)\n",
    "\n",
    "print(train_images.shape)\n",
    "print(val_images.shape)\n",
    "plt.grid()\n",
    "plt.imshow(train_images[0][0, :, :])"
   ]
  },
  {
   "cell_type": "code",
   "execution_count": null,
   "metadata": {},
   "outputs": [],
   "source": [
    "X_train = torch.from_numpy(train_images).float()\n",
    "y_train = torch.from_numpy(y_train).long()\n",
    "X_val = torch.from_numpy(val_images).float()\n",
    "y_val = torch.from_numpy(y_val).long()\n",
    "\n",
    "train_dataset = TensorDataset(X_train, y_train)\n",
    "val_dataset = TensorDataset(X_val, y_val)\n",
    "\n",
    "dataloaders = {'train': DataLoader(train_dataset, batch_size=16, shuffle=True),\n",
    "              'val': DataLoader(val_dataset)}\n",
    "\n",
    "dataset_sizes = {'train': len(X_train),\n",
    "                'val': len(X_val)}\n",
    "\n",
    "model_another = model_res.to(device)\n",
    "\n",
    "criterion = nn.CrossEntropyLoss()\n",
    "optimizer = optim.Adam(model_another.parameters())\n",
    "\n",
    "best_model = train_model(model_another, dataloaders, dataset_sizes, criterion, optimizer, device, epochs=20)"
   ]
  },
  {
   "cell_type": "markdown",
   "metadata": {},
   "source": [
    "---\n",
    "I just coded for fun and curiosity, but this simple implementation gives very new insights of relation between tabular data and embeddings."
   ]
  }
 ],
 "metadata": {
  "kernelspec": {
   "display_name": "Python 3",
   "language": "python",
   "name": "python3"
  },
  "language_info": {
   "codemirror_mode": {
    "name": "ipython",
    "version": 3
   },
   "file_extension": ".py",
   "mimetype": "text/x-python",
   "name": "python",
   "nbconvert_exporter": "python",
   "pygments_lexer": "ipython3",
   "version": "3.10.13"
  }
 },
 "nbformat": 4,
 "nbformat_minor": 4
}
